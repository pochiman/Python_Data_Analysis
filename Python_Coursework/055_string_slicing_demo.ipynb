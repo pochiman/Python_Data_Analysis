{
 "cells": [
  {
   "cell_type": "code",
   "execution_count": 1,
   "id": "71c7c225-5a5c-4069-b394-617142f071a3",
   "metadata": {},
   "outputs": [],
   "source": [
    "movie = \"It's a Mega Blockbuster\""
   ]
  },
  {
   "cell_type": "code",
   "execution_count": 2,
   "id": "c3783fe6-6392-4006-8dc9-e067468fb636",
   "metadata": {},
   "outputs": [
    {
     "data": {
      "text/plain": [
       "\"It's\""
      ]
     },
     "execution_count": 2,
     "metadata": {},
     "output_type": "execute_result"
    }
   ],
   "source": [
    "movie[:4]"
   ]
  },
  {
   "cell_type": "code",
   "execution_count": 3,
   "id": "2be599dd-09a0-45e3-b55b-91c8109e6299",
   "metadata": {},
   "outputs": [
    {
     "data": {
      "text/plain": [
       "'a Mega Blockbuster'"
      ]
     },
     "execution_count": 3,
     "metadata": {},
     "output_type": "execute_result"
    }
   ],
   "source": [
    "movie[5:]"
   ]
  },
  {
   "cell_type": "code",
   "execution_count": 4,
   "id": "967fb083-a433-46ce-9b73-e9fef6fe2334",
   "metadata": {},
   "outputs": [
    {
     "data": {
      "text/plain": [
       "'Is gBcue'"
      ]
     },
     "execution_count": 4,
     "metadata": {},
     "output_type": "execute_result"
    }
   ],
   "source": [
    "movie[::3]"
   ]
  },
  {
   "cell_type": "code",
   "execution_count": 5,
   "id": "9932e2be-1677-43f5-a9ad-13a1d01dd811",
   "metadata": {},
   "outputs": [
    {
     "data": {
      "text/plain": [
       "\"retsubkcolB ageM a s'tI\""
      ]
     },
     "execution_count": 5,
     "metadata": {},
     "output_type": "execute_result"
    }
   ],
   "source": [
    "movie[::-1]"
   ]
  },
  {
   "cell_type": "code",
   "execution_count": 6,
   "id": "2c113672-6db0-4f58-8b5d-3b5d6d631aaf",
   "metadata": {},
   "outputs": [
    {
     "data": {
      "text/plain": [
       "'buster'"
      ]
     },
     "execution_count": 6,
     "metadata": {},
     "output_type": "execute_result"
    }
   ],
   "source": [
    "movie[-6:]"
   ]
  },
  {
   "cell_type": "code",
   "execution_count": null,
   "id": "b1196867-a8c9-4249-bc44-b3d3eb90cb71",
   "metadata": {},
   "outputs": [],
   "source": []
  }
 ],
 "metadata": {
  "kernelspec": {
   "display_name": "Python 3 (ipykernel)",
   "language": "python",
   "name": "python3"
  },
  "language_info": {
   "codemirror_mode": {
    "name": "ipython",
    "version": 3
   },
   "file_extension": ".py",
   "mimetype": "text/x-python",
   "name": "python",
   "nbconvert_exporter": "python",
   "pygments_lexer": "ipython3",
   "version": "3.11.10"
  }
 },
 "nbformat": 4,
 "nbformat_minor": 5
}
