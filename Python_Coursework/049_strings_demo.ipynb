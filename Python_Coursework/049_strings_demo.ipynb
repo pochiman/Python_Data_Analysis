{
 "cells": [
  {
   "cell_type": "code",
   "execution_count": 1,
   "id": "6ef46fab-452c-459e-be80-9607f5d81dbe",
   "metadata": {},
   "outputs": [
    {
     "name": "stdout",
     "output_type": "stream",
     "text": [
      "Mega Blockbuster\n"
     ]
    }
   ],
   "source": [
    "movie = 'Mega Blockbuster'\n",
    "\n",
    "print(movie)"
   ]
  },
  {
   "cell_type": "code",
   "execution_count": 1,
   "id": "3b3cb992-3594-4b6d-9b1a-3c153a51cc86",
   "metadata": {},
   "outputs": [
    {
     "name": "stdout",
     "output_type": "stream",
     "text": [
      "It's a Mega Blockbuster\n"
     ]
    }
   ],
   "source": [
    "movie = 'It\\'s a Mega Blockbuster'\n",
    "\n",
    "print(movie)"
   ]
  },
  {
   "cell_type": "code",
   "execution_count": 2,
   "id": "fc5bd64b-70eb-41c2-9f28-5e073267f449",
   "metadata": {},
   "outputs": [
    {
     "name": "stdout",
     "output_type": "stream",
     "text": [
      "It's a Mega Blockbuster\n"
     ]
    }
   ],
   "source": [
    "movie = \"It's a Mega Blockbuster\"\n",
    "\n",
    "print(movie)"
   ]
  },
  {
   "cell_type": "code",
   "execution_count": 3,
   "id": "b5463afe-ab62-4ff9-a7cd-b23cd4ce7268",
   "metadata": {},
   "outputs": [
    {
     "name": "stdout",
     "output_type": "stream",
     "text": [
      "\"Mega\" Blockbuster\n"
     ]
    }
   ],
   "source": [
    "movie = '\"Mega\" Blockbuster'\n",
    "\n",
    "print(movie)"
   ]
  },
  {
   "cell_type": "code",
   "execution_count": 4,
   "id": "6744787f-a626-452f-a186-3375589aeb55",
   "metadata": {},
   "outputs": [
    {
     "name": "stdout",
     "output_type": "stream",
     "text": [
      "It's a \"Mega\" Blockbuster was a very good \n",
      "movie and I want to \n",
      "see it again so bad\n"
     ]
    }
   ],
   "source": [
    "movie = '''It's a \"Mega\" Blockbuster was a very good \n",
    "movie and I want to \n",
    "see it again so bad'''\n",
    "\n",
    "print(movie)"
   ]
  },
  {
   "cell_type": "code",
   "execution_count": 5,
   "id": "732e7b53-c5a1-4d68-b086-127d71a8dbb7",
   "metadata": {},
   "outputs": [
    {
     "name": "stdout",
     "output_type": "stream",
     "text": [
      "Mega Blockbuster was very good\n"
     ]
    }
   ],
   "source": [
    "movie = 'Mega Blockbuster'\n",
    "review = 'Was very good'\n",
    "\n",
    "print(movie + ' ' + review.lower())"
   ]
  },
  {
   "cell_type": "code",
   "execution_count": 6,
   "id": "6f0038c0-b342-43f7-8719-fc1f6d7ece70",
   "metadata": {},
   "outputs": [
    {
     "data": {
      "text/plain": [
       "'Mega Blockbuster Mega Blockbuster Mega Blockbuster Mega Blockbuster '"
      ]
     },
     "execution_count": 6,
     "metadata": {},
     "output_type": "execute_result"
    }
   ],
   "source": [
    "(movie + ' ') * 4"
   ]
  },
  {
   "cell_type": "code",
   "execution_count": null,
   "id": "bc728e85-9ac7-47d0-8183-b37aad26c15b",
   "metadata": {},
   "outputs": [],
   "source": []
  }
 ],
 "metadata": {
  "kernelspec": {
   "display_name": "Python 3 (ipykernel)",
   "language": "python",
   "name": "python3"
  },
  "language_info": {
   "codemirror_mode": {
    "name": "ipython",
    "version": 3
   },
   "file_extension": ".py",
   "mimetype": "text/x-python",
   "name": "python",
   "nbconvert_exporter": "python",
   "pygments_lexer": "ipython3",
   "version": "3.11.10"
  }
 },
 "nbformat": 4,
 "nbformat_minor": 5
}
