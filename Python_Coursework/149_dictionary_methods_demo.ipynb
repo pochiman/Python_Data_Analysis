{
 "cells": [
  {
   "cell_type": "code",
   "execution_count": 1,
   "id": "00d337f6-6620-442f-a765-308d1b8482cd",
   "metadata": {},
   "outputs": [],
   "source": [
    "customer_sales = {\n",
    "    'C00001': [224.99, 87.36],\n",
    "    'C00004': [125.56],\n",
    "    'C00014': [99.99, 104.26, 23.57],\n",
    "    'C00015': [82.65, 56.88, 201.82, 519.55]\n",
    "}"
   ]
  },
  {
   "cell_type": "code",
   "execution_count": 2,
   "id": "1097786e-dd39-4f2f-97d1-7abdbc31626e",
   "metadata": {},
   "outputs": [
    {
     "data": {
      "text/plain": [
       "['C00001', 'C00004', 'C00014', 'C00015']"
      ]
     },
     "execution_count": 2,
     "metadata": {},
     "output_type": "execute_result"
    }
   ],
   "source": [
    "customer_ids = list(customer_sales.keys())\n",
    "\n",
    "customer_ids"
   ]
  },
  {
   "cell_type": "code",
   "execution_count": 3,
   "id": "6007867b-d8f3-4785-a78c-33d2b6c60da2",
   "metadata": {},
   "outputs": [
    {
     "data": {
      "text/plain": [
       "[[224.99, 87.36],\n",
       " [125.56],\n",
       " [99.99, 104.26, 23.57],\n",
       " [82.65, 56.88, 201.82, 519.55]]"
      ]
     },
     "execution_count": 3,
     "metadata": {},
     "output_type": "execute_result"
    }
   ],
   "source": [
    "list(customer_sales.values())"
   ]
  },
  {
   "cell_type": "code",
   "execution_count": 4,
   "id": "be751c9c-e902-43da-9380-f459b79fb3d2",
   "metadata": {},
   "outputs": [
    {
     "name": "stdout",
     "output_type": "stream",
     "text": [
      "312.35\n",
      "125.56\n",
      "227.82\n",
      "860.9\n"
     ]
    }
   ],
   "source": [
    "for sales in customer_sales.values():\n",
    "    print(sum(sales))"
   ]
  },
  {
   "cell_type": "code",
   "execution_count": 5,
   "id": "10b65dfb-17d7-4b85-938f-adaf1a05bd73",
   "metadata": {},
   "outputs": [
    {
     "data": {
      "text/plain": [
       "{'C00001': 312.35, 'C00004': 125.56, 'C00014': 227.82, 'C00015': 860.9}"
      ]
     },
     "execution_count": 5,
     "metadata": {},
     "output_type": "execute_result"
    }
   ],
   "source": [
    "total_sales = {}\n",
    "\n",
    "for customer_id, sales in customer_sales.items():\n",
    "    total_sales[customer_id] = sum(sales)\n",
    "\n",
    "total_sales"
   ]
  },
  {
   "cell_type": "code",
   "execution_count": 6,
   "id": "95daf832-460b-4917-8e1a-8277509e46d0",
   "metadata": {},
   "outputs": [
    {
     "name": "stdout",
     "output_type": "stream",
     "text": [
      "[224.99, 87.36]\n"
     ]
    },
    {
     "ename": "KeyError",
     "evalue": "'C00003'",
     "output_type": "error",
     "traceback": [
      "\u001b[0;31m---------------------------------------------------------------------------\u001b[0m",
      "\u001b[0;31mKeyError\u001b[0m                                  Traceback (most recent call last)",
      "Cell \u001b[0;32mIn[6], line 4\u001b[0m\n\u001b[1;32m      1\u001b[0m vip_customers \u001b[38;5;241m=\u001b[39m [\u001b[38;5;124m'\u001b[39m\u001b[38;5;124mC00001\u001b[39m\u001b[38;5;124m'\u001b[39m, \u001b[38;5;124m'\u001b[39m\u001b[38;5;124mC00003\u001b[39m\u001b[38;5;124m'\u001b[39m, \u001b[38;5;124m'\u001b[39m\u001b[38;5;124mC00014\u001b[39m\u001b[38;5;124m'\u001b[39m]\n\u001b[1;32m      3\u001b[0m \u001b[38;5;28;01mfor\u001b[39;00m customer \u001b[38;5;129;01min\u001b[39;00m vip_customers:\n\u001b[0;32m----> 4\u001b[0m     \u001b[38;5;28mprint\u001b[39m(\u001b[43mcustomer_sales\u001b[49m\u001b[43m[\u001b[49m\u001b[43mcustomer\u001b[49m\u001b[43m]\u001b[49m)\n",
      "\u001b[0;31mKeyError\u001b[0m: 'C00003'"
     ]
    }
   ],
   "source": [
    "vip_customers = ['C00001', 'C00003', 'C00014']\n",
    "\n",
    "for customer in vip_customers:\n",
    "    print(customer_sales[customer])"
   ]
  },
  {
   "cell_type": "code",
   "execution_count": 7,
   "id": "3e0f040a-b97c-4452-a0ad-160fe5c23a6f",
   "metadata": {},
   "outputs": [
    {
     "name": "stdout",
     "output_type": "stream",
     "text": [
      "[224.99, 87.36]\n",
      "No longer VIP\n",
      "[99.99, 104.26, 23.57]\n"
     ]
    }
   ],
   "source": [
    "for customer in vip_customers:\n",
    "    print(customer_sales.get(customer, 'No longer VIP'))"
   ]
  },
  {
   "cell_type": "code",
   "execution_count": 8,
   "id": "ff06cee1-8425-4622-bc97-ed80332e65af",
   "metadata": {},
   "outputs": [
    {
     "data": {
      "text/plain": [
       "{'C00001': [224.99, 87.36],\n",
       " 'C00004': [125.56],\n",
       " 'C00014': [99.99, 104.26, 23.57],\n",
       " 'C00015': [82.65, 56.88, 201.82, 519.55],\n",
       " 'C00005': [105.44],\n",
       " 'C00022': [28.99]}"
      ]
     },
     "execution_count": 8,
     "metadata": {},
     "output_type": "execute_result"
    }
   ],
   "source": [
    "new_customers = {'C00005': [105.44], 'C00022': [28.99]}\n",
    "\n",
    "customer_sales.update(new_customers)\n",
    "\n",
    "customer_sales"
   ]
  },
  {
   "cell_type": "code",
   "execution_count": null,
   "id": "a78c4707-149b-4b00-a796-b8df002f402f",
   "metadata": {},
   "outputs": [],
   "source": []
  }
 ],
 "metadata": {
  "kernelspec": {
   "display_name": "Python 3 (ipykernel)",
   "language": "python",
   "name": "python3"
  },
  "language_info": {
   "codemirror_mode": {
    "name": "ipython",
    "version": 3
   },
   "file_extension": ".py",
   "mimetype": "text/x-python",
   "name": "python",
   "nbconvert_exporter": "python",
   "pygments_lexer": "ipython3",
   "version": "3.11.10"
  }
 },
 "nbformat": 4,
 "nbformat_minor": 5
}
