{
 "cells": [
  {
   "cell_type": "markdown",
   "id": "8b22e321",
   "metadata": {},
   "source": [
    "### Black Friday Data\n",
    "\n",
    "We've compiled lists of the black friday `customer_ids` and `subtotals`, the amount before tax, below"
   ]
  },
  {
   "cell_type": "code",
   "execution_count": 1,
   "id": "8db14e71",
   "metadata": {},
   "outputs": [],
   "source": [
    "customer_ids = [\n",
    "    'C00004', 'C00007', 'C00015', 'C00016', 'C00020',\n",
    "    'C00010', 'C00006', 'C00001', 'C00003', 'C00014',\n",
    "    'C00001', 'C00001', 'C00005', 'C00008', 'C00013',\n",
    "    'C00004', 'C00017', 'C00019', 'C00002', 'C00008',\n",
    "    'C00021', 'C00022', 'C00006', 'C00018', 'C00018',\n",
    "    'C00010', 'C00016'\n",
    "]\n",
    "\n",
    "subtotals = [\n",
    "    15.98, 899.97, 799.97, 117.96, 5.99,\n",
    "    599.99, 24.99, 1799.94, 99.99, 254.95,\n",
    "    29.98, 99.99, 25.98, 649.98, 89.99,\n",
    "    119.99, 599.99, 649.98, 24.99, 99.99,\n",
    "    99.99, 5.99, 24.99, 999.96, 99.99,\n",
    "    399.97, 89.99\n",
    "]"
   ]
  },
  {
   "cell_type": "markdown",
   "id": "79568666",
   "metadata": {},
   "source": [
    "### Calculate the Average Transaction\n",
    "\n",
    "Calculate the average value of the transactions in the list  `subtotals`.\n",
    "\n",
    "We don't have an average function, so we might need to use sum() and len() to do so. "
   ]
  },
  {
   "cell_type": "code",
   "execution_count": 3,
   "id": "503c3721",
   "metadata": {},
   "outputs": [
    {
     "data": {
      "text/plain": [
       "323.39"
      ]
     },
     "execution_count": 3,
     "metadata": {},
     "output_type": "execute_result"
    }
   ],
   "source": [
    "round(sum(subtotals)/len(subtotals), 2)"
   ]
  },
  {
   "cell_type": "markdown",
   "id": "571b0526",
   "metadata": {},
   "source": [
    "### Customer Deep Dive\n",
    "\n",
    "How many transactions did customer C00010 make?"
   ]
  },
  {
   "cell_type": "code",
   "execution_count": 4,
   "id": "fdf4f742",
   "metadata": {},
   "outputs": [
    {
     "data": {
      "text/plain": [
       "2"
      ]
     },
     "execution_count": 4,
     "metadata": {},
     "output_type": "execute_result"
    }
   ],
   "source": [
    "customer_ids.count('C00010')"
   ]
  },
  {
   "cell_type": "markdown",
   "id": "8b59bc03",
   "metadata": {},
   "source": [
    "What is the index of customer C00010's first transaction?"
   ]
  },
  {
   "cell_type": "code",
   "execution_count": 5,
   "id": "638cd448",
   "metadata": {},
   "outputs": [
    {
     "data": {
      "text/plain": [
       "5"
      ]
     },
     "execution_count": 5,
     "metadata": {},
     "output_type": "execute_result"
    }
   ],
   "source": [
    "customer_ids.index('C00010')"
   ]
  },
  {
   "cell_type": "markdown",
   "id": "54edca61",
   "metadata": {},
   "source": [
    "What is the revenue of C00010's first transaction? \n",
    "\n",
    "We will need to index `subtotals` using the index returned in the last question."
   ]
  },
  {
   "cell_type": "code",
   "execution_count": 6,
   "id": "a21f8f8f",
   "metadata": {},
   "outputs": [
    {
     "data": {
      "text/plain": [
       "599.99"
      ]
     },
     "execution_count": 6,
     "metadata": {},
     "output_type": "execute_result"
    }
   ],
   "source": [
    "subtotals[customer_ids.index('C00010')]"
   ]
  },
  {
   "cell_type": "markdown",
   "id": "1112ab2b",
   "metadata": {},
   "source": [
    "### Print a sorted list of customer ID's.\n",
    "\n",
    "We want to scan this to see if any of our loyal customers didn't make a purchase.\n",
    "\n",
    "Don't change `customer_ids` when you sort!"
   ]
  },
  {
   "cell_type": "code",
   "execution_count": 7,
   "id": "01ef8eb7",
   "metadata": {},
   "outputs": [
    {
     "name": "stdout",
     "output_type": "stream",
     "text": [
      "['C00001', 'C00001', 'C00001', 'C00002', 'C00003', 'C00004', 'C00004', 'C00005', 'C00006', 'C00006', 'C00007', 'C00008', 'C00008', 'C00010', 'C00010', 'C00013', 'C00014', 'C00015', 'C00016', 'C00016', 'C00017', 'C00018', 'C00018', 'C00019', 'C00020', 'C00021', 'C00022']\n"
     ]
    }
   ],
   "source": [
    "print(sorted(customer_ids))"
   ]
  },
  {
   "cell_type": "code",
   "execution_count": null,
   "id": "1dc67585",
   "metadata": {},
   "outputs": [],
   "source": []
  }
 ],
 "metadata": {
  "kernelspec": {
   "display_name": "Python 3 (ipykernel)",
   "language": "python",
   "name": "python3"
  },
  "language_info": {
   "codemirror_mode": {
    "name": "ipython",
    "version": 3
   },
   "file_extension": ".py",
   "mimetype": "text/x-python",
   "name": "python",
   "nbconvert_exporter": "python",
   "pygments_lexer": "ipython3",
   "version": "3.11.10"
  }
 },
 "nbformat": 4,
 "nbformat_minor": 5
}
