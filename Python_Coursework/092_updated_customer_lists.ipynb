{
 "cells": [
  {
   "cell_type": "markdown",
   "id": "80f78a5d",
   "metadata": {},
   "source": [
    "### Updated Customer Lists\n",
    "\n",
    "Hi there, we need to add customer 'C00009' to `customer_list`, we just found their receipt in the warehouse.\n",
    "\n",
    "I've included the original `customer_list` below."
   ]
  },
  {
   "cell_type": "code",
   "execution_count": 1,
   "id": "ae8b954c",
   "metadata": {},
   "outputs": [],
   "source": [
    "customer_list = [\n",
    "    'C00001', 'C00003', 'C00004',\n",
    "    'C00005', 'C00006', 'C00007', \n",
    "    'C00008', 'C00010', 'C00013', \n",
    "    'C00014', 'C00015', 'C00016', \n",
    "    'C00020']"
   ]
  },
  {
   "cell_type": "code",
   "execution_count": 2,
   "id": "325d8278",
   "metadata": {},
   "outputs": [
    {
     "data": {
      "text/plain": [
       "['C00001',\n",
       " 'C00003',\n",
       " 'C00004',\n",
       " 'C00005',\n",
       " 'C00006',\n",
       " 'C00007',\n",
       " 'C00008',\n",
       " 'C00010',\n",
       " 'C00013',\n",
       " 'C00014',\n",
       " 'C00015',\n",
       " 'C00016',\n",
       " 'C00020',\n",
       " 'C00009']"
      ]
     },
     "execution_count": 2,
     "metadata": {},
     "output_type": "execute_result"
    }
   ],
   "source": [
    "customer_list.append('C00009')\n",
    "\n",
    "customer_list"
   ]
  },
  {
   "cell_type": "code",
   "execution_count": 3,
   "id": "cef902f5-6976-480f-b9d4-03d195a9e217",
   "metadata": {},
   "outputs": [
    {
     "data": {
      "text/plain": [
       "['C00001',\n",
       " 'C00003',\n",
       " 'C00004',\n",
       " 'C00005',\n",
       " 'C00006',\n",
       " 'C00007',\n",
       " 'C00008',\n",
       " 'C00009',\n",
       " 'C00010',\n",
       " 'C00013',\n",
       " 'C00014',\n",
       " 'C00015',\n",
       " 'C00016',\n",
       " 'C00020',\n",
       " 'C00009']"
      ]
     },
     "execution_count": 3,
     "metadata": {},
     "output_type": "execute_result"
    }
   ],
   "source": [
    "customer_list.insert(7, 'C00009')\n",
    "\n",
    "customer_list"
   ]
  },
  {
   "cell_type": "markdown",
   "id": "dd19810a",
   "metadata": {},
   "source": [
    "### Adding Saturday Customers\n",
    "\n",
    "Add the customers from `saturday_list` to `customer_list` below."
   ]
  },
  {
   "cell_type": "code",
   "execution_count": 4,
   "id": "f2fd414a",
   "metadata": {},
   "outputs": [],
   "source": [
    "saturday_list = ['C00004', 'C00017', 'C00019', 'C00002', 'C00008',\n",
    "                 'C00021', 'C00022']"
   ]
  },
  {
   "cell_type": "code",
   "execution_count": 5,
   "id": "ed0b3c31",
   "metadata": {},
   "outputs": [
    {
     "data": {
      "text/plain": [
       "['C00001',\n",
       " 'C00003',\n",
       " 'C00004',\n",
       " 'C00005',\n",
       " 'C00006',\n",
       " 'C00007',\n",
       " 'C00008',\n",
       " 'C00009',\n",
       " 'C00010',\n",
       " 'C00013',\n",
       " 'C00014',\n",
       " 'C00015',\n",
       " 'C00016',\n",
       " 'C00020',\n",
       " 'C00009',\n",
       " 'C00004',\n",
       " 'C00017',\n",
       " 'C00019',\n",
       " 'C00002',\n",
       " 'C00008',\n",
       " 'C00021',\n",
       " 'C00022']"
      ]
     },
     "execution_count": 5,
     "metadata": {},
     "output_type": "execute_result"
    }
   ],
   "source": [
    "customer_list = customer_list + saturday_list\n",
    "\n",
    "customer_list"
   ]
  },
  {
   "cell_type": "code",
   "execution_count": null,
   "id": "5d743aac-8ceb-4429-b9d1-cb0a33734b86",
   "metadata": {},
   "outputs": [],
   "source": []
  }
 ],
 "metadata": {
  "kernelspec": {
   "display_name": "Python 3 (ipykernel)",
   "language": "python",
   "name": "python3"
  },
  "language_info": {
   "codemirror_mode": {
    "name": "ipython",
    "version": 3
   },
   "file_extension": ".py",
   "mimetype": "text/x-python",
   "name": "python",
   "nbconvert_exporter": "python",
   "pygments_lexer": "ipython3",
   "version": "3.11.10"
  }
 },
 "nbformat": 4,
 "nbformat_minor": 5
}
