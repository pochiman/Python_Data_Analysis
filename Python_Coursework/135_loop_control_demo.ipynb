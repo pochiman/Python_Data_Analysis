{
 "cells": [
  {
   "cell_type": "code",
   "execution_count": 1,
   "id": "ce494178-609b-4ab8-a0c1-1a4b36bc932f",
   "metadata": {},
   "outputs": [
    {
     "data": {
      "text/plain": [
       "'Ma'"
      ]
     },
     "execution_count": 1,
     "metadata": {},
     "output_type": "execute_result"
    }
   ],
   "source": [
    "word = 'Maven'\n",
    "new_word = ''\n",
    "\n",
    "for letter in word:\n",
    "    if letter == 'v':\n",
    "        break\n",
    "    new_word += letter\n",
    "\n",
    "new_word"
   ]
  },
  {
   "cell_type": "code",
   "execution_count": 2,
   "id": "c49904ad-8df0-4b0b-a36d-8a652065748c",
   "metadata": {},
   "outputs": [
    {
     "name": "stdout",
     "output_type": "stream",
     "text": [
      "1\n",
      "5\n",
      "3\n",
      "incorrect data\n",
      "4\n"
     ]
    }
   ],
   "source": [
    "ratings = [\n",
    "    '1 star', '5 star', '3 star', 'star 5', '4 star'\n",
    "]\n",
    "\n",
    "for rating in ratings:\n",
    "    try:\n",
    "        print(int(rating[0]))\n",
    "    except ValueError:\n",
    "        print('incorrect data')"
   ]
  },
  {
   "cell_type": "code",
   "execution_count": null,
   "id": "9bcf50be-29d1-43cb-a688-0d80e670ea8c",
   "metadata": {},
   "outputs": [],
   "source": []
  }
 ],
 "metadata": {
  "kernelspec": {
   "display_name": "Python 3 (ipykernel)",
   "language": "python",
   "name": "python3"
  },
  "language_info": {
   "codemirror_mode": {
    "name": "ipython",
    "version": 3
   },
   "file_extension": ".py",
   "mimetype": "text/x-python",
   "name": "python",
   "nbconvert_exporter": "python",
   "pygments_lexer": "ipython3",
   "version": "3.11.10"
  }
 },
 "nbformat": 4,
 "nbformat_minor": 5
}
