{
 "cells": [
  {
   "cell_type": "code",
   "execution_count": 3,
   "id": "5dae2790-c639-4111-92c8-58ab79fb8b10",
   "metadata": {},
   "outputs": [
    {
     "name": "stdout",
     "output_type": "stream",
     "text": [
      "dimensions\t product\t size\t \n"
     ]
    }
   ],
   "source": [
    "product = 'Super Snowboard'\n",
    "size = 'Medium'\n",
    "dimensions = [160, 25, 2]\n",
    "\n",
    "%who"
   ]
  },
  {
   "cell_type": "code",
   "execution_count": 4,
   "id": "94c4a26a-e347-47a7-8817-bcad8f246aa9",
   "metadata": {},
   "outputs": [
    {
     "name": "stdout",
     "output_type": "stream",
     "text": [
      "Variable     Type    Data/Info\n",
      "------------------------------\n",
      "dimensions   list    n=3\n",
      "product      str     Super Snowboard\n",
      "size         str     Medium\n"
     ]
    }
   ],
   "source": [
    "%whos"
   ]
  },
  {
   "cell_type": "code",
   "execution_count": 5,
   "id": "2bf643ad-cd08-4537-b624-dd28eb5a87b2",
   "metadata": {},
   "outputs": [
    {
     "data": {
      "text/plain": [
       "['skis', 'snowboard', 'sled']"
      ]
     },
     "execution_count": 5,
     "metadata": {},
     "output_type": "execute_result"
    }
   ],
   "source": [
    "items_2024 = ['skis', 'snowboard', 'sled']\n",
    "items_2024"
   ]
  },
  {
   "cell_type": "code",
   "execution_count": 6,
   "id": "854ff682-b27a-47e9-97f1-5027a09c6b06",
   "metadata": {},
   "outputs": [
    {
     "ename": "SyntaxError",
     "evalue": "invalid decimal literal (2019074977.py, line 1)",
     "output_type": "error",
     "traceback": [
      "\u001b[0;36m  Cell \u001b[0;32mIn[6], line 1\u001b[0;36m\u001b[0m\n\u001b[0;31m    2024_items\u001b[0m\n\u001b[0m        ^\u001b[0m\n\u001b[0;31mSyntaxError\u001b[0m\u001b[0;31m:\u001b[0m invalid decimal literal\n"
     ]
    }
   ],
   "source": [
    "2024_items"
   ]
  },
  {
   "cell_type": "code",
   "execution_count": 7,
   "id": "c039404f-2d00-4712-b8d3-02ce4b8bd597",
   "metadata": {},
   "outputs": [
    {
     "ename": "TypeError",
     "evalue": "unsupported operand type(s) for -: 'int' and 'list'",
     "output_type": "error",
     "traceback": [
      "\u001b[0;31m---------------------------------------------------------------------------\u001b[0m",
      "\u001b[0;31mTypeError\u001b[0m                                 Traceback (most recent call last)",
      "Cell \u001b[0;32mIn[7], line 1\u001b[0m\n\u001b[0;32m----> 1\u001b[0m \u001b[38;5;241;43m2024\u001b[39;49m\u001b[43m \u001b[49m\u001b[38;5;241;43m-\u001b[39;49m\u001b[43m \u001b[49m\u001b[43mitems_2024\u001b[49m\n",
      "\u001b[0;31mTypeError\u001b[0m: unsupported operand type(s) for -: 'int' and 'list'"
     ]
    }
   ],
   "source": [
    "2024 - items_2024"
   ]
  },
  {
   "cell_type": "code",
   "execution_count": 8,
   "id": "d810400f-c072-497e-bf07-39422f9cf765",
   "metadata": {},
   "outputs": [
    {
     "ename": "NameError",
     "evalue": "name 'items' is not defined",
     "output_type": "error",
     "traceback": [
      "\u001b[0;31m---------------------------------------------------------------------------\u001b[0m",
      "\u001b[0;31mNameError\u001b[0m                                 Traceback (most recent call last)",
      "Cell \u001b[0;32mIn[8], line 1\u001b[0m\n\u001b[0;32m----> 1\u001b[0m \u001b[43mitems\u001b[49m\u001b[38;5;66;03m#2024 = [103, 222,]\u001b[39;00m\n",
      "\u001b[0;31mNameError\u001b[0m: name 'items' is not defined"
     ]
    }
   ],
   "source": [
    "items#2024 = [103, 222,]"
   ]
  },
  {
   "cell_type": "code",
   "execution_count": null,
   "id": "e74977cb-809f-475a-800d-613a2b526892",
   "metadata": {},
   "outputs": [],
   "source": []
  }
 ],
 "metadata": {
  "kernelspec": {
   "display_name": "Python 3 (ipykernel)",
   "language": "python",
   "name": "python3"
  },
  "language_info": {
   "codemirror_mode": {
    "name": "ipython",
    "version": 3
   },
   "file_extension": ".py",
   "mimetype": "text/x-python",
   "name": "python",
   "nbconvert_exporter": "python",
   "pygments_lexer": "ipython3",
   "version": "3.11.6"
  }
 },
 "nbformat": 4,
 "nbformat_minor": 5
}
