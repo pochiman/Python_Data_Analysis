{
 "cells": [
  {
   "cell_type": "markdown",
   "id": "216db9ee",
   "metadata": {},
   "source": [
    "### New Currency Prices\n",
    "\n",
    "Hi there, we need to add British Pound and Japanese Yen pricing to our 'Item_Info' sheet in the Maven data Excel workbook.\n",
    "\n",
    "I've included the code to read in the excel workbook below."
   ]
  },
  {
   "cell_type": "code",
   "execution_count": 1,
   "id": "271e8ef7",
   "metadata": {},
   "outputs": [],
   "source": [
    "import openpyxl as xl\n",
    "\n",
    "wb = xl.load_workbook(filename='maven_ski_shop_data.xlsx')\n",
    "\n",
    "items = wb['Item_Info']"
   ]
  },
  {
   "cell_type": "markdown",
   "id": "ce75f800",
   "metadata": {},
   "source": [
    "### Currency Converter\n",
    "\n",
    "Since we're going to be doing this a few times (and hopefully more in the future), let's create a currency_converter function to take a price, and an exchange rate, returning a converted price rounded to two decimal places."
   ]
  },
  {
   "cell_type": "code",
   "execution_count": 2,
   "id": "231d4e8b",
   "metadata": {},
   "outputs": [],
   "source": [
    "def currency_converter(price, ex_rate=.88):\n",
    "    return round(price * ex_rate, 2)"
   ]
  },
  {
   "cell_type": "markdown",
   "id": "c4685278",
   "metadata": {},
   "source": [
    "### British Pound Column\n",
    "\n",
    "Now that we have a currency converter, create a column with British Pound prices, in the column to the right of the Euro prices.\n",
    "\n",
    "Don't forget to add a column title - 'GBP Price' Should Work!"
   ]
  },
  {
   "cell_type": "code",
   "execution_count": 3,
   "id": "17c51eee",
   "metadata": {},
   "outputs": [],
   "source": [
    "pound_exchange_rate = .76\n",
    "\n",
    "items['G1'] = 'GBP Price'\n",
    "\n",
    "for row in range(2, items.max_row + 1):\n",
    "    items['G' + str(row)] = currency_converter(\n",
    "        items['C' + str(row)].value, pound_exchange_rate)"
   ]
  },
  {
   "cell_type": "markdown",
   "id": "858b825b",
   "metadata": {},
   "source": [
    "### Japanese Yen Column\n",
    "\n",
    "Next, create a Japanese Yen Column with the same method we did for British Pounds.\n",
    "\n",
    "Call this column 'JPY Price'"
   ]
  },
  {
   "cell_type": "code",
   "execution_count": 4,
   "id": "f06a430b",
   "metadata": {},
   "outputs": [],
   "source": [
    "yen_exchange_rate = 123\n",
    "\n",
    "for index, cell in enumerate(items['C'], start=1):\n",
    "    if index == 1:\n",
    "        items[f'H{index}'] = 'JPY Price'\n",
    "    else:\n",
    "        items[f'H{index}'] = currency_converter(\n",
    "            cell.value, yen_exchange_rate)"
   ]
  },
  {
   "cell_type": "markdown",
   "id": "7edb9640",
   "metadata": {},
   "source": [
    "### Save your work!\n",
    "\n",
    "Finally, save your workbook as 'maven_data_new_pricing.xlsx'.\n",
    "\n",
    "We'll cover this soon - just run the cell below, and check your notebook folder for a .xlsx file."
   ]
  },
  {
   "cell_type": "code",
   "execution_count": 5,
   "id": "c493815d",
   "metadata": {},
   "outputs": [],
   "source": [
    "wb.save('maven_data_new_pricing.xlsx')"
   ]
  },
  {
   "cell_type": "code",
   "execution_count": null,
   "id": "a6ce12af",
   "metadata": {},
   "outputs": [],
   "source": []
  }
 ],
 "metadata": {
  "kernelspec": {
   "display_name": "Python 3 (ipykernel)",
   "language": "python",
   "name": "python3"
  },
  "language_info": {
   "codemirror_mode": {
    "name": "ipython",
    "version": 3
   },
   "file_extension": ".py",
   "mimetype": "text/x-python",
   "name": "python",
   "nbconvert_exporter": "python",
   "pygments_lexer": "ipython3",
   "version": "3.11.10"
  }
 },
 "nbformat": 4,
 "nbformat_minor": 5
}
