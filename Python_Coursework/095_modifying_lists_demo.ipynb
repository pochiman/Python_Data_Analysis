{
 "cells": [
  {
   "cell_type": "code",
   "execution_count": 1,
   "id": "18014d0d-7be1-4fbf-a00e-80a497cb6f1a",
   "metadata": {},
   "outputs": [
    {
     "data": {
      "text/plain": [
       "['C00001', 'C00003', 'C00005', 'C00010']"
      ]
     },
     "execution_count": 1,
     "metadata": {},
     "output_type": "execute_result"
    }
   ],
   "source": [
    "customer_ids = ['C00001', 'C00003', 'C00005', 'C00010']\n",
    "\n",
    "customer_ids"
   ]
  },
  {
   "cell_type": "code",
   "execution_count": 2,
   "id": "9b58ff51-df1f-4422-8a33-6880548d85e8",
   "metadata": {},
   "outputs": [
    {
     "data": {
      "text/plain": [
       "['C00001', 'C00004', 'C00005', 'C00010']"
      ]
     },
     "execution_count": 2,
     "metadata": {},
     "output_type": "execute_result"
    }
   ],
   "source": [
    "customer_ids[1] = 'C00004'\n",
    "\n",
    "customer_ids"
   ]
  },
  {
   "cell_type": "code",
   "execution_count": 3,
   "id": "ca922867-d5b3-43f1-b940-2bcde9709b21",
   "metadata": {},
   "outputs": [
    {
     "ename": "IndexError",
     "evalue": "list assignment index out of range",
     "output_type": "error",
     "traceback": [
      "\u001b[0;31m---------------------------------------------------------------------------\u001b[0m",
      "\u001b[0;31mIndexError\u001b[0m                                Traceback (most recent call last)",
      "Cell \u001b[0;32mIn[3], line 1\u001b[0m\n\u001b[0;32m----> 1\u001b[0m \u001b[43mcustomer_ids\u001b[49m\u001b[43m[\u001b[49m\u001b[38;5;241;43m4\u001b[39;49m\u001b[43m]\u001b[49m \u001b[38;5;241m=\u001b[39m \u001b[38;5;124m'\u001b[39m\u001b[38;5;124mC00011\u001b[39m\u001b[38;5;124m'\u001b[39m\n",
      "\u001b[0;31mIndexError\u001b[0m: list assignment index out of range"
     ]
    }
   ],
   "source": [
    "customer_ids[4] = 'C00011'"
   ]
  },
  {
   "cell_type": "code",
   "execution_count": 4,
   "id": "69f5066e-7f24-4a1b-b4a6-2e3749803fad",
   "metadata": {},
   "outputs": [
    {
     "data": {
      "text/plain": [
       "['C00001', 'C00004', 'C00005', 'C00010', 'C00011']"
      ]
     },
     "execution_count": 4,
     "metadata": {},
     "output_type": "execute_result"
    }
   ],
   "source": [
    "customer_ids.append('C00011')\n",
    "\n",
    "customer_ids"
   ]
  },
  {
   "cell_type": "code",
   "execution_count": 5,
   "id": "2761d2f3-ec23-4c18-935d-255376854ba3",
   "metadata": {},
   "outputs": [
    {
     "data": {
      "text/plain": [
       "['C00001', 'C00003', 'C00004', 'C00005', 'C00010', 'C00011']"
      ]
     },
     "execution_count": 5,
     "metadata": {},
     "output_type": "execute_result"
    }
   ],
   "source": [
    "customer_ids.insert(1, 'C00003')\n",
    "\n",
    "customer_ids"
   ]
  },
  {
   "cell_type": "code",
   "execution_count": 6,
   "id": "35744b98-043c-497c-9414-f1a574bb8e35",
   "metadata": {},
   "outputs": [
    {
     "data": {
      "text/plain": [
       "['C00001',\n",
       " 'C00003',\n",
       " 'C00004',\n",
       " 'C00005',\n",
       " 'C00010',\n",
       " 'C00011',\n",
       " 'C00012',\n",
       " 'C00015']"
      ]
     },
     "execution_count": 6,
     "metadata": {},
     "output_type": "execute_result"
    }
   ],
   "source": [
    "new_customer_ids = ['C00012', 'C00015']\n",
    "\n",
    "all_customers = customer_ids + new_customer_ids\n",
    "\n",
    "all_customers"
   ]
  },
  {
   "cell_type": "code",
   "execution_count": 7,
   "id": "d38ced4f-fe59-49f2-be2c-d07b56bcaa19",
   "metadata": {},
   "outputs": [
    {
     "data": {
      "text/plain": [
       "['C00001', 'C00004', 'C00005', 'C00010', 'C00011', 'C00012', 'C00015']"
      ]
     },
     "execution_count": 7,
     "metadata": {},
     "output_type": "execute_result"
    }
   ],
   "source": [
    "del all_customers[1]\n",
    "\n",
    "all_customers"
   ]
  },
  {
   "cell_type": "code",
   "execution_count": 8,
   "id": "06f02c4a-d2bc-4232-b0c3-7a53c8f940e7",
   "metadata": {},
   "outputs": [
    {
     "data": {
      "text/plain": [
       "['C00001', 'C00004', 'C00010', 'C00011', 'C00012', 'C00015']"
      ]
     },
     "execution_count": 8,
     "metadata": {},
     "output_type": "execute_result"
    }
   ],
   "source": [
    "if 'C00001' in all_customers:\n",
    "    all_customers.remove('C00005')\n",
    "\n",
    "all_customers"
   ]
  },
  {
   "cell_type": "code",
   "execution_count": null,
   "id": "ab3162c0-f249-4c28-aa5d-d701dc34c1b3",
   "metadata": {},
   "outputs": [],
   "source": []
  }
 ],
 "metadata": {
  "kernelspec": {
   "display_name": "Python 3 (ipykernel)",
   "language": "python",
   "name": "python3"
  },
  "language_info": {
   "codemirror_mode": {
    "name": "ipython",
    "version": 3
   },
   "file_extension": ".py",
   "mimetype": "text/x-python",
   "name": "python",
   "nbconvert_exporter": "python",
   "pygments_lexer": "ipython3",
   "version": "3.11.10"
  }
 },
 "nbformat": 4,
 "nbformat_minor": 5
}
