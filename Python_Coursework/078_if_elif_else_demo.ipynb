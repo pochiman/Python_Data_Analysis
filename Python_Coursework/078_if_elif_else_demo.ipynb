{
 "cells": [
  {
   "cell_type": "code",
   "execution_count": 1,
   "id": "86139f8c-652f-478e-992d-ffd2e2f49723",
   "metadata": {},
   "outputs": [],
   "source": [
    "customer_id = 'C000101'"
   ]
  },
  {
   "cell_type": "code",
   "execution_count": 2,
   "id": "5896f80b-58ab-4959-9a92-35a516e38000",
   "metadata": {},
   "outputs": [
    {
     "data": {
      "text/plain": [
       "101"
      ]
     },
     "execution_count": 2,
     "metadata": {},
     "output_type": "execute_result"
    }
   ],
   "source": [
    "int(customer_id.strip('C'))"
   ]
  },
  {
   "cell_type": "code",
   "execution_count": 3,
   "id": "630dca95-559b-4788-9ac7-7ab64e128099",
   "metadata": {},
   "outputs": [
    {
     "name": "stdout",
     "output_type": "stream",
     "text": [
      "Sorry, no luck for you!\n",
      "Ok, back to work!\n"
     ]
    }
   ],
   "source": [
    "if 50 < int(customer_id.strip('C')) <= 100:\n",
    "    print('You get a small prize.')\n",
    "elif int(customer_id.strip('C')) <= 50:\n",
    "    print('You get a big prize!')\n",
    "else:\n",
    "    print('Sorry, no luck for you!')\n",
    "\n",
    "print('Ok, back to work!')"
   ]
  },
  {
   "cell_type": "code",
   "execution_count": null,
   "id": "3a8834cd-39af-413b-8d06-7c0a8d7fc229",
   "metadata": {},
   "outputs": [],
   "source": []
  }
 ],
 "metadata": {
  "kernelspec": {
   "display_name": "Python 3 (ipykernel)",
   "language": "python",
   "name": "python3"
  },
  "language_info": {
   "codemirror_mode": {
    "name": "ipython",
    "version": 3
   },
   "file_extension": ".py",
   "mimetype": "text/x-python",
   "name": "python",
   "nbconvert_exporter": "python",
   "pygments_lexer": "ipython3",
   "version": "3.11.10"
  }
 },
 "nbformat": 4,
 "nbformat_minor": 5
}
