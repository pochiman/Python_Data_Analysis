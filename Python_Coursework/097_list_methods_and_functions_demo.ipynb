{
 "cells": [
  {
   "cell_type": "code",
   "execution_count": 1,
   "id": "8d4ff957-574f-4fa4-8fcb-b0c2278307b7",
   "metadata": {},
   "outputs": [
    {
     "data": {
      "text/plain": [
       "['C00001', 'C00004', 'C00010', 'C00004', 'C00011', 'C00004']"
      ]
     },
     "execution_count": 1,
     "metadata": {},
     "output_type": "execute_result"
    }
   ],
   "source": [
    "customer_ids = ['C00001', 'C00004', 'C00010', 'C00004', 'C00011', 'C00004']\n",
    "\n",
    "customer_ids"
   ]
  },
  {
   "cell_type": "code",
   "execution_count": 2,
   "id": "6ef5ed16-e3cb-45fa-8dfe-3642e746e20b",
   "metadata": {},
   "outputs": [
    {
     "data": {
      "text/plain": [
       "3"
      ]
     },
     "execution_count": 2,
     "metadata": {},
     "output_type": "execute_result"
    }
   ],
   "source": [
    "customer_ids.count('C00004')"
   ]
  },
  {
   "cell_type": "code",
   "execution_count": 3,
   "id": "e2f6c75b-d898-43fd-8ed9-9e6e0053e514",
   "metadata": {},
   "outputs": [
    {
     "data": {
      "text/plain": [
       "6"
      ]
     },
     "execution_count": 3,
     "metadata": {},
     "output_type": "execute_result"
    }
   ],
   "source": [
    "len(customer_ids)"
   ]
  },
  {
   "cell_type": "code",
   "execution_count": 4,
   "id": "47f7b049-d902-4244-8018-875899db07c8",
   "metadata": {},
   "outputs": [
    {
     "data": {
      "text/plain": [
       "0.5"
      ]
     },
     "execution_count": 4,
     "metadata": {},
     "output_type": "execute_result"
    }
   ],
   "source": [
    "customer_ids.count('C00004') / len(customer_ids)"
   ]
  },
  {
   "cell_type": "code",
   "execution_count": 5,
   "id": "46831a03-abd8-4684-94e1-2f0dc9b9a5b0",
   "metadata": {},
   "outputs": [
    {
     "data": {
      "text/plain": [
       "[]"
      ]
     },
     "execution_count": 5,
     "metadata": {},
     "output_type": "execute_result"
    }
   ],
   "source": [
    "vip_customers = []\n",
    "customer_id = 'C00011'\n",
    "\n",
    "if customer_ids.count(customer_id) / len(customer_ids) > .2:\n",
    "    vip_customers.append(customer_id)\n",
    "\n",
    "vip_customers"
   ]
  },
  {
   "cell_type": "code",
   "execution_count": 6,
   "id": "f53f0a55-af71-4c41-b374-1bc669739a6e",
   "metadata": {},
   "outputs": [
    {
     "data": {
      "text/plain": [
       "['C00001', 'C00004', 'C00004', 'C00004', 'C00010', 'C00011']"
      ]
     },
     "execution_count": 6,
     "metadata": {},
     "output_type": "execute_result"
    }
   ],
   "source": [
    "customer_ids.sort()\n",
    "\n",
    "customer_ids"
   ]
  },
  {
   "cell_type": "code",
   "execution_count": 7,
   "id": "763825a0-7fe7-4175-ba02-ef46cf944201",
   "metadata": {},
   "outputs": [
    {
     "data": {
      "text/plain": [
       "['C00010', 'C00011']"
      ]
     },
     "execution_count": 7,
     "metadata": {},
     "output_type": "execute_result"
    }
   ],
   "source": [
    "customer_ids[-2:]"
   ]
  },
  {
   "cell_type": "code",
   "execution_count": 8,
   "id": "557a02f6-4d9d-49bd-ad0a-5c4ca9a422f2",
   "metadata": {},
   "outputs": [],
   "source": [
    "customer_ids.reverse()"
   ]
  },
  {
   "cell_type": "code",
   "execution_count": 9,
   "id": "8e514e5c-1e06-4314-96fd-5ce7b6cb9d3c",
   "metadata": {},
   "outputs": [
    {
     "data": {
      "text/plain": [
       "['C00011', 'C00010', 'C00004', 'C00004', 'C00004', 'C00001']"
      ]
     },
     "execution_count": 9,
     "metadata": {},
     "output_type": "execute_result"
    }
   ],
   "source": [
    "customer_ids"
   ]
  },
  {
   "cell_type": "code",
   "execution_count": 10,
   "id": "6063dbf4-bdc2-45f4-9d53-2f61a8594499",
   "metadata": {},
   "outputs": [
    {
     "name": "stdout",
     "output_type": "stream",
     "text": [
      "Enjoy a 10% discount today!\n"
     ]
    }
   ],
   "source": [
    "if customer_ids.index(customer_id) < 2:\n",
    "    print('Enjoy a 10% discount today!')"
   ]
  },
  {
   "cell_type": "code",
   "execution_count": 11,
   "id": "f8d2a17a-a00f-4c2b-b3e6-58f78b48fefd",
   "metadata": {},
   "outputs": [
    {
     "data": {
      "text/plain": [
       "['C00001', 'C00004', 'C00004', 'C00004', 'C00010', 'C00011']"
      ]
     },
     "execution_count": 11,
     "metadata": {},
     "output_type": "execute_result"
    }
   ],
   "source": [
    "new_list = sorted(customer_ids)\n",
    "\n",
    "new_list"
   ]
  },
  {
   "cell_type": "code",
   "execution_count": 12,
   "id": "83f16125-eb77-4eff-8b18-e609130a9db9",
   "metadata": {},
   "outputs": [
    {
     "data": {
      "text/plain": [
       "['C00011', 'C00010', 'C00004', 'C00004', 'C00004', 'C00001']"
      ]
     },
     "execution_count": 12,
     "metadata": {},
     "output_type": "execute_result"
    }
   ],
   "source": [
    "customer_ids"
   ]
  },
  {
   "cell_type": "code",
   "execution_count": null,
   "id": "4116b872-565d-4b1b-84d0-b73a61b541b1",
   "metadata": {},
   "outputs": [],
   "source": []
  }
 ],
 "metadata": {
  "kernelspec": {
   "display_name": "Python 3 (ipykernel)",
   "language": "python",
   "name": "python3"
  },
  "language_info": {
   "codemirror_mode": {
    "name": "ipython",
    "version": 3
   },
   "file_extension": ".py",
   "mimetype": "text/x-python",
   "name": "python",
   "nbconvert_exporter": "python",
   "pygments_lexer": "ipython3",
   "version": "3.11.10"
  }
 },
 "nbformat": 4,
 "nbformat_minor": 5
}
