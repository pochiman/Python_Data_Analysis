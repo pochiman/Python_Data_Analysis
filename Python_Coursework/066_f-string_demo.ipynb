{
 "cells": [
  {
   "cell_type": "code",
   "execution_count": 1,
   "id": "05dde562-f823-45ea-a930-6595ab1c3a21",
   "metadata": {},
   "outputs": [],
   "source": [
    "movie = 'A Mega Blockbuster IV'"
   ]
  },
  {
   "cell_type": "code",
   "execution_count": 2,
   "id": "1a5c7f58-cec2-4ef9-b14a-df8699ae5222",
   "metadata": {},
   "outputs": [
    {
     "name": "stdout",
     "output_type": "stream",
     "text": [
      "My favorite movie is: A MEGA BLOCKBUSTER IVA MEGA BLOCKBUSTER IV!\n"
     ]
    }
   ],
   "source": [
    "print(f'My favorite movie is: {movie.upper() * 2}!')"
   ]
  },
  {
   "cell_type": "code",
   "execution_count": null,
   "id": "f78ad68d-8d30-4eb7-a215-f13ef0381b12",
   "metadata": {},
   "outputs": [],
   "source": []
  }
 ],
 "metadata": {
  "kernelspec": {
   "display_name": "Python 3 (ipykernel)",
   "language": "python",
   "name": "python3"
  },
  "language_info": {
   "codemirror_mode": {
    "name": "ipython",
    "version": 3
   },
   "file_extension": ".py",
   "mimetype": "text/x-python",
   "name": "python",
   "nbconvert_exporter": "python",
   "pygments_lexer": "ipython3",
   "version": "3.11.10"
  }
 },
 "nbformat": 4,
 "nbformat_minor": 5
}
