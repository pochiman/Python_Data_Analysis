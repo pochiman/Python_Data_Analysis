{
 "cells": [
  {
   "cell_type": "code",
   "execution_count": 1,
   "id": "3c85245f-c41a-460d-80ce-979470a6d56b",
   "metadata": {},
   "outputs": [],
   "source": [
    "transaction1 = ['snowboard', 'helmet', 'boots', 'hat', 'sweater', 'sweater']\n",
    "transaction2 = ['helmet', 'boots', 'skis', 'keychain', 'coffee', 'hat']\n",
    "transaction3 = ['snowboard', 'helmet', 'boots', 'ski poles']"
   ]
  },
  {
   "cell_type": "code",
   "execution_count": 2,
   "id": "a40e707e-54d3-4834-a7c5-a088d663976f",
   "metadata": {},
   "outputs": [
    {
     "data": {
      "text/plain": [
       "2"
      ]
     },
     "execution_count": 2,
     "metadata": {},
     "output_type": "execute_result"
    }
   ],
   "source": [
    "transaction1.count('sweater')"
   ]
  },
  {
   "cell_type": "code",
   "execution_count": 3,
   "id": "7f4ce0c0-4f5c-410f-a400-4e8116e0abc8",
   "metadata": {},
   "outputs": [
    {
     "data": {
      "text/plain": [
       "{'boots', 'hat', 'helmet', 'snowboard', 'sweater'}"
      ]
     },
     "execution_count": 3,
     "metadata": {},
     "output_type": "execute_result"
    }
   ],
   "source": [
    "set(transaction1)"
   ]
  },
  {
   "cell_type": "code",
   "execution_count": 4,
   "id": "ee4e7c5a-6887-4e54-9e35-e1810a6ac3d0",
   "metadata": {},
   "outputs": [
    {
     "data": {
      "text/plain": [
       "5"
      ]
     },
     "execution_count": 4,
     "metadata": {},
     "output_type": "execute_result"
    }
   ],
   "source": [
    "len(set(transaction1))"
   ]
  },
  {
   "cell_type": "code",
   "execution_count": 5,
   "id": "229831f9-b72b-4a88-808b-9420f9861534",
   "metadata": {},
   "outputs": [
    {
     "data": {
      "text/plain": [
       "True"
      ]
     },
     "execution_count": 5,
     "metadata": {},
     "output_type": "execute_result"
    }
   ],
   "source": [
    "'boots' in set(transaction1)"
   ]
  },
  {
   "cell_type": "code",
   "execution_count": 6,
   "id": "30c5e0ad-4007-4a37-9eb9-be303387129f",
   "metadata": {},
   "outputs": [
    {
     "data": {
      "text/plain": [
       "{'boots',\n",
       " 'coffee',\n",
       " 'hat',\n",
       " 'helmet',\n",
       " 'keychain',\n",
       " 'ski poles',\n",
       " 'skis',\n",
       " 'snowboard',\n",
       " 'sweater'}"
      ]
     },
     "execution_count": 6,
     "metadata": {},
     "output_type": "execute_result"
    }
   ],
   "source": [
    "set(transaction1 + transaction2 + transaction3)"
   ]
  },
  {
   "cell_type": "code",
   "execution_count": 7,
   "id": "578b1329-aa73-4d1d-80cd-41a742404bae",
   "metadata": {},
   "outputs": [
    {
     "data": {
      "text/plain": [
       "9"
      ]
     },
     "execution_count": 7,
     "metadata": {},
     "output_type": "execute_result"
    }
   ],
   "source": [
    "len(set(transaction1 + transaction2 + transaction3))"
   ]
  },
  {
   "cell_type": "code",
   "execution_count": null,
   "id": "33a162de-75b2-485f-bcd1-1bbbf13f3abb",
   "metadata": {},
   "outputs": [],
   "source": []
  }
 ],
 "metadata": {
  "kernelspec": {
   "display_name": "Python 3 (ipykernel)",
   "language": "python",
   "name": "python3"
  },
  "language_info": {
   "codemirror_mode": {
    "name": "ipython",
    "version": 3
   },
   "file_extension": ".py",
   "mimetype": "text/x-python",
   "name": "python",
   "nbconvert_exporter": "python",
   "pygments_lexer": "ipython3",
   "version": "3.11.10"
  }
 },
 "nbformat": 4,
 "nbformat_minor": 5
}
