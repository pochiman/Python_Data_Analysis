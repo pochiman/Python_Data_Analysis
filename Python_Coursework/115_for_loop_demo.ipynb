{
 "cells": [
  {
   "cell_type": "code",
   "execution_count": 1,
   "id": "c43d1419-3a1d-45c0-bb7e-f9261e95c750",
   "metadata": {},
   "outputs": [],
   "source": [
    "customer_ratings = [\n",
    "    '5 stars', '3 stars', '5 stars', '4 stars', '4 stars', \n",
    "    '1 star', '4 stars', '5 stars', '2 stars', '5 stars'\n",
    "    ]"
   ]
  },
  {
   "cell_type": "code",
   "execution_count": 2,
   "id": "dd98a0ca-ec18-4bb4-a85e-85c56f0d3f1f",
   "metadata": {},
   "outputs": [
    {
     "data": {
      "text/plain": [
       "5"
      ]
     },
     "execution_count": 2,
     "metadata": {},
     "output_type": "execute_result"
    }
   ],
   "source": [
    "rating = int(customer_ratings[0][0])\n",
    "\n",
    "rating"
   ]
  },
  {
   "cell_type": "code",
   "execution_count": 3,
   "id": "62e71c7b-cfa3-45d0-80ed-c65c21e45322",
   "metadata": {},
   "outputs": [
    {
     "data": {
      "text/plain": [
       "[5, 3, 5, 4, 4, 1, 4, 5, 2, 5]"
      ]
     },
     "execution_count": 3,
     "metadata": {},
     "output_type": "execute_result"
    }
   ],
   "source": [
    "numeric_ratings = []\n",
    "\n",
    "for rating in customer_ratings:\n",
    "    numeric_ratings.append(int(rating[0]))\n",
    "\n",
    "numeric_ratings"
   ]
  },
  {
   "cell_type": "code",
   "execution_count": 4,
   "id": "4d0e88f7-8ee0-4721-8940-154451fa3121",
   "metadata": {},
   "outputs": [
    {
     "data": {
      "text/plain": [
       "3.8"
      ]
     },
     "execution_count": 4,
     "metadata": {},
     "output_type": "execute_result"
    }
   ],
   "source": [
    "sum(numeric_ratings) / len(numeric_ratings)"
   ]
  },
  {
   "cell_type": "code",
   "execution_count": null,
   "id": "82b39faa-e459-4808-ad16-5a865e84b2e9",
   "metadata": {},
   "outputs": [],
   "source": []
  }
 ],
 "metadata": {
  "kernelspec": {
   "display_name": "Python 3 (ipykernel)",
   "language": "python",
   "name": "python3"
  },
  "language_info": {
   "codemirror_mode": {
    "name": "ipython",
    "version": 3
   },
   "file_extension": ".py",
   "mimetype": "text/x-python",
   "name": "python",
   "nbconvert_exporter": "python",
   "pygments_lexer": "ipython3",
   "version": "3.11.10"
  }
 },
 "nbformat": 4,
 "nbformat_minor": 5
}
