{
 "cells": [
  {
   "cell_type": "code",
   "execution_count": 1,
   "id": "01a5dbfe-8579-4ee7-a6f1-2f53ce4cd310",
   "metadata": {},
   "outputs": [],
   "source": [
    "item_ratings = [\n",
    "    ['5 star', '1 star', '3 stars'],\n",
    "    ['5 stars', '4 stars'],\n",
    "    ['4 stars', '2 stars'],\n",
    "    ['1 star']\n",
    "]"
   ]
  },
  {
   "cell_type": "code",
   "execution_count": 2,
   "id": "a45de017-7b49-494a-ae48-d4098e29b5c7",
   "metadata": {},
   "outputs": [],
   "source": [
    "def rating_cleaner(rating):\n",
    "    \"\"\"gets numeric portion from web rating\n",
    "    \n",
    "    Args:\n",
    "        rating (str): text rating from web\n",
    "\n",
    "    Returns:\n",
    "        int: integer portion of rating\n",
    "    \"\"\"\n",
    "    numeric_rating = int(rating[0])\n",
    "    return numeric_rating"
   ]
  },
  {
   "cell_type": "code",
   "execution_count": 3,
   "id": "7f622916-a794-40e2-b582-b0be128c5ac4",
   "metadata": {},
   "outputs": [
    {
     "data": {
      "text/plain": [
       "5"
      ]
     },
     "execution_count": 3,
     "metadata": {},
     "output_type": "execute_result"
    }
   ],
   "source": [
    "rating_cleaner('5 stars')"
   ]
  },
  {
   "cell_type": "code",
   "execution_count": 4,
   "id": "a33e3159-05ae-4c1f-830f-2b2a4ca03e06",
   "metadata": {},
   "outputs": [
    {
     "name": "stdout",
     "output_type": "stream",
     "text": [
      "5\n",
      "1\n",
      "3\n",
      "5\n",
      "4\n",
      "4\n",
      "2\n",
      "1\n"
     ]
    }
   ],
   "source": [
    "for item in item_ratings:\n",
    "    for rating in item:\n",
    "        print(rating_cleaner(rating))"
   ]
  },
  {
   "cell_type": "code",
   "execution_count": null,
   "id": "9ef2e874-86a8-4186-af73-0e6f9763ee31",
   "metadata": {},
   "outputs": [],
   "source": []
  }
 ],
 "metadata": {
  "kernelspec": {
   "display_name": "Python 3 (ipykernel)",
   "language": "python",
   "name": "python3"
  },
  "language_info": {
   "codemirror_mode": {
    "name": "ipython",
    "version": 3
   },
   "file_extension": ".py",
   "mimetype": "text/x-python",
   "name": "python",
   "nbconvert_exporter": "python",
   "pygments_lexer": "ipython3",
   "version": "3.11.10"
  }
 },
 "nbformat": 4,
 "nbformat_minor": 5
}
