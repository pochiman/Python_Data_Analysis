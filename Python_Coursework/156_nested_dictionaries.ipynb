{
 "cells": [
  {
   "cell_type": "code",
   "execution_count": 1,
   "id": "a64094e4-83fa-4e8c-9683-c31b949f899e",
   "metadata": {},
   "outputs": [],
   "source": [
    "economic_data = {\n",
    "    \"India\": {\n",
    "        \"Uttar Pradesh\": {\"population\": 241, \"gdp\": 220},\n",
    "        \"Rajastan\": {\"population\": 200, \"gdp\": 130},\n",
    "    },\n",
    "    \"China\": {\n",
    "        \"Guangdong\": {\"population\": 126, \"gdp\": 1960},\n",
    "        \"Fujian\": {\"population\": 42, \"gdp\": 757},\n",
    "    },\n",
    "}"
   ]
  },
  {
   "cell_type": "code",
   "execution_count": 2,
   "id": "3c9b8da8-4595-4d06-8f3d-3b322c52498d",
   "metadata": {},
   "outputs": [
    {
     "data": {
      "text/plain": [
       "{'Uttar Pradesh': {'population': 241, 'gdp': 220},\n",
       " 'Rajastan': {'population': 200, 'gdp': 130}}"
      ]
     },
     "execution_count": 2,
     "metadata": {},
     "output_type": "execute_result"
    }
   ],
   "source": [
    "economic_data[\"India\"]"
   ]
  },
  {
   "cell_type": "code",
   "execution_count": 3,
   "id": "45875788-8912-4c65-965d-c059b9be50f9",
   "metadata": {},
   "outputs": [
    {
     "data": {
      "text/plain": [
       "{'population': 200, 'gdp': 130}"
      ]
     },
     "execution_count": 3,
     "metadata": {},
     "output_type": "execute_result"
    }
   ],
   "source": [
    "economic_data[\"India\"][\"Rajastan\"]"
   ]
  },
  {
   "cell_type": "code",
   "execution_count": 4,
   "id": "5282b6e9-9e67-4a18-b883-fcb47401bcca",
   "metadata": {},
   "outputs": [
    {
     "data": {
      "text/plain": [
       "200"
      ]
     },
     "execution_count": 4,
     "metadata": {},
     "output_type": "execute_result"
    }
   ],
   "source": [
    "economic_data[\"India\"][\"Rajastan\"][\"population\"]"
   ]
  },
  {
   "cell_type": "code",
   "execution_count": 5,
   "id": "5a96975c-1bdf-49d2-8015-214726b7acca",
   "metadata": {},
   "outputs": [],
   "source": [
    "population = []\n",
    "\n",
    "for state in economic_data[\"India\"].values():\n",
    "    population.append(state[\"population\"])"
   ]
  },
  {
   "cell_type": "code",
   "execution_count": 6,
   "id": "d4192cf1-32dc-4bf2-b6b7-a9f7f096ea87",
   "metadata": {},
   "outputs": [
    {
     "data": {
      "text/plain": [
       "[241, 200]"
      ]
     },
     "execution_count": 6,
     "metadata": {},
     "output_type": "execute_result"
    }
   ],
   "source": [
    "population"
   ]
  },
  {
   "cell_type": "code",
   "execution_count": null,
   "id": "3ba2b387-d336-4471-9f2d-74115a838a9b",
   "metadata": {},
   "outputs": [],
   "source": []
  }
 ],
 "metadata": {
  "kernelspec": {
   "display_name": "Python 3 (ipykernel)",
   "language": "python",
   "name": "python3"
  },
  "language_info": {
   "codemirror_mode": {
    "name": "ipython",
    "version": 3
   },
   "file_extension": ".py",
   "mimetype": "text/x-python",
   "name": "python",
   "nbconvert_exporter": "python",
   "pygments_lexer": "ipython3",
   "version": "3.11.10"
  }
 },
 "nbformat": 4,
 "nbformat_minor": 5
}
