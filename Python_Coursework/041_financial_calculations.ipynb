{
 "cells": [
  {
   "cell_type": "markdown",
   "id": "afeff7d2",
   "metadata": {},
   "source": [
    "### 1. Calculate the gross profit on our snowboard\n",
    "\n",
    "Formula: Price minus cost\n"
   ]
  },
  {
   "cell_type": "code",
   "execution_count": 1,
   "id": "fbdecd04",
   "metadata": {},
   "outputs": [
    {
     "data": {
      "text/plain": [
       "300.0"
      ]
     },
     "execution_count": 1,
     "metadata": {},
     "output_type": "execute_result"
    }
   ],
   "source": [
    "snowboard_price = 499.99\n",
    "snowboard_cost = 199.99\n",
    "\n",
    "gross_profit = snowboard_price - snowboard_cost\n",
    "\n",
    "gross_profit"
   ]
  },
  {
   "cell_type": "markdown",
   "id": "f812ebf7",
   "metadata": {},
   "source": [
    "### 2. Calculate the gross margin on our snowboard\n",
    "\n",
    "Formula: Gross profit divided by price"
   ]
  },
  {
   "cell_type": "code",
   "execution_count": 3,
   "id": "9fec0a0d",
   "metadata": {},
   "outputs": [
    {
     "data": {
      "text/plain": [
       "0.6000120002400048"
      ]
     },
     "execution_count": 3,
     "metadata": {},
     "output_type": "execute_result"
    }
   ],
   "source": [
    "gross_margin = gross_profit / snowboard_price\n",
    "\n",
    "gross_margin"
   ]
  },
  {
   "cell_type": "markdown",
   "id": "ecb4a248",
   "metadata": {},
   "source": [
    "### 3. Calculate the price needed to obtain a gross margin of 70%\n",
    "\n",
    "Formula:  cost divided by (1 minus the desired margin)."
   ]
  },
  {
   "cell_type": "code",
   "execution_count": 4,
   "id": "ef85028e",
   "metadata": {},
   "outputs": [
    {
     "data": {
      "text/plain": [
       "666.6333333333332"
      ]
     },
     "execution_count": 4,
     "metadata": {},
     "output_type": "execute_result"
    }
   ],
   "source": [
    "desired_margin = .7\n",
    "\n",
    "price_needed = snowboard_cost / (1 - desired_margin)\n",
    "\n",
    "price_needed"
   ]
  },
  {
   "cell_type": "markdown",
   "id": "bdf79354",
   "metadata": {},
   "source": [
    "### 4. Calculate the sales tax on a sale of our snowboard\n",
    "\n",
    "Tax rate: 8%\n",
    "\n",
    "Formula: Price times tax rate"
   ]
  },
  {
   "cell_type": "code",
   "execution_count": 5,
   "id": "9a00eb4d",
   "metadata": {},
   "outputs": [
    {
     "data": {
      "text/plain": [
       "39.9992"
      ]
     },
     "execution_count": 5,
     "metadata": {},
     "output_type": "execute_result"
    }
   ],
   "source": [
    "tax_rate = .08\n",
    "\n",
    "sales_tax = tax_rate * snowboard_price\n",
    "\n",
    "sales_tax"
   ]
  },
  {
   "cell_type": "markdown",
   "id": "948e0099",
   "metadata": {},
   "source": [
    "### 5. Calculate the amount of money we'd have if we invested the profit from selling 5 snowboards for one year\n",
    "\n",
    "Assume an interest rate of 5%.\n",
    "\n",
    "The formula is the amount_invested plus  (amount_invested times interest_rate)"
   ]
  },
  {
   "cell_type": "code",
   "execution_count": 6,
   "id": "770afcbd",
   "metadata": {},
   "outputs": [
    {
     "data": {
      "text/plain": [
       "1575.0"
      ]
     },
     "execution_count": 6,
     "metadata": {},
     "output_type": "execute_result"
    }
   ],
   "source": [
    "amount_invested = gross_profit * 5\n",
    "interest_rate = .05\n",
    "\n",
    "amount_after_1yr = amount_invested + (amount_invested * interest_rate)\n",
    "\n",
    "amount_after_1yr"
   ]
  },
  {
   "cell_type": "code",
   "execution_count": 7,
   "id": "4f398a56",
   "metadata": {},
   "outputs": [
    {
     "data": {
      "text/plain": [
       "1500.0"
      ]
     },
     "execution_count": 7,
     "metadata": {},
     "output_type": "execute_result"
    }
   ],
   "source": [
    "amount_invested"
   ]
  },
  {
   "cell_type": "code",
   "execution_count": null,
   "id": "cbc6c67d-a903-46e6-9843-c1ea13a23f40",
   "metadata": {},
   "outputs": [],
   "source": []
  }
 ],
 "metadata": {
  "kernelspec": {
   "display_name": "Python 3 (ipykernel)",
   "language": "python",
   "name": "python3"
  },
  "language_info": {
   "codemirror_mode": {
    "name": "ipython",
    "version": 3
   },
   "file_extension": ".py",
   "mimetype": "text/x-python",
   "name": "python",
   "nbconvert_exporter": "python",
   "pygments_lexer": "ipython3",
   "version": "3.11.10"
  }
 },
 "nbformat": 4,
 "nbformat_minor": 5
}
