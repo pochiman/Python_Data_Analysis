{
 "cells": [
  {
   "cell_type": "code",
   "execution_count": 1,
   "id": "832b06ef-9168-4284-9ca3-12aba3389273",
   "metadata": {},
   "outputs": [],
   "source": [
    "import openpyxl as xl"
   ]
  },
  {
   "cell_type": "code",
   "execution_count": 2,
   "id": "2acdfa01-4eb5-4d8a-b635-ad0243737b03",
   "metadata": {},
   "outputs": [],
   "source": [
    "wb = xl.load_workbook(filename='maven_ski_shop_data.xlsx')\n",
    "\n",
    "inventory = wb['Inventory_Levels']"
   ]
  },
  {
   "cell_type": "code",
   "execution_count": 3,
   "id": "74b50b1f-a626-4c98-9761-c7bdb4f1ddf4",
   "metadata": {},
   "outputs": [
    {
     "name": "stdout",
     "output_type": "stream",
     "text": [
      "1 Quantity_in_stock\n",
      "2 100\n",
      "3 15\n",
      "4 10\n",
      "5 25\n",
      "6 8\n",
      "7 6\n",
      "8 0\n",
      "9 0\n",
      "10 1\n",
      "11 5\n",
      "12 0\n",
      "13 4\n"
     ]
    }
   ],
   "source": [
    "for i, cell in enumerate(inventory['B'], start=1):\n",
    "    print(i, cell.value)"
   ]
  },
  {
   "cell_type": "code",
   "execution_count": 4,
   "id": "f1e59e37-eec7-4cb7-b3a1-38105470eac9",
   "metadata": {},
   "outputs": [],
   "source": [
    "for i, cell in enumerate(inventory['B'], start=1):\n",
    "    if i == 1:\n",
    "        inventory[f'C{i}'] = 'Inventory Status'\n",
    "    elif cell.value > 5:\n",
    "        inventory[f'C{i}'] = 'Healthy Stock'\n",
    "    elif cell.value > 0:\n",
    "        inventory[f'C{i}'] = 'Low Stock'\n",
    "    else:\n",
    "        inventory[f'C{i}'] = 'Out of Stock'"
   ]
  },
  {
   "cell_type": "code",
   "execution_count": 5,
   "id": "25adf2d3-77d4-4af8-8ca7-0038aa266e8a",
   "metadata": {},
   "outputs": [],
   "source": [
    "wb.save('maven_ski_shop_inventory_fix.xlsx')"
   ]
  },
  {
   "cell_type": "code",
   "execution_count": null,
   "id": "c72ca3bb-acbc-406a-b032-7baeba7e064a",
   "metadata": {},
   "outputs": [],
   "source": []
  }
 ],
 "metadata": {
  "kernelspec": {
   "display_name": "Python 3 (ipykernel)",
   "language": "python",
   "name": "python3"
  },
  "language_info": {
   "codemirror_mode": {
    "name": "ipython",
    "version": 3
   },
   "file_extension": ".py",
   "mimetype": "text/x-python",
   "name": "python",
   "nbconvert_exporter": "python",
   "pygments_lexer": "ipython3",
   "version": "3.11.10"
  }
 },
 "nbformat": 4,
 "nbformat_minor": 5
}
