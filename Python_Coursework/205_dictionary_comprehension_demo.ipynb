{
 "cells": [
  {
   "cell_type": "code",
   "execution_count": 1,
   "id": "96d72d8a-f28a-4904-a2db-6f3a98218f01",
   "metadata": {},
   "outputs": [],
   "source": [
    "import numpy as np"
   ]
  },
  {
   "cell_type": "code",
   "execution_count": 2,
   "id": "6ec9ad6a-c83f-4fba-b129-6c9c3dadd23f",
   "metadata": {},
   "outputs": [],
   "source": [
    "items = ['skis', 'snowboards', 'goggles', 'boots']\n",
    "\n",
    "ratings = [[4, 5], [3, 5], [4, 2], [1, 3]]"
   ]
  },
  {
   "cell_type": "code",
   "execution_count": 3,
   "id": "4b30d27b-fb0c-4c62-bd58-3116c90266e5",
   "metadata": {},
   "outputs": [
    {
     "data": {
      "text/plain": [
       "{'skis': [4, 5], 'snowboards': [3, 5], 'goggles': [4, 2], 'boots': [1, 3]}"
      ]
     },
     "execution_count": 3,
     "metadata": {},
     "output_type": "execute_result"
    }
   ],
   "source": [
    "{item: rating for item, rating in zip(items, ratings)}"
   ]
  },
  {
   "cell_type": "code",
   "execution_count": 4,
   "id": "e038d2fb-1aa4-4af6-8725-40489eef7bc8",
   "metadata": {},
   "outputs": [
    {
     "data": {
      "text/plain": [
       "{'skis': 4.5, 'snowboards': 4.0, 'goggles': 3.0, 'boots': 2.0}"
      ]
     },
     "execution_count": 4,
     "metadata": {},
     "output_type": "execute_result"
    }
   ],
   "source": [
    "{item: np.mean(rating) for item, rating in zip(items, ratings)}"
   ]
  },
  {
   "cell_type": "code",
   "execution_count": 5,
   "id": "1d0d1823-c546-45f2-ab6d-610a30b27fe3",
   "metadata": {},
   "outputs": [
    {
     "data": {
      "text/plain": [
       "{'skis': 4.5, 'snowboards': 4.0}"
      ]
     },
     "execution_count": 5,
     "metadata": {},
     "output_type": "execute_result"
    }
   ],
   "source": [
    "{item: np.mean(rating) for item, rating in zip(items, ratings) if np.mean(rating) >= 4}"
   ]
  },
  {
   "cell_type": "code",
   "execution_count": 6,
   "id": "6021707c-536c-458e-a214-2e1c4c3bc1a9",
   "metadata": {},
   "outputs": [
    {
     "data": {
      "text/plain": [
       "{'skis': 4.5, 'snowboards': 4.0}"
      ]
     },
     "execution_count": 6,
     "metadata": {},
     "output_type": "execute_result"
    }
   ],
   "source": [
    "{item: np.mean(rating) \n",
    " for item, rating in zip(items, ratings) \n",
    " if np.mean(rating) >= 4}"
   ]
  },
  {
   "cell_type": "code",
   "execution_count": null,
   "id": "27435d70-53d3-43e3-92ec-00f7e10933fc",
   "metadata": {},
   "outputs": [],
   "source": []
  }
 ],
 "metadata": {
  "kernelspec": {
   "display_name": "Python 3 (ipykernel)",
   "language": "python",
   "name": "python3"
  },
  "language_info": {
   "codemirror_mode": {
    "name": "ipython",
    "version": 3
   },
   "file_extension": ".py",
   "mimetype": "text/x-python",
   "name": "python",
   "nbconvert_exporter": "python",
   "pygments_lexer": "ipython3",
   "version": "3.11.10"
  }
 },
 "nbformat": 4,
 "nbformat_minor": 5
}
