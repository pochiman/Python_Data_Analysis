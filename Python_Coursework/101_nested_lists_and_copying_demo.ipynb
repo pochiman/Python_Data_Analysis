{
 "cells": [
  {
   "cell_type": "code",
   "execution_count": 1,
   "id": "5212a540-3cea-4979-af73-c9267ec7a187",
   "metadata": {},
   "outputs": [],
   "source": [
    "items = ['skis', 'snowboards', 'googles', 'boots']\n",
    "\n",
    "item_details = [[5, 249.99], [0, 219.99], [0, 99.99], [12, 79.99]]"
   ]
  },
  {
   "cell_type": "code",
   "execution_count": 2,
   "id": "fb7ed51d-04c3-47fc-8816-38024d85b4ca",
   "metadata": {},
   "outputs": [
    {
     "data": {
      "text/plain": [
       "[0, 219.99]"
      ]
     },
     "execution_count": 2,
     "metadata": {},
     "output_type": "execute_result"
    }
   ],
   "source": [
    "item_details[1]"
   ]
  },
  {
   "cell_type": "code",
   "execution_count": 3,
   "id": "cb393464-b984-4268-9e4d-f3570a80a274",
   "metadata": {},
   "outputs": [
    {
     "data": {
      "text/plain": [
       "219.99"
      ]
     },
     "execution_count": 3,
     "metadata": {},
     "output_type": "execute_result"
    }
   ],
   "source": [
    "item_details[1][1]"
   ]
  },
  {
   "cell_type": "code",
   "execution_count": 4,
   "id": "df772fb4-2fd2-4e01-8ab3-bcb3b9227571",
   "metadata": {},
   "outputs": [
    {
     "data": {
      "text/plain": [
       "274.99"
      ]
     },
     "execution_count": 4,
     "metadata": {},
     "output_type": "execute_result"
    }
   ],
   "source": [
    "round(item_details[0][1] * 1.1, 2)"
   ]
  },
  {
   "cell_type": "code",
   "execution_count": 5,
   "id": "812061cc-c614-47ba-addb-d781229e6ab1",
   "metadata": {},
   "outputs": [
    {
     "data": {
      "text/plain": [
       "[[5, 249.99], [0, 219.99], [0, 99.99], [12, 79.99]]"
      ]
     },
     "execution_count": 5,
     "metadata": {},
     "output_type": "execute_result"
    }
   ],
   "source": [
    "winter_details = item_details\n",
    "\n",
    "winter_details"
   ]
  },
  {
   "cell_type": "code",
   "execution_count": 6,
   "id": "a8e44770-4dc1-417d-8203-1b6f41c7aa8e",
   "metadata": {},
   "outputs": [
    {
     "data": {
      "text/plain": [
       "[[100, 274.99], [0, 219.99], [0, 99.99], [12, 79.99]]"
      ]
     },
     "execution_count": 6,
     "metadata": {},
     "output_type": "execute_result"
    }
   ],
   "source": [
    "winter_details[0] = [100, 274.99]\n",
    "\n",
    "winter_details"
   ]
  },
  {
   "cell_type": "code",
   "execution_count": 7,
   "id": "29114064-321d-4f42-888d-d62e0a453a0c",
   "metadata": {},
   "outputs": [
    {
     "data": {
      "text/plain": [
       "[[100, 274.99], [0, 219.99], [0, 99.99], [12, 79.99]]"
      ]
     },
     "execution_count": 7,
     "metadata": {},
     "output_type": "execute_result"
    }
   ],
   "source": [
    "item_details"
   ]
  },
  {
   "cell_type": "code",
   "execution_count": 8,
   "id": "23e631b4-c4ba-44be-9a4a-d8eb0f9cb2a4",
   "metadata": {},
   "outputs": [],
   "source": [
    "item_details = [[5, 249.99], [0, 219.99], [0, 99.99], [12, 79.99]]"
   ]
  },
  {
   "cell_type": "code",
   "execution_count": 10,
   "id": "c952c66d-6b01-4bed-9e30-dee0cf0fd1a9",
   "metadata": {},
   "outputs": [
    {
     "data": {
      "text/plain": [
       "[[5, 249.99], [0, 219.99], [0, 99.99], [12, 79.99]]"
      ]
     },
     "execution_count": 10,
     "metadata": {},
     "output_type": "execute_result"
    }
   ],
   "source": [
    "winter_details = item_details.copy()\n",
    "\n",
    "winter_details"
   ]
  },
  {
   "cell_type": "code",
   "execution_count": 11,
   "id": "8c56493a-d033-4110-9f97-0c8124049e85",
   "metadata": {},
   "outputs": [
    {
     "data": {
      "text/plain": [
       "[[100, 274.99], [0, 219.99], [0, 99.99], [12, 79.99]]"
      ]
     },
     "execution_count": 11,
     "metadata": {},
     "output_type": "execute_result"
    }
   ],
   "source": [
    "winter_details[0] = [100, 274.99]\n",
    "\n",
    "winter_details"
   ]
  },
  {
   "cell_type": "code",
   "execution_count": 12,
   "id": "b3ab071e-fa76-4644-a51d-edbd51fd9d13",
   "metadata": {},
   "outputs": [
    {
     "data": {
      "text/plain": [
       "[[5, 249.99], [0, 219.99], [0, 99.99], [12, 79.99]]"
      ]
     },
     "execution_count": 12,
     "metadata": {},
     "output_type": "execute_result"
    }
   ],
   "source": [
    "item_details"
   ]
  },
  {
   "cell_type": "code",
   "execution_count": 13,
   "id": "b88f561b-529a-4a12-86c2-6fc2d8889757",
   "metadata": {},
   "outputs": [
    {
     "data": {
      "text/plain": [
       "[[100, 274.99], [50, 219.99], [0, 99.99], [12, 79.99]]"
      ]
     },
     "execution_count": 13,
     "metadata": {},
     "output_type": "execute_result"
    }
   ],
   "source": [
    "winter_details[1][0] = 50\n",
    "\n",
    "winter_details"
   ]
  },
  {
   "cell_type": "code",
   "execution_count": 14,
   "id": "d959994c-c139-41f3-9feb-a73ffd189bde",
   "metadata": {},
   "outputs": [
    {
     "data": {
      "text/plain": [
       "[[5, 249.99], [50, 219.99], [0, 99.99], [12, 79.99]]"
      ]
     },
     "execution_count": 14,
     "metadata": {},
     "output_type": "execute_result"
    }
   ],
   "source": [
    "item_details"
   ]
  },
  {
   "cell_type": "code",
   "execution_count": 15,
   "id": "8690d98c-c98e-4e66-a994-bd503997b897",
   "metadata": {},
   "outputs": [],
   "source": [
    "item_details = [[5, 249.99], [0, 219.99], [0, 99.99], [12, 79.99]]"
   ]
  },
  {
   "cell_type": "code",
   "execution_count": 16,
   "id": "7d82e372-3b47-4825-b2b8-92c6ba8591ef",
   "metadata": {},
   "outputs": [
    {
     "data": {
      "text/plain": [
       "[[5, 249.99], [0, 219.99], [0, 99.99], [12, 79.99]]"
      ]
     },
     "execution_count": 16,
     "metadata": {},
     "output_type": "execute_result"
    }
   ],
   "source": [
    "from copy import deepcopy\n",
    "\n",
    "winter_details = deepcopy(item_details)\n",
    "\n",
    "winter_details"
   ]
  },
  {
   "cell_type": "code",
   "execution_count": 17,
   "id": "5d566501-3652-42c0-bcc6-7f245e0a510e",
   "metadata": {},
   "outputs": [
    {
     "data": {
      "text/plain": [
       "[[100, 274.99], [0, 219.99], [0, 99.99], [12, 79.99]]"
      ]
     },
     "execution_count": 17,
     "metadata": {},
     "output_type": "execute_result"
    }
   ],
   "source": [
    "winter_details[0] = [100, 274.99]\n",
    "\n",
    "winter_details"
   ]
  },
  {
   "cell_type": "code",
   "execution_count": 18,
   "id": "1c6095c4-df57-42e2-a1a3-4b464b6df51d",
   "metadata": {},
   "outputs": [
    {
     "data": {
      "text/plain": [
       "[[5, 249.99], [0, 219.99], [0, 99.99], [12, 79.99]]"
      ]
     },
     "execution_count": 18,
     "metadata": {},
     "output_type": "execute_result"
    }
   ],
   "source": [
    "item_details"
   ]
  },
  {
   "cell_type": "code",
   "execution_count": 19,
   "id": "e2b371b0-a409-441d-ae37-471dd63410ff",
   "metadata": {},
   "outputs": [],
   "source": [
    "winter_details[1][0] = 50"
   ]
  },
  {
   "cell_type": "code",
   "execution_count": 20,
   "id": "9cf9f03f-08c6-4a2f-a873-6ace589babd7",
   "metadata": {},
   "outputs": [
    {
     "data": {
      "text/plain": [
       "[[100, 274.99], [50, 219.99], [0, 99.99], [12, 79.99]]"
      ]
     },
     "execution_count": 20,
     "metadata": {},
     "output_type": "execute_result"
    }
   ],
   "source": [
    "winter_details"
   ]
  },
  {
   "cell_type": "code",
   "execution_count": 21,
   "id": "25437180-6cb7-4891-8d7b-3b70e6e0bc38",
   "metadata": {},
   "outputs": [
    {
     "data": {
      "text/plain": [
       "[[5, 249.99], [0, 219.99], [0, 99.99], [12, 79.99]]"
      ]
     },
     "execution_count": 21,
     "metadata": {},
     "output_type": "execute_result"
    }
   ],
   "source": [
    "item_details"
   ]
  },
  {
   "cell_type": "code",
   "execution_count": null,
   "id": "331cc544-546f-4717-afdc-74202594e4ca",
   "metadata": {},
   "outputs": [],
   "source": []
  }
 ],
 "metadata": {
  "kernelspec": {
   "display_name": "Python 3 (ipykernel)",
   "language": "python",
   "name": "python3"
  },
  "language_info": {
   "codemirror_mode": {
    "name": "ipython",
    "version": 3
   },
   "file_extension": ".py",
   "mimetype": "text/x-python",
   "name": "python",
   "nbconvert_exporter": "python",
   "pygments_lexer": "ipython3",
   "version": "3.11.10"
  }
 },
 "nbformat": 4,
 "nbformat_minor": 5
}
