{
 "cells": [
  {
   "cell_type": "code",
   "execution_count": 1,
   "id": "8f1f8193-3f32-4269-b6d6-ff73e1ed9a11",
   "metadata": {},
   "outputs": [],
   "source": [
    "item_names = [\n",
    "    'Keychain', 'Helmet', 'Snowboard', \n",
    "    'Ski Poles', 'Sweatshirt', 'Boots'\n",
    "    ]\n",
    "\n",
    "inventories = [10, 14, 10, 15, 8, 10]\n",
    "\n",
    "prices = [2.99, 99.99, 219.99, 89.99, 29.99, 9.99]"
   ]
  },
  {
   "cell_type": "code",
   "execution_count": 2,
   "id": "7ff96727-0cf9-4893-9d89-19646c49a5de",
   "metadata": {},
   "outputs": [
    {
     "name": "stdout",
     "output_type": "stream",
     "text": [
      "We have $29.9 worth of Keychain.\n",
      "We have $1399.86 worth of Helmet.\n",
      "We have $2199.9 worth of Snowboard.\n",
      "We have $1349.85 worth of Ski Poles.\n",
      "We have $239.92 worth of Sweatshirt.\n",
      "We have $99.9 worth of Boots.\n"
     ]
    },
    {
     "data": {
      "text/plain": [
       "5319.33"
      ]
     },
     "execution_count": 2,
     "metadata": {},
     "output_type": "execute_result"
    }
   ],
   "source": [
    "product_values = []\n",
    "\n",
    "for i, inventory in enumerate(inventories):\n",
    "    product_value = round(inventory * prices[i], 2)\n",
    "    product_values.append(product_value)\n",
    "    print(f'We have ${product_value} worth of {item_names[i]}.')\n",
    "\n",
    "product_values\n",
    "\n",
    "sum(product_values)"
   ]
  },
  {
   "cell_type": "code",
   "execution_count": null,
   "id": "44d2deaf-29cf-4dab-9cbe-e11985a36b68",
   "metadata": {},
   "outputs": [],
   "source": []
  }
 ],
 "metadata": {
  "kernelspec": {
   "display_name": "Python 3 (ipykernel)",
   "language": "python",
   "name": "python3"
  },
  "language_info": {
   "codemirror_mode": {
    "name": "ipython",
    "version": 3
   },
   "file_extension": ".py",
   "mimetype": "text/x-python",
   "name": "python",
   "nbconvert_exporter": "python",
   "pygments_lexer": "ipython3",
   "version": "3.11.10"
  }
 },
 "nbformat": 4,
 "nbformat_minor": 5
}
