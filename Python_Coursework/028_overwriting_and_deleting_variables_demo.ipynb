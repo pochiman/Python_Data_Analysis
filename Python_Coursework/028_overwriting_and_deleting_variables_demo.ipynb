{
 "cells": [
  {
   "cell_type": "code",
   "execution_count": 1,
   "id": "ba68a1dd-5774-443b-b280-8e7f649d3e23",
   "metadata": {},
   "outputs": [
    {
     "name": "stdout",
     "output_type": "stream",
     "text": [
      "100\n"
     ]
    }
   ],
   "source": [
    "snowboard_inventory = 100\n",
    "print(snowboard_inventory)"
   ]
  },
  {
   "cell_type": "code",
   "execution_count": 2,
   "id": "a3910f5b-fdc7-4b62-8298-f2fb1e9b9628",
   "metadata": {},
   "outputs": [
    {
     "name": "stdout",
     "output_type": "stream",
     "text": [
      "85\n"
     ]
    }
   ],
   "source": [
    "snowboard_inventory = 85\n",
    "print(snowboard_inventory)"
   ]
  },
  {
   "cell_type": "code",
   "execution_count": 3,
   "id": "a6f40b05-4fb4-4d05-b92f-b3cb14b9b7ea",
   "metadata": {},
   "outputs": [
    {
     "name": "stdout",
     "output_type": "stream",
     "text": [
      "70\n"
     ]
    }
   ],
   "source": [
    "snowboard_inventory = 70\n",
    "print(snowboard_inventory)"
   ]
  },
  {
   "cell_type": "code",
   "execution_count": 4,
   "id": "dbe29a2e-0e4a-421e-8616-64f29dbe2d35",
   "metadata": {},
   "outputs": [
    {
     "name": "stdout",
     "output_type": "stream",
     "text": [
      "85 70\n"
     ]
    }
   ],
   "source": [
    "old_snowboard_inventory = 85\n",
    "snowboard_inventory = 70\n",
    "\n",
    "print(old_snowboard_inventory, snowboard_inventory)"
   ]
  },
  {
   "cell_type": "code",
   "execution_count": 5,
   "id": "1f787dfb-0679-4b83-904d-4d935a8415af",
   "metadata": {},
   "outputs": [
    {
     "name": "stdout",
     "output_type": "stream",
     "text": [
      "85\n"
     ]
    }
   ],
   "source": [
    "old_snowboard_inventory = 85\n",
    "snowboard_inventory = 70\n",
    "\n",
    "snowboard_inventory = old_snowboard_inventory\n",
    "old_snowboard_inventory = 100\n",
    "\n",
    "print(snowboard_inventory)"
   ]
  },
  {
   "cell_type": "code",
   "execution_count": 6,
   "id": "6f49f78c-6355-4a77-ae08-bd230337206f",
   "metadata": {},
   "outputs": [],
   "source": [
    "del old_snowboard_inventory"
   ]
  },
  {
   "cell_type": "code",
   "execution_count": 7,
   "id": "2c225802-d021-41e3-98b4-4e1c3ec41b33",
   "metadata": {},
   "outputs": [],
   "source": [
    "old_snowboard_inventory = 100"
   ]
  },
  {
   "cell_type": "code",
   "execution_count": 8,
   "id": "dde2fa2d-1b47-4c92-ba78-84d6405f0d89",
   "metadata": {},
   "outputs": [
    {
     "data": {
      "text/plain": [
       "100"
      ]
     },
     "execution_count": 8,
     "metadata": {},
     "output_type": "execute_result"
    }
   ],
   "source": [
    "old_snowboard_inventory"
   ]
  }
 ],
 "metadata": {
  "kernelspec": {
   "display_name": "Python 3 (ipykernel)",
   "language": "python",
   "name": "python3"
  },
  "language_info": {
   "codemirror_mode": {
    "name": "ipython",
    "version": 3
   },
   "file_extension": ".py",
   "mimetype": "text/x-python",
   "name": "python",
   "nbconvert_exporter": "python",
   "pygments_lexer": "ipython3",
   "version": "3.11.10"
  }
 },
 "nbformat": 4,
 "nbformat_minor": 5
}
