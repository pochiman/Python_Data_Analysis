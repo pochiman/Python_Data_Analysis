{
 "cells": [
  {
   "cell_type": "code",
   "execution_count": 1,
   "id": "4df7a23d-47b3-420e-866d-b1f8d2b5eaea",
   "metadata": {},
   "outputs": [],
   "source": [
    "items = ['skis', 'snowboards', 'goggles', 'boots']\n",
    "\n",
    "item_reviews = [\n",
    "    ['5 star', '1 star', '3 stars'],\n",
    "    ['5 stars', '4 stars'],\n",
    "    ['4 stars', '2 stars'],\n",
    "    ['1 star']\n",
    "]"
   ]
  },
  {
   "cell_type": "code",
   "execution_count": 2,
   "id": "c1098dc4-4cca-42ab-82de-6bb84c15d5be",
   "metadata": {},
   "outputs": [
    {
     "data": {
      "text/plain": [
       "[[5, 1, 3], [5, 4], [4, 2], [1]]"
      ]
     },
     "execution_count": 2,
     "metadata": {},
     "output_type": "execute_result"
    }
   ],
   "source": [
    "item_reviews_numeric = []\n",
    "\n",
    "for item in item_reviews:\n",
    "    integer_ratings = []\n",
    "    for review in item:\n",
    "        integer_rating = int(review[0])\n",
    "        integer_ratings.append(integer_rating)\n",
    "    item_reviews_numeric.append(integer_ratings)\n",
    "\n",
    "item_reviews_numeric"
   ]
  },
  {
   "cell_type": "code",
   "execution_count": 3,
   "id": "7270fa53-8d21-471c-bbc5-c00ad61ea4e9",
   "metadata": {},
   "outputs": [
    {
     "name": "stdout",
     "output_type": "stream",
     "text": [
      "3.0\n",
      "4.5\n",
      "3.0\n",
      "1.0\n"
     ]
    }
   ],
   "source": [
    "for item in item_reviews_numeric:\n",
    "    print(sum(item)/len(item))"
   ]
  },
  {
   "cell_type": "code",
   "execution_count": null,
   "id": "ba081fb5-d8af-42ba-b421-4d46ea1f80d1",
   "metadata": {},
   "outputs": [],
   "source": []
  }
 ],
 "metadata": {
  "kernelspec": {
   "display_name": "Python 3 (ipykernel)",
   "language": "python",
   "name": "python3"
  },
  "language_info": {
   "codemirror_mode": {
    "name": "ipython",
    "version": 3
   },
   "file_extension": ".py",
   "mimetype": "text/x-python",
   "name": "python",
   "nbconvert_exporter": "python",
   "pygments_lexer": "ipython3",
   "version": "3.11.10"
  }
 },
 "nbformat": 4,
 "nbformat_minor": 5
}
