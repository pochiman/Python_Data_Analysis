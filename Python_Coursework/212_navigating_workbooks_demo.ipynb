{
 "cells": [
  {
   "cell_type": "code",
   "execution_count": 1,
   "id": "5cf1a992-1cd3-4110-97e1-e8114cd2445c",
   "metadata": {},
   "outputs": [],
   "source": [
    "import openpyxl as xl"
   ]
  },
  {
   "cell_type": "code",
   "execution_count": 2,
   "id": "d6066414-7877-42bf-b663-5e6f38c19d8d",
   "metadata": {},
   "outputs": [],
   "source": [
    "wb = xl.load_workbook(filename='maven_ski_shop_data.xlsx')"
   ]
  },
  {
   "cell_type": "code",
   "execution_count": 3,
   "id": "c0daa005-6807-4e09-8854-29fd60e596ed",
   "metadata": {},
   "outputs": [],
   "source": [
    "inventory = wb['Inventory_Levels']"
   ]
  },
  {
   "cell_type": "code",
   "execution_count": 4,
   "id": "eccf7df0-ecdf-431e-9517-fffdc0722c59",
   "metadata": {},
   "outputs": [
    {
     "data": {
      "text/plain": [
       "<Cell 'Inventory_Levels'.B1>"
      ]
     },
     "execution_count": 4,
     "metadata": {},
     "output_type": "execute_result"
    }
   ],
   "source": [
    "inventory['B1']"
   ]
  },
  {
   "cell_type": "code",
   "execution_count": 5,
   "id": "f7c85b84-fad1-4a0f-86ae-d414d3a9a7a3",
   "metadata": {},
   "outputs": [
    {
     "data": {
      "text/plain": [
       "100"
      ]
     },
     "execution_count": 5,
     "metadata": {},
     "output_type": "execute_result"
    }
   ],
   "source": [
    "inventory['B2'].value"
   ]
  },
  {
   "cell_type": "code",
   "execution_count": 6,
   "id": "725e4a93-1a22-4edf-9c60-b32693c5e181",
   "metadata": {},
   "outputs": [
    {
     "name": "stdout",
     "output_type": "stream",
     "text": [
      "Healthy Stock\n"
     ]
    }
   ],
   "source": [
    "if inventory['B2'].value < 5:\n",
    "    print('Low Stock')\n",
    "else:\n",
    "    print('Healthy Stock')"
   ]
  },
  {
   "cell_type": "code",
   "execution_count": null,
   "id": "336c7239-c76e-4222-987f-a0ee02530817",
   "metadata": {},
   "outputs": [],
   "source": []
  }
 ],
 "metadata": {
  "kernelspec": {
   "display_name": "Python 3 (ipykernel)",
   "language": "python",
   "name": "python3"
  },
  "language_info": {
   "codemirror_mode": {
    "name": "ipython",
    "version": 3
   },
   "file_extension": ".py",
   "mimetype": "text/x-python",
   "name": "python",
   "nbconvert_exporter": "python",
   "pygments_lexer": "ipython3",
   "version": "3.11.10"
  }
 },
 "nbformat": 4,
 "nbformat_minor": 5
}
