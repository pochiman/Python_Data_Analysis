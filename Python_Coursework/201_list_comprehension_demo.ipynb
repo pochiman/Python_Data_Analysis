{
 "cells": [
  {
   "cell_type": "code",
   "execution_count": 1,
   "id": "361eae88-2afd-4812-8612-a3124c7c339c",
   "metadata": {},
   "outputs": [],
   "source": [
    "import numpy as np"
   ]
  },
  {
   "cell_type": "code",
   "execution_count": 2,
   "id": "d008828c-c03e-46e9-a167-411263fe1d5e",
   "metadata": {},
   "outputs": [],
   "source": [
    "ratings = ['5 star', '1 star', '3 stars', '4 stars', '3 stars', '5 stars']"
   ]
  },
  {
   "cell_type": "code",
   "execution_count": 5,
   "id": "42810f73-47b1-446d-ae56-5ca72f4c9b01",
   "metadata": {},
   "outputs": [],
   "source": [
    "numeric_ratings = [int(rating[0]) for rating in ratings]"
   ]
  },
  {
   "cell_type": "code",
   "execution_count": 6,
   "id": "859d9144-598d-4180-a9cc-b563c18bcc4f",
   "metadata": {},
   "outputs": [
    {
     "data": {
      "text/plain": [
       "3.5"
      ]
     },
     "execution_count": 6,
     "metadata": {},
     "output_type": "execute_result"
    }
   ],
   "source": [
    "np.mean(numeric_ratings)"
   ]
  },
  {
   "cell_type": "code",
   "execution_count": 7,
   "id": "8c5d2850-7607-4f28-a02e-e930342d024f",
   "metadata": {},
   "outputs": [],
   "source": [
    "numeric_ratings = [int(rating[0]) for rating in ratings if int(rating[0]) < 4]"
   ]
  },
  {
   "cell_type": "code",
   "execution_count": 8,
   "id": "8982fd1d-474b-4aaa-b64a-ffe1b3f3fc08",
   "metadata": {},
   "outputs": [
    {
     "data": {
      "text/plain": [
       "2.3333333333333335"
      ]
     },
     "execution_count": 8,
     "metadata": {},
     "output_type": "execute_result"
    }
   ],
   "source": [
    "np.mean(numeric_ratings)"
   ]
  },
  {
   "cell_type": "code",
   "execution_count": 9,
   "id": "b24d8d60-0aff-4d7b-a61e-59e6dc5ac2d4",
   "metadata": {},
   "outputs": [
    {
     "data": {
      "text/plain": [
       "[1, 3, 3]"
      ]
     },
     "execution_count": 9,
     "metadata": {},
     "output_type": "execute_result"
    }
   ],
   "source": [
    "[int(rating[0]) for rating in ratings if int(rating[0]) < 4]"
   ]
  },
  {
   "cell_type": "code",
   "execution_count": null,
   "id": "899d7b29-c6d9-4bed-8c9c-f5e0c4a024bb",
   "metadata": {},
   "outputs": [],
   "source": []
  }
 ],
 "metadata": {
  "kernelspec": {
   "display_name": "Python 3 (ipykernel)",
   "language": "python",
   "name": "python3"
  },
  "language_info": {
   "codemirror_mode": {
    "name": "ipython",
    "version": 3
   },
   "file_extension": ".py",
   "mimetype": "text/x-python",
   "name": "python",
   "nbconvert_exporter": "python",
   "pygments_lexer": "ipython3",
   "version": "3.11.10"
  }
 },
 "nbformat": 4,
 "nbformat_minor": 5
}
