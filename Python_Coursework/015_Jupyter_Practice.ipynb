{
 "cells": [
  {
   "cell_type": "markdown",
   "id": "53b2fbc1-ee6b-4d9a-b7de-f50742dc1ea6",
   "metadata": {},
   "source": [
    "# Jupyter Notebook Intro\n",
    "## Section 1: Markdown Basics\n",
    "\n",
    "This is body text. I can use this area to provide more in depth explanations of my:\n",
    "\n",
    "* Thought process\n",
    "* Overall workflow\n",
    "* etc\n",
    "\n",
    "Anything that would be too much text for comments.\n",
    "\n",
    "To create bulleted lists, begin a line with *.\n",
    "\n",
    "Numbered lists can be created by beginning a line with 1., 2., and so on.\n",
    "\n",
    "Markdown has a **lot** of capabilities, and could be a course on its own. You will learn more as you build more \n",
    "notebooks and look at the work of others.\n",
    "\n",
    "The Essentials to get started are:\n",
    "\n",
    "1. Create headers with # (one is biggest, six is the smallest header)\n",
    "2. **Bold**, *italicize*, ***Bold AND Italic***\n",
    "3. Creating bulleted or numbered lists (begin a new line with * for bullets 1. for numbers).\n",
    "4. Code highlighting e.q. `my_variable = 5`. Use the backtick, not apostrophe.\n",
    "\n",
    "To explore further, I highly recommend [this guide.](https://www.markdownguide.org/basic-syntax/)"
   ]
  },
  {
   "cell_type": "code",
   "execution_count": 1,
   "id": "5ca11f2b-419a-4030-a580-edcacee5f9a5",
   "metadata": {},
   "outputs": [
    {
     "data": {
      "text/plain": [
       "10"
      ]
     },
     "execution_count": 1,
     "metadata": {},
     "output_type": "execute_result"
    }
   ],
   "source": [
    "5 + 5"
   ]
  },
  {
   "cell_type": "code",
   "execution_count": 2,
   "id": "7fce40a7-48aa-4668-a675-2b313050ef60",
   "metadata": {},
   "outputs": [
    {
     "data": {
      "text/plain": [
       "0"
      ]
     },
     "execution_count": 2,
     "metadata": {},
     "output_type": "execute_result"
    }
   ],
   "source": [
    "5 - 5"
   ]
  },
  {
   "cell_type": "markdown",
   "id": "20c8b885-a643-429e-8b38-f74df693c1a9",
   "metadata": {},
   "source": [
    "## Section 2: The Print Function"
   ]
  },
  {
   "cell_type": "code",
   "execution_count": 4,
   "id": "98a97540-98df-412d-8eb3-8fb4cb4033fe",
   "metadata": {},
   "outputs": [
    {
     "name": "stdout",
     "output_type": "stream",
     "text": [
      "Hello, my name is Pönch!\n"
     ]
    }
   ],
   "source": [
    "print('Hello, my name is Pönch!')"
   ]
  },
  {
   "cell_type": "code",
   "execution_count": 5,
   "id": "2e4c21c3-9a47-4d03-9692-b8545854e370",
   "metadata": {},
   "outputs": [
    {
     "name": "stdout",
     "output_type": "stream",
     "text": [
      "Print your name here:\n"
     ]
    }
   ],
   "source": [
    "print('Print your name here:')"
   ]
  },
  {
   "cell_type": "code",
   "execution_count": 6,
   "id": "7b9bdd4e-7745-4124-b966-5802a31f3387",
   "metadata": {},
   "outputs": [
    {
     "data": {
      "text/plain": [
       "\u001b[0;31mSignature:\u001b[0m \u001b[0mprint\u001b[0m\u001b[0;34m(\u001b[0m\u001b[0;34m*\u001b[0m\u001b[0margs\u001b[0m\u001b[0;34m,\u001b[0m \u001b[0msep\u001b[0m\u001b[0;34m=\u001b[0m\u001b[0;34m' '\u001b[0m\u001b[0;34m,\u001b[0m \u001b[0mend\u001b[0m\u001b[0;34m=\u001b[0m\u001b[0;34m'\\n'\u001b[0m\u001b[0;34m,\u001b[0m \u001b[0mfile\u001b[0m\u001b[0;34m=\u001b[0m\u001b[0;32mNone\u001b[0m\u001b[0;34m,\u001b[0m \u001b[0mflush\u001b[0m\u001b[0;34m=\u001b[0m\u001b[0;32mFalse\u001b[0m\u001b[0;34m)\u001b[0m\u001b[0;34m\u001b[0m\u001b[0;34m\u001b[0m\u001b[0m\n",
       "\u001b[0;31mDocstring:\u001b[0m\n",
       "Prints the values to a stream, or to sys.stdout by default.\n",
       "\n",
       "sep\n",
       "  string inserted between values, default a space.\n",
       "end\n",
       "  string appended after the last value, default a newline.\n",
       "file\n",
       "  a file-like object (stream); defaults to the current sys.stdout.\n",
       "flush\n",
       "  whether to forcibly flush the stream.\n",
       "\u001b[0;31mType:\u001b[0m      builtin_function_or_method"
      ]
     },
     "metadata": {},
     "output_type": "display_data"
    }
   ],
   "source": [
    "print?"
   ]
  },
  {
   "cell_type": "code",
   "execution_count": null,
   "id": "f09fed96-3306-4cfb-9a61-9831739c62cc",
   "metadata": {},
   "outputs": [],
   "source": []
  }
 ],
 "metadata": {
  "kernelspec": {
   "display_name": "Python 3 (ipykernel)",
   "language": "python",
   "name": "python3"
  },
  "language_info": {
   "codemirror_mode": {
    "name": "ipython",
    "version": 3
   },
   "file_extension": ".py",
   "mimetype": "text/x-python",
   "name": "python",
   "nbconvert_exporter": "python",
   "pygments_lexer": "ipython3",
   "version": "3.11.10"
  }
 },
 "nbformat": 4,
 "nbformat_minor": 5
}
