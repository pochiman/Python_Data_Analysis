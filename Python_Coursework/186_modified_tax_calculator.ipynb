{
 "cells": [
  {
   "cell_type": "markdown",
   "id": "489b9d5b",
   "metadata": {},
   "source": [
    "### Modified Tax Calculator\n",
    "\n",
    "Since the tax calculator we made was primarily for our Stowe employees, let's modify the tax calculator below to have a default tax rate of 6%. \n",
    "\n",
    "Also, we want the output of the function to return a list containing the subtotal, tax, and totals."
   ]
  },
  {
   "cell_type": "code",
   "execution_count": 5,
   "id": "4105f94b",
   "metadata": {},
   "outputs": [
    {
     "name": "stdout",
     "output_type": "stream",
     "text": [
      "Writing tax_calculator.py\n"
     ]
    }
   ],
   "source": [
    "%%writefile tax_calculator.py\n",
    "\n",
    "def tax_calculator(subtotal, sales_tax=.06):\n",
    "    \"\"\"takes in a subtotal and tax rate and returns [subtotal, tax, total]\n",
    "\n",
    "    Args:\n",
    "        subtotal (float, int): cost of items in transaction\n",
    "        tax_rate (float, optional): tax rate at store location. Defaults to .06.\n",
    "\n",
    "    Returns:\n",
    "        list: list containing subtotal, total, and tax\n",
    "    \"\"\"\n",
    "    tax = subtotal * sales_tax\n",
    "    total = subtotal + tax\n",
    "\n",
    "    return [subtotal, tax, total]"
   ]
  },
  {
   "cell_type": "code",
   "execution_count": 4,
   "id": "2784deb1",
   "metadata": {},
   "outputs": [
    {
     "data": {
      "text/plain": [
       "[100, 10.0, 110.0]"
      ]
     },
     "execution_count": 4,
     "metadata": {},
     "output_type": "execute_result"
    }
   ],
   "source": [
    "tax_calculator(100, .10)"
   ]
  },
  {
   "cell_type": "code",
   "execution_count": null,
   "id": "0ee99599-0db5-460a-8953-a704b3e6cccf",
   "metadata": {},
   "outputs": [],
   "source": []
  }
 ],
 "metadata": {
  "kernelspec": {
   "display_name": "Python 3 (ipykernel)",
   "language": "python",
   "name": "python3"
  },
  "language_info": {
   "codemirror_mode": {
    "name": "ipython",
    "version": 3
   },
   "file_extension": ".py",
   "mimetype": "text/x-python",
   "name": "python",
   "nbconvert_exporter": "python",
   "pygments_lexer": "ipython3",
   "version": "3.11.10"
  }
 },
 "nbformat": 4,
 "nbformat_minor": 5
}
