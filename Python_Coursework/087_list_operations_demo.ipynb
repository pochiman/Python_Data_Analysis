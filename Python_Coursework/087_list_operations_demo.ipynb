{
 "cells": [
  {
   "cell_type": "code",
   "execution_count": 1,
   "id": "1afcaff2-66ce-4a70-97b4-fcf0a902d5db",
   "metadata": {},
   "outputs": [
    {
     "data": {
      "text/plain": [
       "['C00001', 'C00003', 'C00005', 'C00010']"
      ]
     },
     "execution_count": 1,
     "metadata": {},
     "output_type": "execute_result"
    }
   ],
   "source": [
    "customer_ids = ['C00001', 'C00003', 'C00005', 'C00010']\n",
    "\n",
    "customer_ids"
   ]
  },
  {
   "cell_type": "code",
   "execution_count": 2,
   "id": "20b882d5-06e3-4491-a0c0-8a79b022422a",
   "metadata": {},
   "outputs": [
    {
     "data": {
      "text/plain": [
       "False"
      ]
     },
     "execution_count": 2,
     "metadata": {},
     "output_type": "execute_result"
    }
   ],
   "source": [
    "'C00003' not in customer_ids"
   ]
  },
  {
   "cell_type": "code",
   "execution_count": 3,
   "id": "b9de6d7b-2b86-4fae-9fd4-d51cebd56cb9",
   "metadata": {},
   "outputs": [
    {
     "data": {
      "text/plain": [
       "5"
      ]
     },
     "execution_count": 3,
     "metadata": {},
     "output_type": "execute_result"
    }
   ],
   "source": [
    "int(customer_ids[2][-5:])"
   ]
  },
  {
   "cell_type": "code",
   "execution_count": 4,
   "id": "76cb1ad1-8923-419d-8516-584a7820db9b",
   "metadata": {},
   "outputs": [
    {
     "data": {
      "text/plain": [
       "['C00001', 'C00003']"
      ]
     },
     "execution_count": 4,
     "metadata": {},
     "output_type": "execute_result"
    }
   ],
   "source": [
    "customer_ids[:2]"
   ]
  },
  {
   "cell_type": "code",
   "execution_count": null,
   "id": "b04075bd-2d73-4c34-8384-a7dc453d8acf",
   "metadata": {},
   "outputs": [],
   "source": []
  }
 ],
 "metadata": {
  "kernelspec": {
   "display_name": "Python 3 (ipykernel)",
   "language": "python",
   "name": "python3"
  },
  "language_info": {
   "codemirror_mode": {
    "name": "ipython",
    "version": 3
   },
   "file_extension": ".py",
   "mimetype": "text/x-python",
   "name": "python",
   "nbconvert_exporter": "python",
   "pygments_lexer": "ipython3",
   "version": "3.11.10"
  }
 },
 "nbformat": 4,
 "nbformat_minor": 5
}
