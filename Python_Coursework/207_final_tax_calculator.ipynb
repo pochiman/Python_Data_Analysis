{
 "cells": [
  {
   "cell_type": "markdown",
   "id": "15a7a09a",
   "metadata": {},
   "source": [
    "### Transaction Dictionary Creator\n",
    "\n",
    "Hi there, we need to make some final updates to our tax calculator function.\n",
    "\n",
    "We need a function takes a list of customer_ids, a list of subtotals, and a tax rate, that calls the tax_calculator on a list of subtotals, then returns a dictionary with customer_IDs as keys, and the lists returned from tax_calculator as the values.\n",
    "\n",
    "A dictionary comprehension would be very helpful here.\n",
    "\n",
    "Your function will need the following arguments:\n",
    "\n",
    "* customer_ids - a list of strings\n",
    "* subtotals - a list of numbers\n",
    "* tax_rate - the tax rate which will be passed to tax_calculator\n",
    "\n",
    "The output will be a dictionary with:\n",
    "\n",
    "* Customer IDs as keys\n",
    "* [subtotal, tax, total] as values\n",
    "\n"
   ]
  },
  {
   "cell_type": "code",
   "execution_count": 1,
   "id": "cd849cc8",
   "metadata": {},
   "outputs": [],
   "source": [
    "from tax_calculator import tax_calculator\n",
    "\n",
    "customer_ids = ['C00004', 'C00007', 'C00015', 'C00016', 'C00020', 'C00010']\n",
    "\n",
    "subtotals = [15.98, 899.97, 799.97, 117.96, 5.99, 599.99]"
   ]
  },
  {
   "cell_type": "code",
   "execution_count": 2,
   "id": "0b087eb8",
   "metadata": {},
   "outputs": [
    {
     "data": {
      "text/plain": [
       "{'C00004': [15.98, 1.2784, 17.2584],\n",
       " 'C00007': [899.97, 71.9976, 971.9676000000001],\n",
       " 'C00015': [799.97, 63.997600000000006, 863.9676000000001],\n",
       " 'C00016': [117.96, 9.4368, 127.3968],\n",
       " 'C00020': [5.99, 0.4792, 6.4692],\n",
       " 'C00010': [599.99, 47.9992, 647.9892]}"
      ]
     },
     "execution_count": 2,
     "metadata": {},
     "output_type": "execute_result"
    }
   ],
   "source": [
    "customer_dict = {\n",
    "    customer_id: tax_calculator(subtotal, 0.08)\n",
    "    for customer_id, subtotal in zip(customer_ids, subtotals)\n",
    "}\n",
    "\n",
    "customer_dict"
   ]
  },
  {
   "cell_type": "code",
   "execution_count": 3,
   "id": "a2820944",
   "metadata": {},
   "outputs": [
    {
     "data": {
      "text/plain": [
       "{'C00004': [15.98, 1.2784, 17.2584],\n",
       " 'C00007': [899.97, 71.9976, 971.9676000000001],\n",
       " 'C00015': [799.97, 63.997600000000006, 863.9676000000001],\n",
       " 'C00016': [117.96, 9.4368, 127.3968],\n",
       " 'C00020': [5.99, 0.4792, 6.4692],\n",
       " 'C00010': [599.99, 47.9992, 647.9892]}"
      ]
     },
     "execution_count": 3,
     "metadata": {},
     "output_type": "execute_result"
    }
   ],
   "source": [
    "customer_dict = {\n",
    "    customer_ids[i]: tax_calculator(subtotal, 0.08)\n",
    "    for i, subtotal in enumerate(subtotals)\n",
    "}\n",
    "\n",
    "customer_dict"
   ]
  },
  {
   "cell_type": "code",
   "execution_count": 4,
   "id": "94c17fbd",
   "metadata": {},
   "outputs": [],
   "source": [
    "def transaction_dict_creator(customer_ids, subtotals, tax_rate):\n",
    "    customer_dict = {\n",
    "        customer_id: tax_calculator(subtotal, tax_rate)\n",
    "        for customer_id, subtotal in zip(customer_ids, subtotals)\n",
    "    }\n",
    "    return customer_dict"
   ]
  },
  {
   "cell_type": "code",
   "execution_count": 5,
   "id": "487ae454-4117-424b-9a1f-ae912d3892c0",
   "metadata": {},
   "outputs": [
    {
     "data": {
      "text/plain": [
       "{'C00004': [15.98, 0.9588, 16.9388],\n",
       " 'C00007': [899.97, 53.9982, 953.9682],\n",
       " 'C00015': [799.97, 47.9982, 847.9682],\n",
       " 'C00016': [117.96, 7.0775999999999994, 125.0376],\n",
       " 'C00020': [5.99, 0.3594, 6.3494],\n",
       " 'C00010': [599.99, 35.9994, 635.9894]}"
      ]
     },
     "execution_count": 5,
     "metadata": {},
     "output_type": "execute_result"
    }
   ],
   "source": [
    "transaction_dict_creator(customer_ids, subtotals, .06)"
   ]
  },
  {
   "cell_type": "code",
   "execution_count": null,
   "id": "0c437acb-29f8-4efd-b23f-110c30797807",
   "metadata": {},
   "outputs": [],
   "source": []
  }
 ],
 "metadata": {
  "kernelspec": {
   "display_name": "Python 3 (ipykernel)",
   "language": "python",
   "name": "python3"
  },
  "language_info": {
   "codemirror_mode": {
    "name": "ipython",
    "version": 3
   },
   "file_extension": ".py",
   "mimetype": "text/x-python",
   "name": "python",
   "nbconvert_exporter": "python",
   "pygments_lexer": "ipython3",
   "version": "3.11.10"
  }
 },
 "nbformat": 4,
 "nbformat_minor": 5
}
