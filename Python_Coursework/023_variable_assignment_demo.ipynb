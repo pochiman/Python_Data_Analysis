{
 "cells": [
  {
   "cell_type": "code",
   "execution_count": 1,
   "id": "f4802ac4-3815-4d7f-842c-c6961fb037d0",
   "metadata": {},
   "outputs": [],
   "source": [
    "price = 5"
   ]
  },
  {
   "cell_type": "code",
   "execution_count": 2,
   "id": "e048ab46-c95d-4d6b-98e8-ed5cc379649f",
   "metadata": {},
   "outputs": [
    {
     "data": {
      "text/plain": [
       "5"
      ]
     },
     "execution_count": 2,
     "metadata": {},
     "output_type": "execute_result"
    }
   ],
   "source": [
    "price"
   ]
  },
  {
   "cell_type": "code",
   "execution_count": 4,
   "id": "6df337fa-be53-4804-9748-4f748bfaab99",
   "metadata": {},
   "outputs": [
    {
     "name": "stdout",
     "output_type": "stream",
     "text": [
      "6\n"
     ]
    }
   ],
   "source": [
    "print(price + 1)"
   ]
  },
  {
   "cell_type": "code",
   "execution_count": 6,
   "id": "74b5a4e0-5258-4d6e-a29c-0b51e40f40c7",
   "metadata": {},
   "outputs": [
    {
     "name": "stdout",
     "output_type": "stream",
     "text": [
      "7\n"
     ]
    }
   ],
   "source": [
    "tax = 2\n",
    "\n",
    "print(price + tax)"
   ]
  },
  {
   "cell_type": "code",
   "execution_count": 7,
   "id": "476c4600-9f11-4186-b8f1-917ba6b3a151",
   "metadata": {},
   "outputs": [
    {
     "name": "stdout",
     "output_type": "stream",
     "text": [
      "skis\n"
     ]
    }
   ],
   "source": [
    "product_name = 'skis'\n",
    "\n",
    "print(product_name)"
   ]
  },
  {
   "cell_type": "code",
   "execution_count": 10,
   "id": "83b73dd4-db48-4dcc-97e3-854c57082496",
   "metadata": {},
   "outputs": [
    {
     "data": {
      "text/plain": [
       "list"
      ]
     },
     "execution_count": 10,
     "metadata": {},
     "output_type": "execute_result"
    }
   ],
   "source": [
    "price_list = [2.50, 4.99, 10, None, 'Discount']\n",
    "\n",
    "price_list_type = type(price_list)\n",
    "\n",
    "price_list_type"
   ]
  },
  {
   "cell_type": "code",
   "execution_count": null,
   "id": "e742cfd4-9399-41d6-a636-cef503746ece",
   "metadata": {},
   "outputs": [],
   "source": []
  }
 ],
 "metadata": {
  "kernelspec": {
   "display_name": "Python 3 (ipykernel)",
   "language": "python",
   "name": "python3"
  },
  "language_info": {
   "codemirror_mode": {
    "name": "ipython",
    "version": 3
   },
   "file_extension": ".py",
   "mimetype": "text/x-python",
   "name": "python",
   "nbconvert_exporter": "python",
   "pygments_lexer": "ipython3",
   "version": "3.11.10"
  }
 },
 "nbformat": 4,
 "nbformat_minor": 5
}
