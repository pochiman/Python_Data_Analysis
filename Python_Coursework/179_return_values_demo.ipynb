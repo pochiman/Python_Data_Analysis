{
 "cells": [
  {
   "cell_type": "code",
   "execution_count": 1,
   "id": "7228b19e-78d2-4221-b002-57f872e9750e",
   "metadata": {},
   "outputs": [],
   "source": [
    "website_ratings = [\"5 stars\", \"4 stars\", \"3 stars\"]"
   ]
  },
  {
   "cell_type": "code",
   "execution_count": 2,
   "id": "5891eaac-b33c-4989-8872-11f9ad72021b",
   "metadata": {},
   "outputs": [],
   "source": [
    "def rating_cleaner(rating):\n",
    "    numeric_rating = int(rating[0])\n",
    "    return rating, numeric_rating"
   ]
  },
  {
   "cell_type": "code",
   "execution_count": 6,
   "id": "58b70fe7-9bc2-4f0b-a198-838c8ccec490",
   "metadata": {},
   "outputs": [
    {
     "data": {
      "text/plain": [
       "('5 stars', 5)"
      ]
     },
     "execution_count": 6,
     "metadata": {},
     "output_type": "execute_result"
    }
   ],
   "source": [
    "rating_cleaner(website_ratings[0])"
   ]
  },
  {
   "cell_type": "code",
   "execution_count": 3,
   "id": "bdda91f7-c944-4c20-aa1b-19122ee716ad",
   "metadata": {},
   "outputs": [],
   "source": [
    "rating, numeric_rating = rating_cleaner(website_ratings[0])"
   ]
  },
  {
   "cell_type": "code",
   "execution_count": 4,
   "id": "471b6ad6-0724-4918-a9f2-43bd45db6126",
   "metadata": {},
   "outputs": [
    {
     "data": {
      "text/plain": [
       "'5 stars'"
      ]
     },
     "execution_count": 4,
     "metadata": {},
     "output_type": "execute_result"
    }
   ],
   "source": [
    "rating"
   ]
  },
  {
   "cell_type": "code",
   "execution_count": 5,
   "id": "26de2220-5ca2-46a8-97a2-852cc8b48786",
   "metadata": {},
   "outputs": [
    {
     "data": {
      "text/plain": [
       "5"
      ]
     },
     "execution_count": 5,
     "metadata": {},
     "output_type": "execute_result"
    }
   ],
   "source": [
    "numeric_rating"
   ]
  },
  {
   "cell_type": "code",
   "execution_count": null,
   "id": "b346957d-ce49-4942-b3cb-1b3440f19bd8",
   "metadata": {},
   "outputs": [],
   "source": []
  }
 ],
 "metadata": {
  "kernelspec": {
   "display_name": "Python 3 (ipykernel)",
   "language": "python",
   "name": "python3"
  },
  "language_info": {
   "codemirror_mode": {
    "name": "ipython",
    "version": 3
   },
   "file_extension": ".py",
   "mimetype": "text/x-python",
   "name": "python",
   "nbconvert_exporter": "python",
   "pygments_lexer": "ipython3",
   "version": "3.11.10"
  }
 },
 "nbformat": 4,
 "nbformat_minor": 5
}
