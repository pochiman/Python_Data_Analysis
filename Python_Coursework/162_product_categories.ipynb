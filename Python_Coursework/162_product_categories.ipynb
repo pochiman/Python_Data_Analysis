{
 "cells": [
  {
   "cell_type": "markdown",
   "id": "0632f198",
   "metadata": {},
   "source": [
    "### Product Category Analysis\n",
    "\n",
    "Hi There,\n",
    "\n",
    "I've supplied the code to create our European item dictionary below.\n",
    "\n",
    "Run the top cell first to create the data."
   ]
  },
  {
   "cell_type": "code",
   "execution_count": 2,
   "id": "a885e4cd",
   "metadata": {},
   "outputs": [
    {
     "data": {
      "text/plain": [
       "{10001: ('Coffee', 5.27, 'beverage', ['250mL']),\n",
       " 10002: ('Beanie', 8.79, 'clothing', ['Child', 'Adult']),\n",
       " 10003: ('Gloves', 17.59, 'clothing', ['Child', 'Adult']),\n",
       " 10004: ('Sweatshirt', 21.99, 'clothing', ['XS', 'S', 'M', 'L', 'XL', 'XXL']),\n",
       " 10005: ('Helmet', 87.99, 'safety', ['Child', 'Adult']),\n",
       " 10006: ('Snow Pants', 70.39, 'clothing', ['XS', 'S', 'M', 'L', 'XL', 'XXL']),\n",
       " 10007: ('Coat', 105.59, 'clothing', ['S', 'M', 'L']),\n",
       " 10008: ('Ski Poles', 87.99, 'hardware', ['S', 'M', 'L']),\n",
       " 10009: ('Ski Boots', 175.99, 'hardware', [5, 6, 7, 8, 9, 10, 11])}"
      ]
     },
     "execution_count": 2,
     "metadata": {},
     "output_type": "execute_result"
    }
   ],
   "source": [
    "item_ids = [\n",
    "    10001, 10002, 10003, 10004, 10005, \n",
    "    10006, 10007, 10008, 10009\n",
    "]\n",
    "\n",
    "item_names = [\n",
    "    \"Coffee\", \"Beanie\", \"Gloves\", \"Sweatshirt\", \"Helmet\",\n",
    "    \"Snow Pants\", \"Coat\", \"Ski Poles\", \"Ski Boots\"\n",
    "]\n",
    "\n",
    "euro_prices = [\n",
    "    5.27, 8.79, 17.59, 21.99, 87.99, \n",
    "    70.39, 105.59, 87.99, 175.99\n",
    "]\n",
    "\n",
    "item_category = [\n",
    "    \"beverage\", \"clothing\", \"clothing\", \"clothing\", \"safety\",\n",
    "    \"clothing\", \"clothing\", \"hardware\", \"hardware\",\n",
    "]\n",
    "\n",
    "sizes = [\n",
    "    [\"250mL\"],\n",
    "    [\"Child\", \"Adult\"],\n",
    "    [\"Child\", \"Adult\"],\n",
    "    [\"XS\", \"S\", \"M\", \"L\", \"XL\", \"XXL\"],\n",
    "    [\"Child\", \"Adult\"],\n",
    "    [\"XS\", \"S\", \"M\", \"L\", \"XL\", \"XXL\"],\n",
    "    [\"S\", \"M\", \"L\"],\n",
    "    [\"S\", \"M\", \"L\"],\n",
    "    [5, 6, 7, 8, 9, 10, 11],\n",
    "    [\"S\", \"M\", \"L\"],\n",
    "    [5, 6, 7, 8, 9, 10, 11],\n",
    "    [\"NA\"],\n",
    "    [\"S\", \"M\", \"L\", \"Powder\"]\n",
    "]\n",
    "\n",
    "euro_items = dict(zip(item_ids, zip(item_names, euro_prices, item_category, sizes)))\n",
    "\n",
    "euro_items"
   ]
  },
  {
   "cell_type": "markdown",
   "id": "c493e4c3",
   "metadata": {},
   "source": [
    "### Unique Categories\n",
    "\n",
    "Can you collect the unique item categories from the dictionary `euro_items`? \n",
    "\n",
    "It's the first step in my analysis."
   ]
  },
  {
   "cell_type": "code",
   "execution_count": 3,
   "id": "95ecc229",
   "metadata": {},
   "outputs": [
    {
     "data": {
      "text/plain": [
       "{'beverage', 'clothing', 'hardware', 'safety'}"
      ]
     },
     "execution_count": 3,
     "metadata": {},
     "output_type": "execute_result"
    }
   ],
   "source": [
    "categories = []\n",
    "\n",
    "for value in euro_items.values():\n",
    "    categories.append(value[2])\n",
    "\n",
    "unique_categories = set(categories)\n",
    "\n",
    "unique_categories"
   ]
  },
  {
   "cell_type": "code",
   "execution_count": 4,
   "id": "69e5766c-b747-41db-9b75-8efde013c5b2",
   "metadata": {},
   "outputs": [
    {
     "data": {
      "text/plain": [
       "{'beverage', 'clothing', 'hardware', 'safety'}"
      ]
     },
     "execution_count": 4,
     "metadata": {},
     "output_type": "execute_result"
    }
   ],
   "source": [
    "unique_categories = set()\n",
    "\n",
    "for value in euro_items.values():\n",
    "    unique_categories.add(value[2])\n",
    "\n",
    "unique_categories"
   ]
  },
  {
   "cell_type": "markdown",
   "id": "a5b391ef",
   "metadata": {},
   "source": [
    "### How many categories are there?\n",
    "\n",
    "Now that you have that, how many categories are there?"
   ]
  },
  {
   "cell_type": "code",
   "execution_count": 5,
   "id": "f3833d65",
   "metadata": {},
   "outputs": [
    {
     "data": {
      "text/plain": [
       "4"
      ]
     },
     "execution_count": 5,
     "metadata": {},
     "output_type": "execute_result"
    }
   ],
   "source": [
    "len(unique_categories)"
   ]
  },
  {
   "cell_type": "markdown",
   "id": "6e817ba4",
   "metadata": {},
   "source": [
    "### Is 'outdoor' in our set of categories?\n",
    "\n",
    "Outdoor equipment is popular in Europe - can you see if we've added items from that category based on the unique categories you created? "
   ]
  },
  {
   "cell_type": "code",
   "execution_count": 6,
   "id": "61752d5f",
   "metadata": {},
   "outputs": [
    {
     "data": {
      "text/plain": [
       "False"
      ]
     },
     "execution_count": 6,
     "metadata": {},
     "output_type": "execute_result"
    }
   ],
   "source": [
    "'outdoor' in unique_categories"
   ]
  },
  {
   "cell_type": "code",
   "execution_count": null,
   "id": "9e1e8416-b253-427a-b7a3-a1f95a0c5ba1",
   "metadata": {},
   "outputs": [],
   "source": []
  }
 ],
 "metadata": {
  "kernelspec": {
   "display_name": "Python 3 (ipykernel)",
   "language": "python",
   "name": "python3"
  },
  "language_info": {
   "codemirror_mode": {
    "name": "ipython",
    "version": 3
   },
   "file_extension": ".py",
   "mimetype": "text/x-python",
   "name": "python",
   "nbconvert_exporter": "python",
   "pygments_lexer": "ipython3",
   "version": "3.11.10"
  }
 },
 "nbformat": 4,
 "nbformat_minor": 5
}
