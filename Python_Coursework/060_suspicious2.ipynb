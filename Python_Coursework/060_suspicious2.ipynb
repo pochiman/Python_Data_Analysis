{
 "cells": [
  {
   "cell_type": "markdown",
   "id": "44e91623",
   "metadata": {},
   "source": [
    "### Cryptography\n",
    "\n",
    "\n",
    "\n",
    "\n",
    "Hi there! \n",
    "\n",
    "There are five text message below. I've also convieniently pasted the alphabet for you, which we'll need to crack the code.\n",
    "\n",
    "The length of each message represents the letter in the alphabet for each character in the password. "
   ]
  },
  {
   "cell_type": "code",
   "execution_count": 1,
   "id": "dd1db50e",
   "metadata": {},
   "outputs": [],
   "source": [
    "alphabet = 'abcdefghijklmnopqrstuvwxyz'\n",
    "message1 = 'Hello World!'\n",
    "message2 = ''\n",
    "message3 = 'It snowed a lot today'\n",
    "message4 = 'eeee'\n",
    "message5 = 'I love snow!!'"
   ]
  },
  {
   "cell_type": "markdown",
   "id": "7aa64328",
   "metadata": {},
   "source": [
    "### Crack the Code\n",
    "\n",
    "In the cell below, combine the characters retrieved using the length function into a single string, and assign that to `password`. Then print the password."
   ]
  },
  {
   "cell_type": "code",
   "execution_count": 2,
   "id": "cd36a182",
   "metadata": {},
   "outputs": [],
   "source": [
    "password = (alphabet[len(message1)]\n",
    "           + alphabet[len(message2)]\n",
    "           + alphabet[len(message3)]\n",
    "           + alphabet[len(message4)]\n",
    "           + alphabet[len(message5)])"
   ]
  },
  {
   "cell_type": "code",
   "execution_count": 3,
   "id": "dcca358e",
   "metadata": {},
   "outputs": [
    {
     "data": {
      "text/plain": [
       "'maven'"
      ]
     },
     "execution_count": 3,
     "metadata": {},
     "output_type": "execute_result"
    }
   ],
   "source": [
    "password"
   ]
  },
  {
   "cell_type": "code",
   "execution_count": null,
   "id": "043c7207-495a-4499-bdab-3d603c181c4a",
   "metadata": {},
   "outputs": [],
   "source": []
  }
 ],
 "metadata": {
  "kernelspec": {
   "display_name": "Python 3 (ipykernel)",
   "language": "python",
   "name": "python3"
  },
  "language_info": {
   "codemirror_mode": {
    "name": "ipython",
    "version": 3
   },
   "file_extension": ".py",
   "mimetype": "text/x-python",
   "name": "python",
   "nbconvert_exporter": "python",
   "pygments_lexer": "ipython3",
   "version": "3.11.10"
  }
 },
 "nbformat": 4,
 "nbformat_minor": 5
}
