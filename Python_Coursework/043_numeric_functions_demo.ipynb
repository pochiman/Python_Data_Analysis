{
 "cells": [
  {
   "cell_type": "code",
   "execution_count": 6,
   "id": "d6de6eff-3858-4aef-94fe-424983d63432",
   "metadata": {},
   "outputs": [],
   "source": [
    "number = -3.579"
   ]
  },
  {
   "cell_type": "code",
   "execution_count": 2,
   "id": "39b827a1-3db6-4cbf-90f8-9670959e70b6",
   "metadata": {},
   "outputs": [
    {
     "data": {
      "text/plain": [
       "4"
      ]
     },
     "execution_count": 2,
     "metadata": {},
     "output_type": "execute_result"
    }
   ],
   "source": [
    "round(number)"
   ]
  },
  {
   "cell_type": "code",
   "execution_count": 3,
   "id": "009b42fa-23f5-4f55-94a3-f5f019d9dc40",
   "metadata": {},
   "outputs": [
    {
     "data": {
      "text/plain": [
       "3.58"
      ]
     },
     "execution_count": 3,
     "metadata": {},
     "output_type": "execute_result"
    }
   ],
   "source": [
    "round(number, 2)"
   ]
  },
  {
   "cell_type": "code",
   "execution_count": 4,
   "id": "2ed910c3-1312-4bbe-a756-4351c2e5def6",
   "metadata": {},
   "outputs": [
    {
     "data": {
      "text/plain": [
       "3.6"
      ]
     },
     "execution_count": 4,
     "metadata": {},
     "output_type": "execute_result"
    }
   ],
   "source": [
    "round(number, 1)"
   ]
  },
  {
   "cell_type": "code",
   "execution_count": 7,
   "id": "96080640-7ebd-4cbd-9732-6b9658bc06dc",
   "metadata": {},
   "outputs": [
    {
     "data": {
      "text/plain": [
       "3.579"
      ]
     },
     "execution_count": 7,
     "metadata": {},
     "output_type": "execute_result"
    }
   ],
   "source": [
    "abs(number)"
   ]
  },
  {
   "cell_type": "code",
   "execution_count": 8,
   "id": "0740d9d7-bb30-4597-b365-aeddd01b7927",
   "metadata": {},
   "outputs": [
    {
     "data": {
      "text/plain": [
       "15"
      ]
     },
     "execution_count": 8,
     "metadata": {},
     "output_type": "execute_result"
    }
   ],
   "source": [
    "max(5, 10, 15)"
   ]
  },
  {
   "cell_type": "code",
   "execution_count": 9,
   "id": "b83af099-8f3b-4b43-9ea6-b4f3c65fb674",
   "metadata": {},
   "outputs": [],
   "source": [
    "golf_scores = [-3, 0, 2, 30]"
   ]
  },
  {
   "cell_type": "code",
   "execution_count": 10,
   "id": "a2475b03-c0d7-490b-8aa4-9723cee09874",
   "metadata": {},
   "outputs": [
    {
     "data": {
      "text/plain": [
       "-3"
      ]
     },
     "execution_count": 10,
     "metadata": {},
     "output_type": "execute_result"
    }
   ],
   "source": [
    "min(golf_scores)"
   ]
  },
  {
   "cell_type": "code",
   "execution_count": 11,
   "id": "ffd4aecf-27dd-4904-91f3-505a05af38e5",
   "metadata": {},
   "outputs": [
    {
     "data": {
      "text/plain": [
       "30"
      ]
     },
     "execution_count": 11,
     "metadata": {},
     "output_type": "execute_result"
    }
   ],
   "source": [
    "max(golf_scores)"
   ]
  },
  {
   "cell_type": "code",
   "execution_count": 12,
   "id": "f3fa918d-16d5-49d0-a11a-379610b9e0ee",
   "metadata": {},
   "outputs": [
    {
     "data": {
      "text/plain": [
       "29"
      ]
     },
     "execution_count": 12,
     "metadata": {},
     "output_type": "execute_result"
    }
   ],
   "source": [
    "sum(golf_scores)"
   ]
  },
  {
   "cell_type": "code",
   "execution_count": 13,
   "id": "f87bf654-d066-4ea6-959d-8690cf316d52",
   "metadata": {},
   "outputs": [
    {
     "data": {
      "text/plain": [
       "32"
      ]
     },
     "execution_count": 13,
     "metadata": {},
     "output_type": "execute_result"
    }
   ],
   "source": [
    "sum(golf_scores, 3)"
   ]
  },
  {
   "cell_type": "code",
   "execution_count": null,
   "id": "dceab6d1-e45d-47ed-bdc8-0cbece2887d3",
   "metadata": {},
   "outputs": [],
   "source": []
  }
 ],
 "metadata": {
  "kernelspec": {
   "display_name": "Python 3 (ipykernel)",
   "language": "python",
   "name": "python3"
  },
  "language_info": {
   "codemirror_mode": {
    "name": "ipython",
    "version": 3
   },
   "file_extension": ".py",
   "mimetype": "text/x-python",
   "name": "python",
   "nbconvert_exporter": "python",
   "pygments_lexer": "ipython3",
   "version": "3.11.6"
  }
 },
 "nbformat": 4,
 "nbformat_minor": 5
}
