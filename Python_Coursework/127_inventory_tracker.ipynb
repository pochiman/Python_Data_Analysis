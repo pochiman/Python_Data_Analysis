{
 "cells": [
  {
   "cell_type": "markdown",
   "id": "9a6ec912",
   "metadata": {},
   "source": [
    "### Calculate Projected Inventory for Each Month\n",
    "\n",
    "We currently have 686 pairs of skis in inventory, and sell 84 each month.\n",
    "\n",
    "Write a program that keeps track of monthly inventory, by subtracting 84 pairs of skis from inventory each month. \n",
    "\n",
    "Your program should print 'At the end of month x, we have y pairs of inventory', where x is the number of months that has gone by and y is the remaining inventory at that month.\n",
    "\n",
    "If inventory goes negative, your program should stop running.\n"
   ]
  },
  {
   "cell_type": "code",
   "execution_count": 1,
   "id": "e1fa21a9",
   "metadata": {},
   "outputs": [
    {
     "name": "stdout",
     "output_type": "stream",
     "text": [
      "At the end of month 1, we have 602 pairs of skis.\n",
      "At the end of month 2, we have 518 pairs of skis.\n",
      "At the end of month 3, we have 434 pairs of skis.\n",
      "At the end of month 4, we have 350 pairs of skis.\n",
      "At the end of month 5, we have 266 pairs of skis.\n",
      "At the end of month 6, we have 182 pairs of skis.\n",
      "At the end of month 7, we have 98 pairs of skis.\n",
      "At the end of month 8, we have 14 pairs of skis.\n",
      "At the end of month 9, we have -70 pairs of skis.\n"
     ]
    }
   ],
   "source": [
    "current_inventory = 686\n",
    "monthly_sales = 84\n",
    "month = 0\n",
    "\n",
    "while current_inventory > 0:\n",
    "    current_inventory -= monthly_sales\n",
    "    month += 1\n",
    "    print(f'At the end of month {month}, we have {current_inventory} pairs of skis.')"
   ]
  },
  {
   "cell_type": "code",
   "execution_count": null,
   "id": "fd957674",
   "metadata": {},
   "outputs": [],
   "source": []
  }
 ],
 "metadata": {
  "kernelspec": {
   "display_name": "Python 3 (ipykernel)",
   "language": "python",
   "name": "python3"
  },
  "language_info": {
   "codemirror_mode": {
    "name": "ipython",
    "version": 3
   },
   "file_extension": ".py",
   "mimetype": "text/x-python",
   "name": "python",
   "nbconvert_exporter": "python",
   "pygments_lexer": "ipython3",
   "version": "3.11.10"
  }
 },
 "nbformat": 4,
 "nbformat_minor": 5
}
