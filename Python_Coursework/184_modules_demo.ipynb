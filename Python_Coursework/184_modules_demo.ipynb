{
 "cells": [
  {
   "cell_type": "code",
   "execution_count": 5,
   "id": "c77531de-b919-47ee-89eb-de1b10e5a07a",
   "metadata": {},
   "outputs": [],
   "source": [
    "from rating_cleaner import rating_list_cleaner"
   ]
  },
  {
   "cell_type": "code",
   "execution_count": 2,
   "id": "d05be780-71da-4a2d-9faa-2439cdb60459",
   "metadata": {},
   "outputs": [],
   "source": [
    "website_ratings = [\"5 stars\", \"4 stars\", \"3 stars\"]"
   ]
  },
  {
   "cell_type": "code",
   "execution_count": 4,
   "id": "34227e60-ab47-4b68-9f5d-8584d2e1965e",
   "metadata": {},
   "outputs": [
    {
     "data": {
      "text/plain": [
       "5"
      ]
     },
     "execution_count": 4,
     "metadata": {},
     "output_type": "execute_result"
    }
   ],
   "source": [
    "r.rating_cleaner(website_ratings[0])"
   ]
  },
  {
   "cell_type": "code",
   "execution_count": 6,
   "id": "55c5585d-907e-47c0-9ceb-c7fb62ec0bba",
   "metadata": {},
   "outputs": [
    {
     "data": {
      "text/plain": [
       "[5, 4, 3]"
      ]
     },
     "execution_count": 6,
     "metadata": {},
     "output_type": "execute_result"
    }
   ],
   "source": [
    "rating_list_cleaner(website_ratings)"
   ]
  },
  {
   "cell_type": "code",
   "execution_count": null,
   "id": "1161837a-f9c0-4844-bc33-0bcd82fc19c0",
   "metadata": {},
   "outputs": [],
   "source": []
  }
 ],
 "metadata": {
  "kernelspec": {
   "display_name": "Python 3 (ipykernel)",
   "language": "python",
   "name": "python3"
  },
  "language_info": {
   "codemirror_mode": {
    "name": "ipython",
    "version": 3
   },
   "file_extension": ".py",
   "mimetype": "text/x-python",
   "name": "python",
   "nbconvert_exporter": "python",
   "pygments_lexer": "ipython3",
   "version": "3.11.10"
  }
 },
 "nbformat": 4,
 "nbformat_minor": 5
}
