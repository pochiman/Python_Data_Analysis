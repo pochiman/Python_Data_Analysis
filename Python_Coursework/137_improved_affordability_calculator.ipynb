{
 "cells": [
  {
   "cell_type": "markdown",
   "id": "f119d43f",
   "metadata": {},
   "source": [
    "### Improved Affordability Calculator.\n",
    "\n",
    "We need to make sure our affordability calculator can handle many data types without stopping - our data is VERY messy. We need to make the following changes to the code below:\n",
    "\n",
    "\n",
    "* Make sure it converts the string in the list below into a float. Print a warning that this was string data. Then process as usual.\n",
    "\n",
    "* Also, have the loop skip any instances of None data type.\n",
    "\n",
    "* Then, remove the generic except statement to avoid processing errors.\n",
    "\n",
    "* Finally, change the hard coded value 50 into a variable so we can change this value based on each customer's budget."
   ]
  },
  {
   "cell_type": "code",
   "execution_count": 8,
   "id": "fcfa2a1a",
   "metadata": {},
   "outputs": [
    {
     "name": "stdout",
     "output_type": "stream",
     "text": [
      "I can buy 16.0 of these.\n",
      "I can buy 5.0 of these.\n",
      "I can buy 4.0 of these.\n",
      "This product is free, I can take as many as I like.\n",
      "I can buy 1.0 of these.\n",
      "I can buy 1.0 of these.\n"
     ]
    }
   ],
   "source": [
    "price_list = [5.99, None, 19.99, 24.99, 0, '74.99', 99.99]\n",
    "\n",
    "budget = 100\n",
    "\n",
    "for price in price_list:\n",
    "    if price == None:\n",
    "        continue\n",
    "    try:\n",
    "        affordable_quantity = budget//price\n",
    "        print(f\"I can buy {affordable_quantity} of these.\")\n",
    "    except ZeroDivisionError:\n",
    "        print(\"This product is free, I can take as many as I like.\")\n",
    "    except TypeError:\n",
    "        affordable_quantity = budget//float(price)\n",
    "        print(f\"I can buy {affordable_quantity} of these.\")\n",
    "    except:\n",
    "        print(\"That's not a number\")"
   ]
  },
  {
   "cell_type": "code",
   "execution_count": 7,
   "id": "17723806",
   "metadata": {},
   "outputs": [
    {
     "ename": "TypeError",
     "evalue": "unsupported operand type(s) for //: 'int' and 'str'",
     "output_type": "error",
     "traceback": [
      "\u001b[0;31m---------------------------------------------------------------------------\u001b[0m",
      "\u001b[0;31mTypeError\u001b[0m                                 Traceback (most recent call last)",
      "Cell \u001b[0;32mIn[7], line 1\u001b[0m\n\u001b[0;32m----> 1\u001b[0m \u001b[38;5;241;43m50\u001b[39;49m\u001b[38;5;241;43m/\u001b[39;49m\u001b[38;5;241;43m/\u001b[39;49m\u001b[38;5;124;43m'\u001b[39;49m\u001b[38;5;124;43m74.99\u001b[39;49m\u001b[38;5;124;43m'\u001b[39;49m\n",
      "\u001b[0;31mTypeError\u001b[0m: unsupported operand type(s) for //: 'int' and 'str'"
     ]
    }
   ],
   "source": [
    "50//'74.99'"
   ]
  },
  {
   "cell_type": "code",
   "execution_count": null,
   "id": "ecb53ce6-35c0-4fef-be66-d0c9283ecc1c",
   "metadata": {},
   "outputs": [],
   "source": []
  }
 ],
 "metadata": {
  "kernelspec": {
   "display_name": "Python 3 (ipykernel)",
   "language": "python",
   "name": "python3"
  },
  "language_info": {
   "codemirror_mode": {
    "name": "ipython",
    "version": 3
   },
   "file_extension": ".py",
   "mimetype": "text/x-python",
   "name": "python",
   "nbconvert_exporter": "python",
   "pygments_lexer": "ipython3",
   "version": "3.11.10"
  }
 },
 "nbformat": 4,
 "nbformat_minor": 5
}
