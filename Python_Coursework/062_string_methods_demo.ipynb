{
 "cells": [
  {
   "cell_type": "code",
   "execution_count": 1,
   "id": "95fb4bd8-b2d4-401c-ad4d-1c688b5a7ae8",
   "metadata": {},
   "outputs": [],
   "source": [
    "movie = \"It's a Mega Blockbuster!\""
   ]
  },
  {
   "cell_type": "code",
   "execution_count": 2,
   "id": "89ad7040-18f6-4d2b-83f6-c5e8dbafd10e",
   "metadata": {},
   "outputs": [
    {
     "data": {
      "text/plain": [
       "\"IT'S A MEGA BLOCKBUSTER!\""
      ]
     },
     "execution_count": 2,
     "metadata": {},
     "output_type": "execute_result"
    }
   ],
   "source": [
    "movie.upper()"
   ]
  },
  {
   "cell_type": "code",
   "execution_count": 3,
   "id": "582e96df-d91c-42b3-92f5-6e958c3c83b7",
   "metadata": {},
   "outputs": [
    {
     "data": {
      "text/plain": [
       "\"it's a mega blockbuster!\""
      ]
     },
     "execution_count": 3,
     "metadata": {},
     "output_type": "execute_result"
    }
   ],
   "source": [
    "movie.lower()"
   ]
  },
  {
   "cell_type": "code",
   "execution_count": 4,
   "id": "50d7bcc7-0b01-423e-92da-b5d52bfe1a3f",
   "metadata": {},
   "outputs": [
    {
     "data": {
      "text/plain": [
       "\"It's a Mega Blockbuster\""
      ]
     },
     "execution_count": 4,
     "metadata": {},
     "output_type": "execute_result"
    }
   ],
   "source": [
    "movie.strip('!')"
   ]
  },
  {
   "cell_type": "code",
   "execution_count": 5,
   "id": "d73f792d-6553-4ddc-8788-e1860b6c8ace",
   "metadata": {},
   "outputs": [
    {
     "data": {
      "text/plain": [
       "\"It's a Mega Blockbuster\""
      ]
     },
     "execution_count": 5,
     "metadata": {},
     "output_type": "execute_result"
    }
   ],
   "source": [
    "movie.rstrip('!')"
   ]
  },
  {
   "cell_type": "code",
   "execution_count": 6,
   "id": "1b264b1b-a4ca-4dbc-a74d-3f674ebc3ac7",
   "metadata": {},
   "outputs": [
    {
     "data": {
      "text/plain": [
       "\"It's a Mega Blockbuster!\""
      ]
     },
     "execution_count": 6,
     "metadata": {},
     "output_type": "execute_result"
    }
   ],
   "source": [
    "movie.lstrip('!')"
   ]
  },
  {
   "cell_type": "code",
   "execution_count": 7,
   "id": "195f0d2a-ee5c-42c6-8ae6-f4caba71f167",
   "metadata": {},
   "outputs": [
    {
     "data": {
      "text/plain": [
       "\"It's a Mega Blockbuster.\""
      ]
     },
     "execution_count": 7,
     "metadata": {},
     "output_type": "execute_result"
    }
   ],
   "source": [
    "movie.replace('!', '.')"
   ]
  },
  {
   "cell_type": "code",
   "execution_count": 8,
   "id": "8ae66d89-a59a-49ec-aac3-d5eaf32c8f50",
   "metadata": {},
   "outputs": [
    {
     "data": {
      "text/plain": [
       "[\"It's\", 'a', 'Mega', 'Blockbuster!']"
      ]
     },
     "execution_count": 8,
     "metadata": {},
     "output_type": "execute_result"
    }
   ],
   "source": [
    "movie.split()"
   ]
  },
  {
   "cell_type": "code",
   "execution_count": 9,
   "id": "406c96f3-d48d-4604-8f29-06f3082f10cd",
   "metadata": {},
   "outputs": [
    {
     "data": {
      "text/plain": [
       "['It', 's a Mega Blockbuster!']"
      ]
     },
     "execution_count": 9,
     "metadata": {},
     "output_type": "execute_result"
    }
   ],
   "source": [
    "movie.split(\"'\")"
   ]
  },
  {
   "cell_type": "code",
   "execution_count": 10,
   "id": "63fd077a-548b-4c0a-9bd5-63eb52ab658a",
   "metadata": {},
   "outputs": [
    {
     "data": {
      "text/plain": [
       "[\"It's\", 'a', 'Mega', 'Blockbuster!']"
      ]
     },
     "execution_count": 10,
     "metadata": {},
     "output_type": "execute_result"
    }
   ],
   "source": [
    "word_list = movie.split()\n",
    "\n",
    "word_list"
   ]
  },
  {
   "cell_type": "code",
   "execution_count": 11,
   "id": "66daff46-4273-40d8-9d98-540affe335e8",
   "metadata": {},
   "outputs": [
    {
     "data": {
      "text/plain": [
       "\"It's a Mega Blockbuster!\""
      ]
     },
     "execution_count": 11,
     "metadata": {},
     "output_type": "execute_result"
    }
   ],
   "source": [
    "' '.join(word_list)"
   ]
  },
  {
   "cell_type": "code",
   "execution_count": 12,
   "id": "6855e8b8-ddc0-4a93-b0cf-661a213d7979",
   "metadata": {},
   "outputs": [
    {
     "data": {
      "text/plain": [
       "'its a mega blockbuster'"
      ]
     },
     "execution_count": 12,
     "metadata": {},
     "output_type": "execute_result"
    }
   ],
   "source": [
    "movie.lower().replace(\"'\", '').rstrip('!')"
   ]
  },
  {
   "cell_type": "code",
   "execution_count": null,
   "id": "edeb4254-ac3e-436b-85dc-eb85bd638834",
   "metadata": {},
   "outputs": [],
   "source": []
  }
 ],
 "metadata": {
  "kernelspec": {
   "display_name": "Python 3 (ipykernel)",
   "language": "python",
   "name": "python3"
  },
  "language_info": {
   "codemirror_mode": {
    "name": "ipython",
    "version": 3
   },
   "file_extension": ".py",
   "mimetype": "text/x-python",
   "name": "python",
   "nbconvert_exporter": "python",
   "pygments_lexer": "ipython3",
   "version": "3.11.10"
  }
 },
 "nbformat": 4,
 "nbformat_minor": 5
}
