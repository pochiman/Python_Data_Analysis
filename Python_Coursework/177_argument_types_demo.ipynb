{
 "cells": [
  {
   "cell_type": "code",
   "execution_count": 1,
   "id": "c1f608f4-c095-406c-b134-96f529c8be7b",
   "metadata": {},
   "outputs": [],
   "source": [
    "website_ratings = [\"5 stars\", \"1 star\", \"3 stars\"]\n",
    "forum_ratings = [\"stars: 5\", \"stars: 4\", \"stars: 2\"]"
   ]
  },
  {
   "cell_type": "code",
   "execution_count": 2,
   "id": "543b32cb-b123-4682-94db-ac1726d4f031",
   "metadata": {},
   "outputs": [],
   "source": [
    "def rating_cleaner(rating):\n",
    "    numeric_rating = int(rating[0])\n",
    "    return numeric_rating"
   ]
  },
  {
   "cell_type": "code",
   "execution_count": 3,
   "id": "15359cf6-0708-424a-b7c1-293e3d6583d4",
   "metadata": {},
   "outputs": [
    {
     "data": {
      "text/plain": [
       "5"
      ]
     },
     "execution_count": 3,
     "metadata": {},
     "output_type": "execute_result"
    }
   ],
   "source": [
    "rating_cleaner(\"5 stars\")"
   ]
  },
  {
   "cell_type": "code",
   "execution_count": 4,
   "id": "5913c8d1-c232-46a7-b269-ff147f8c5900",
   "metadata": {},
   "outputs": [],
   "source": [
    "def rating_cleaner(rating, index):\n",
    "    numeric_rating = int(rating[index])\n",
    "    return numeric_rating"
   ]
  },
  {
   "cell_type": "code",
   "execution_count": 5,
   "id": "daaf4745-b3cd-4b58-a27d-e9c0991d3252",
   "metadata": {},
   "outputs": [
    {
     "data": {
      "text/plain": [
       "5"
      ]
     },
     "execution_count": 5,
     "metadata": {},
     "output_type": "execute_result"
    }
   ],
   "source": [
    "rating_cleaner(\"5 stars\", 0)"
   ]
  },
  {
   "cell_type": "code",
   "execution_count": 6,
   "id": "fb815654-5034-4997-83bc-2bfda09f57c8",
   "metadata": {},
   "outputs": [
    {
     "data": {
      "text/plain": [
       "4"
      ]
     },
     "execution_count": 6,
     "metadata": {},
     "output_type": "execute_result"
    }
   ],
   "source": [
    "rating_cleaner(\"stars: 4\", -1)"
   ]
  },
  {
   "cell_type": "code",
   "execution_count": 7,
   "id": "06b01ed1-7a84-4fd6-abc6-cf111a32e4df",
   "metadata": {},
   "outputs": [
    {
     "data": {
      "text/plain": [
       "4"
      ]
     },
     "execution_count": 7,
     "metadata": {},
     "output_type": "execute_result"
    }
   ],
   "source": [
    "rating_cleaner(rating=\"stars: 4\", index=-1)"
   ]
  },
  {
   "cell_type": "code",
   "execution_count": 8,
   "id": "f6fa174d-575e-4e59-afe3-f1cbe4bd7f9e",
   "metadata": {},
   "outputs": [
    {
     "data": {
      "text/plain": [
       "4"
      ]
     },
     "execution_count": 8,
     "metadata": {},
     "output_type": "execute_result"
    }
   ],
   "source": [
    "rating_cleaner(index=-1, rating=\"stars: 4\")"
   ]
  },
  {
   "cell_type": "code",
   "execution_count": 9,
   "id": "dc3ba20e-2467-40d9-8ece-eecd99543a5d",
   "metadata": {},
   "outputs": [],
   "source": [
    "def rating_cleaner(rating, index=0):\n",
    "    numeric_rating = int(rating[index])\n",
    "    return numeric_rating"
   ]
  },
  {
   "cell_type": "code",
   "execution_count": 10,
   "id": "d429b9dd-3359-42d6-87af-e7755fff9d1c",
   "metadata": {},
   "outputs": [
    {
     "data": {
      "text/plain": [
       "5"
      ]
     },
     "execution_count": 10,
     "metadata": {},
     "output_type": "execute_result"
    }
   ],
   "source": [
    "rating_cleaner(\"stars: 5\", index=-1)"
   ]
  },
  {
   "cell_type": "code",
   "execution_count": 11,
   "id": "099b415d-f830-4f25-b397-e7435271ea3a",
   "metadata": {},
   "outputs": [],
   "source": [
    "def rating_cleaner(*ratings, index=0):\n",
    "    for rating in ratings:\n",
    "        numeric_rating = int(rating[index])\n",
    "        print(numeric_rating)"
   ]
  },
  {
   "cell_type": "code",
   "execution_count": 12,
   "id": "a7970d8c-7ab6-45e5-97b0-5bf796f6e57b",
   "metadata": {},
   "outputs": [
    {
     "name": "stdout",
     "output_type": "stream",
     "text": [
      "5\n",
      "1\n",
      "3\n"
     ]
    }
   ],
   "source": [
    "rating_cleaner(\"5 stars\", \"1 star\", \"3 stars\")"
   ]
  },
  {
   "cell_type": "code",
   "execution_count": 13,
   "id": "1edf0042-8243-40b2-ad3b-9c52ee3417d9",
   "metadata": {},
   "outputs": [],
   "source": [
    "def rating_cleaner(*ratings, index=0):\n",
    "    for rating in ratings:\n",
    "        numeric_rating = int(rating[index])\n",
    "        print(numeric_rating)"
   ]
  },
  {
   "cell_type": "code",
   "execution_count": 14,
   "id": "9211cdb9-cdc2-4573-a060-0052419cc633",
   "metadata": {},
   "outputs": [
    {
     "name": "stdout",
     "output_type": "stream",
     "text": [
      "5\n",
      "4\n",
      "2\n"
     ]
    }
   ],
   "source": [
    "rating_cleaner(*forum_ratings, index=-1)"
   ]
  },
  {
   "cell_type": "code",
   "execution_count": 15,
   "id": "686b2459-caea-4d96-ac50-53c09c93a815",
   "metadata": {},
   "outputs": [
    {
     "name": "stdout",
     "output_type": "stream",
     "text": [
      "5\n",
      "1\n",
      "3\n"
     ]
    }
   ],
   "source": [
    "rating_cleaner(*website_ratings)"
   ]
  },
  {
   "cell_type": "code",
   "execution_count": null,
   "id": "ea785838-d75c-449e-8b30-413e374d6bf7",
   "metadata": {},
   "outputs": [],
   "source": []
  }
 ],
 "metadata": {
  "kernelspec": {
   "display_name": "Python 3 (ipykernel)",
   "language": "python",
   "name": "python3"
  },
  "language_info": {
   "codemirror_mode": {
    "name": "ipython",
    "version": 3
   },
   "file_extension": ".py",
   "mimetype": "text/x-python",
   "name": "python",
   "nbconvert_exporter": "python",
   "pygments_lexer": "ipython3",
   "version": "3.11.10"
  }
 },
 "nbformat": 4,
 "nbformat_minor": 5
}
