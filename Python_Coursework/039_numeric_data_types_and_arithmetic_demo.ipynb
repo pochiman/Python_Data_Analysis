{
 "cells": [
  {
   "cell_type": "code",
   "execution_count": 1,
   "id": "e7c670eb-c424-4e1e-a2cf-b83392091f83",
   "metadata": {},
   "outputs": [],
   "source": [
    "my_string = '3579'\n",
    "my_float = 3.579\n",
    "my_int = 3"
   ]
  },
  {
   "cell_type": "code",
   "execution_count": 2,
   "id": "3e580d64-fc70-4ab3-9d94-ee38269a7052",
   "metadata": {},
   "outputs": [
    {
     "data": {
      "text/plain": [
       "3579"
      ]
     },
     "execution_count": 2,
     "metadata": {},
     "output_type": "execute_result"
    }
   ],
   "source": [
    "int(my_string)"
   ]
  },
  {
   "cell_type": "code",
   "execution_count": 3,
   "id": "a21a455b-2c77-4242-84c1-bd3bc4ed282e",
   "metadata": {},
   "outputs": [
    {
     "data": {
      "text/plain": [
       "3"
      ]
     },
     "execution_count": 3,
     "metadata": {},
     "output_type": "execute_result"
    }
   ],
   "source": [
    "int(my_float)"
   ]
  },
  {
   "cell_type": "code",
   "execution_count": 4,
   "id": "f3729f91-1774-4ac3-ad23-3320d0ce0fbd",
   "metadata": {},
   "outputs": [
    {
     "data": {
      "text/plain": [
       "3579.0"
      ]
     },
     "execution_count": 4,
     "metadata": {},
     "output_type": "execute_result"
    }
   ],
   "source": [
    "float(my_string)"
   ]
  },
  {
   "cell_type": "code",
   "execution_count": 5,
   "id": "d2ab354e-6cf9-4053-b750-16583bbf4653",
   "metadata": {},
   "outputs": [
    {
     "data": {
      "text/plain": [
       "3.0"
      ]
     },
     "execution_count": 5,
     "metadata": {},
     "output_type": "execute_result"
    }
   ],
   "source": [
    "float(my_int)"
   ]
  },
  {
   "cell_type": "code",
   "execution_count": 6,
   "id": "44ed4fd9-dbeb-4ee0-abbe-df0397767dfa",
   "metadata": {},
   "outputs": [
    {
     "data": {
      "text/plain": [
       "6.579000000000001"
      ]
     },
     "execution_count": 6,
     "metadata": {},
     "output_type": "execute_result"
    }
   ],
   "source": [
    "my_int + my_float"
   ]
  },
  {
   "cell_type": "code",
   "execution_count": 7,
   "id": "9b3ddc23-9bdf-4230-84f7-474b0b3ea009",
   "metadata": {},
   "outputs": [
    {
     "data": {
      "text/plain": [
       "-0.5790000000000002"
      ]
     },
     "execution_count": 7,
     "metadata": {},
     "output_type": "execute_result"
    }
   ],
   "source": [
    "my_int - my_float"
   ]
  },
  {
   "cell_type": "code",
   "execution_count": 8,
   "id": "4c771693-1feb-4879-a457-e05bbbc9fb13",
   "metadata": {},
   "outputs": [
    {
     "data": {
      "text/plain": [
       "0.5790000000000002"
      ]
     },
     "execution_count": 8,
     "metadata": {},
     "output_type": "execute_result"
    }
   ],
   "source": [
    "my_float - my_int"
   ]
  },
  {
   "cell_type": "code",
   "execution_count": 9,
   "id": "2391b121-4db9-43b8-aa69-74bf323b70d4",
   "metadata": {},
   "outputs": [
    {
     "data": {
      "text/plain": [
       "10.737"
      ]
     },
     "execution_count": 9,
     "metadata": {},
     "output_type": "execute_result"
    }
   ],
   "source": [
    "my_int * my_float"
   ]
  },
  {
   "cell_type": "code",
   "execution_count": 10,
   "id": "38d2e53c-95b4-431e-beb3-77b4844cd53c",
   "metadata": {},
   "outputs": [
    {
     "data": {
      "text/plain": [
       "0.8382229673093042"
      ]
     },
     "execution_count": 10,
     "metadata": {},
     "output_type": "execute_result"
    }
   ],
   "source": [
    "my_int / my_float"
   ]
  },
  {
   "cell_type": "code",
   "execution_count": 16,
   "id": "fd62a480-b1fb-416f-894f-be0524b5883e",
   "metadata": {},
   "outputs": [
    {
     "data": {
      "text/plain": [
       "0"
      ]
     },
     "execution_count": 16,
     "metadata": {},
     "output_type": "execute_result"
    }
   ],
   "source": [
    "int(my_int / my_float)"
   ]
  },
  {
   "cell_type": "code",
   "execution_count": 11,
   "id": "8988c621-5a9a-4063-a22e-1e454ac2a3d5",
   "metadata": {},
   "outputs": [
    {
     "data": {
      "text/plain": [
       "0.0"
      ]
     },
     "execution_count": 11,
     "metadata": {},
     "output_type": "execute_result"
    }
   ],
   "source": [
    "my_int // my_float"
   ]
  },
  {
   "cell_type": "code",
   "execution_count": 12,
   "id": "683e0540-3c4c-4327-bd8f-61077203b4ae",
   "metadata": {},
   "outputs": [
    {
     "data": {
      "text/plain": [
       "3.0"
      ]
     },
     "execution_count": 12,
     "metadata": {},
     "output_type": "execute_result"
    }
   ],
   "source": [
    "my_int % my_float"
   ]
  },
  {
   "cell_type": "code",
   "execution_count": 13,
   "id": "7560660d-7090-4bfe-9559-ced63fe952e1",
   "metadata": {},
   "outputs": [
    {
     "data": {
      "text/plain": [
       "51.00549546541933"
      ]
     },
     "execution_count": 13,
     "metadata": {},
     "output_type": "execute_result"
    }
   ],
   "source": [
    "my_int**my_float"
   ]
  },
  {
   "cell_type": "code",
   "execution_count": 14,
   "id": "225dfaa3-316e-4ea7-acc5-1e2876971a18",
   "metadata": {},
   "outputs": [
    {
     "data": {
      "text/plain": [
       "51"
      ]
     },
     "execution_count": 14,
     "metadata": {},
     "output_type": "execute_result"
    }
   ],
   "source": [
    "10 * 6 - 3**2"
   ]
  },
  {
   "cell_type": "code",
   "execution_count": 15,
   "id": "d7ed5902-36dc-44bc-b07b-c4abf3979b24",
   "metadata": {},
   "outputs": [
    {
     "data": {
      "text/plain": [
       "90"
      ]
     },
     "execution_count": 15,
     "metadata": {},
     "output_type": "execute_result"
    }
   ],
   "source": [
    "10 * (6 - 3)**2"
   ]
  },
  {
   "cell_type": "code",
   "execution_count": null,
   "id": "0a69ef97-491a-46fd-9d91-08fe4bc626b3",
   "metadata": {},
   "outputs": [],
   "source": []
  }
 ],
 "metadata": {
  "kernelspec": {
   "display_name": "Python 3 (ipykernel)",
   "language": "python",
   "name": "python3"
  },
  "language_info": {
   "codemirror_mode": {
    "name": "ipython",
    "version": 3
   },
   "file_extension": ".py",
   "mimetype": "text/x-python",
   "name": "python",
   "nbconvert_exporter": "python",
   "pygments_lexer": "ipython3",
   "version": "3.11.6"
  }
 },
 "nbformat": 4,
 "nbformat_minor": 5
}
