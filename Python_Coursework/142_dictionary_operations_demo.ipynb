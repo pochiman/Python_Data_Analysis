{
 "cells": [
  {
   "cell_type": "code",
   "execution_count": 11,
   "id": "f84dafa2-b54b-4bb6-9663-9903b10b9214",
   "metadata": {},
   "outputs": [],
   "source": [
    "item_prices = {\n",
    "    'skis': 249.99,\n",
    "    'snowboard': 219.99,\n",
    "    'goggles': 99.99,\n",
    "    'boots': [79.99, 89.99]\n",
    "}"
   ]
  },
  {
   "cell_type": "code",
   "execution_count": 2,
   "id": "12b398c0-a92e-4365-98cb-c8c4d033295a",
   "metadata": {},
   "outputs": [
    {
     "data": {
      "text/plain": [
       "{'skis': 249.99,\n",
       " 'snowboard': 219.99,\n",
       " 'goggles': 99.99,\n",
       " 'boots': [79.99, 89.99]}"
      ]
     },
     "execution_count": 2,
     "metadata": {},
     "output_type": "execute_result"
    }
   ],
   "source": [
    "item_prices"
   ]
  },
  {
   "cell_type": "code",
   "execution_count": 3,
   "id": "be05e068-968d-441a-a2a4-ab937f0a8346",
   "metadata": {},
   "outputs": [
    {
     "data": {
      "text/plain": [
       "249.99"
      ]
     },
     "execution_count": 3,
     "metadata": {},
     "output_type": "execute_result"
    }
   ],
   "source": [
    "item_prices['skis']"
   ]
  },
  {
   "cell_type": "code",
   "execution_count": 4,
   "id": "06f3ea1e-9b5c-4721-8c3f-d751090faabf",
   "metadata": {},
   "outputs": [
    {
     "data": {
      "text/plain": [
       "89.99"
      ]
     },
     "execution_count": 4,
     "metadata": {},
     "output_type": "execute_result"
    }
   ],
   "source": [
    "item_prices['boots'][1]"
   ]
  },
  {
   "cell_type": "code",
   "execution_count": 5,
   "id": "98c42f74-5627-44df-99e7-d020e9b5d325",
   "metadata": {},
   "outputs": [
    {
     "ename": "KeyError",
     "evalue": "'hat'",
     "output_type": "error",
     "traceback": [
      "\u001b[0;31m---------------------------------------------------------------------------\u001b[0m",
      "\u001b[0;31mKeyError\u001b[0m                                  Traceback (most recent call last)",
      "Cell \u001b[0;32mIn[5], line 1\u001b[0m\n\u001b[0;32m----> 1\u001b[0m \u001b[43mitem_prices\u001b[49m\u001b[43m[\u001b[49m\u001b[38;5;124;43m'\u001b[39;49m\u001b[38;5;124;43mhat\u001b[39;49m\u001b[38;5;124;43m'\u001b[39;49m\u001b[43m]\u001b[49m\n",
      "\u001b[0;31mKeyError\u001b[0m: 'hat'"
     ]
    }
   ],
   "source": [
    "item_prices['hat']"
   ]
  },
  {
   "cell_type": "code",
   "execution_count": 8,
   "id": "449349ef-0dd7-4af0-97f0-2120e22468d0",
   "metadata": {},
   "outputs": [
    {
     "data": {
      "text/plain": [
       "219.99"
      ]
     },
     "execution_count": 8,
     "metadata": {},
     "output_type": "execute_result"
    }
   ],
   "source": [
    "item_prices[1]"
   ]
  },
  {
   "cell_type": "code",
   "execution_count": 9,
   "id": "3f7aaa58-1b7e-4abe-b44b-cf195f8bce37",
   "metadata": {},
   "outputs": [
    {
     "data": {
      "text/plain": [
       "True"
      ]
     },
     "execution_count": 9,
     "metadata": {},
     "output_type": "execute_result"
    }
   ],
   "source": [
    "'skis' in item_prices"
   ]
  },
  {
   "cell_type": "code",
   "execution_count": 12,
   "id": "be3d8aa2-3a57-4ea5-81d5-eba6ef659acc",
   "metadata": {},
   "outputs": [
    {
     "name": "stdout",
     "output_type": "stream",
     "text": [
      "skis\n",
      "snowboard\n",
      "goggles\n",
      "boots\n"
     ]
    }
   ],
   "source": [
    "for item in item_prices:\n",
    "    print(item)"
   ]
  },
  {
   "cell_type": "code",
   "execution_count": 13,
   "id": "4a9c38b6-12d0-4fad-9a00-f102dc4a9bc6",
   "metadata": {},
   "outputs": [
    {
     "data": {
      "text/plain": [
       "{'skis': 274.99,\n",
       " 'snowboard': 219.99,\n",
       " 'goggles': 99.99,\n",
       " 'boots': [79.99, 89.99]}"
      ]
     },
     "execution_count": 13,
     "metadata": {},
     "output_type": "execute_result"
    }
   ],
   "source": [
    "item_prices['skis'] = round(item_prices['skis'] * 1.1, 2)\n",
    "\n",
    "item_prices"
   ]
  },
  {
   "cell_type": "code",
   "execution_count": 14,
   "id": "c7855bfa-e5fa-484d-9f75-3db26ecf14e2",
   "metadata": {},
   "outputs": [],
   "source": [
    "item_prices['hat'] = 14.99"
   ]
  },
  {
   "cell_type": "code",
   "execution_count": 15,
   "id": "e616ad6f-a88d-4d94-8e83-a47d90236778",
   "metadata": {},
   "outputs": [
    {
     "data": {
      "text/plain": [
       "{'skis': 274.99,\n",
       " 'snowboard': 219.99,\n",
       " 'goggles': 99.99,\n",
       " 'boots': [79.99, 89.99],\n",
       " 'hat': 14.99}"
      ]
     },
     "execution_count": 15,
     "metadata": {},
     "output_type": "execute_result"
    }
   ],
   "source": [
    "item_prices"
   ]
  },
  {
   "cell_type": "code",
   "execution_count": 16,
   "id": "e768fac2-e544-4e13-8728-91b893a57019",
   "metadata": {},
   "outputs": [],
   "source": [
    "new_items = ['coffee', 'helmet']\n",
    "new_prices = [5.99, 99.99]"
   ]
  },
  {
   "cell_type": "code",
   "execution_count": 17,
   "id": "5a5fbf47-1d05-492d-8ae1-02409694e52d",
   "metadata": {},
   "outputs": [
    {
     "data": {
      "text/plain": [
       "{'skis': 274.99,\n",
       " 'snowboard': 219.99,\n",
       " 'goggles': 99.99,\n",
       " 'boots': [79.99, 89.99],\n",
       " 'hat': 14.99,\n",
       " 'coffee': 5.99,\n",
       " 'helmet': 99.99}"
      ]
     },
     "execution_count": 17,
     "metadata": {},
     "output_type": "execute_result"
    }
   ],
   "source": [
    "for i, item in enumerate(new_items):\n",
    "    item_prices[item] = new_prices[i]\n",
    "\n",
    "item_prices"
   ]
  },
  {
   "cell_type": "code",
   "execution_count": 18,
   "id": "c2c0703a-a7d9-41a0-847b-9477fe40e451",
   "metadata": {},
   "outputs": [],
   "source": [
    "del item_prices['coffee']"
   ]
  },
  {
   "cell_type": "code",
   "execution_count": 19,
   "id": "7cfc3f4f-bb77-44b2-8323-e3f96eed0b32",
   "metadata": {},
   "outputs": [
    {
     "data": {
      "text/plain": [
       "{'skis': 274.99,\n",
       " 'snowboard': 219.99,\n",
       " 'goggles': 99.99,\n",
       " 'boots': [79.99, 89.99],\n",
       " 'hat': 14.99,\n",
       " 'helmet': 99.99}"
      ]
     },
     "execution_count": 19,
     "metadata": {},
     "output_type": "execute_result"
    }
   ],
   "source": [
    "item_prices"
   ]
  },
  {
   "cell_type": "code",
   "execution_count": 20,
   "id": "849735d6-15c4-409b-99c9-f23eeb2ea7f9",
   "metadata": {},
   "outputs": [],
   "source": [
    "del item_prices['boots'][1]"
   ]
  },
  {
   "cell_type": "code",
   "execution_count": 21,
   "id": "ee69e641-cb5c-4fa1-ba9d-9e333a644e2d",
   "metadata": {},
   "outputs": [
    {
     "data": {
      "text/plain": [
       "{'skis': 274.99,\n",
       " 'snowboard': 219.99,\n",
       " 'goggles': 99.99,\n",
       " 'boots': [79.99],\n",
       " 'hat': 14.99,\n",
       " 'helmet': 99.99}"
      ]
     },
     "execution_count": 21,
     "metadata": {},
     "output_type": "execute_result"
    }
   ],
   "source": [
    "item_prices"
   ]
  },
  {
   "cell_type": "code",
   "execution_count": 22,
   "id": "22f04e53-381b-4118-82b1-037e3ea3b094",
   "metadata": {},
   "outputs": [],
   "source": [
    "item_prices['boots'] = 79.99"
   ]
  },
  {
   "cell_type": "code",
   "execution_count": 23,
   "id": "e792f263-7cef-4352-99e0-a307a98767fd",
   "metadata": {},
   "outputs": [
    {
     "data": {
      "text/plain": [
       "{'skis': 274.99,\n",
       " 'snowboard': 219.99,\n",
       " 'goggles': 99.99,\n",
       " 'boots': 79.99,\n",
       " 'hat': 14.99,\n",
       " 'helmet': 99.99}"
      ]
     },
     "execution_count": 23,
     "metadata": {},
     "output_type": "execute_result"
    }
   ],
   "source": [
    "item_prices"
   ]
  },
  {
   "cell_type": "code",
   "execution_count": null,
   "id": "c418eb51-bbd9-4d2d-903f-70a1027d7228",
   "metadata": {},
   "outputs": [],
   "source": []
  }
 ],
 "metadata": {
  "kernelspec": {
   "display_name": "Python 3 (ipykernel)",
   "language": "python",
   "name": "python3"
  },
  "language_info": {
   "codemirror_mode": {
    "name": "ipython",
    "version": 3
   },
   "file_extension": ".py",
   "mimetype": "text/x-python",
   "name": "python",
   "nbconvert_exporter": "python",
   "pygments_lexer": "ipython3",
   "version": "3.11.10"
  }
 },
 "nbformat": 4,
 "nbformat_minor": 5
}
