{
 "cells": [
  {
   "cell_type": "code",
   "execution_count": 1,
   "id": "575a9507-4ad8-4841-8ef2-35c9a58a2212",
   "metadata": {},
   "outputs": [],
   "source": [
    "price_tuple = ('$3.50', '$99.99', '$149.99')"
   ]
  },
  {
   "cell_type": "code",
   "execution_count": 2,
   "id": "9f930c74-d9a4-4936-bc30-b6e90b917455",
   "metadata": {},
   "outputs": [
    {
     "data": {
      "text/plain": [
       "'$3.50'"
      ]
     },
     "execution_count": 2,
     "metadata": {},
     "output_type": "execute_result"
    }
   ],
   "source": [
    "price_tuple[0]"
   ]
  },
  {
   "cell_type": "code",
   "execution_count": 3,
   "id": "da410cbf-9368-4c40-94f7-4e2bda9fea3b",
   "metadata": {},
   "outputs": [
    {
     "data": {
      "text/plain": [
       "('$99.99', '$149.99')"
      ]
     },
     "execution_count": 3,
     "metadata": {},
     "output_type": "execute_result"
    }
   ],
   "source": [
    "price_tuple[1:]"
   ]
  },
  {
   "cell_type": "code",
   "execution_count": 4,
   "id": "8f667c7f-1b51-4834-bdd6-ca8937cf94f4",
   "metadata": {},
   "outputs": [
    {
     "data": {
      "text/plain": [
       "True"
      ]
     },
     "execution_count": 4,
     "metadata": {},
     "output_type": "execute_result"
    }
   ],
   "source": [
    "'$3.50' in price_tuple"
   ]
  },
  {
   "cell_type": "code",
   "execution_count": 5,
   "id": "bec4c402-3637-46c0-881f-f3eea42081e1",
   "metadata": {},
   "outputs": [
    {
     "ename": "TypeError",
     "evalue": "'tuple' object does not support item assignment",
     "output_type": "error",
     "traceback": [
      "\u001b[0;31m---------------------------------------------------------------------------\u001b[0m",
      "\u001b[0;31mTypeError\u001b[0m                                 Traceback (most recent call last)",
      "Cell \u001b[0;32mIn[5], line 1\u001b[0m\n\u001b[0;32m----> 1\u001b[0m \u001b[43mprice_tuple\u001b[49m\u001b[43m[\u001b[49m\u001b[38;5;241;43m1\u001b[39;49m\u001b[43m]\u001b[49m \u001b[38;5;241m=\u001b[39m \u001b[38;5;124m'\u001b[39m\u001b[38;5;124m$14.99\u001b[39m\u001b[38;5;124m'\u001b[39m\n",
      "\u001b[0;31mTypeError\u001b[0m: 'tuple' object does not support item assignment"
     ]
    }
   ],
   "source": [
    "price_tuple[1] = '$14.99'"
   ]
  },
  {
   "cell_type": "code",
   "execution_count": 6,
   "id": "5664c728-f07b-44ac-8f5a-30d043aa347f",
   "metadata": {},
   "outputs": [
    {
     "ename": "AttributeError",
     "evalue": "'tuple' object has no attribute 'append'",
     "output_type": "error",
     "traceback": [
      "\u001b[0;31m---------------------------------------------------------------------------\u001b[0m",
      "\u001b[0;31mAttributeError\u001b[0m                            Traceback (most recent call last)",
      "Cell \u001b[0;32mIn[6], line 1\u001b[0m\n\u001b[0;32m----> 1\u001b[0m \u001b[43mprice_tuple\u001b[49m\u001b[38;5;241;43m.\u001b[39;49m\u001b[43mappend\u001b[49m(\u001b[38;5;124m'\u001b[39m\u001b[38;5;124m$14.99\u001b[39m\u001b[38;5;124m'\u001b[39m)\n",
      "\u001b[0;31mAttributeError\u001b[0m: 'tuple' object has no attribute 'append'"
     ]
    }
   ],
   "source": [
    "price_tuple.append('$14.99')"
   ]
  },
  {
   "cell_type": "code",
   "execution_count": 7,
   "id": "a9d1e364-207a-4d31-8e94-6ac08f0d7ff1",
   "metadata": {},
   "outputs": [
    {
     "data": {
      "text/plain": [
       "['$3.50', '$99.99', '$149.99']"
      ]
     },
     "execution_count": 7,
     "metadata": {},
     "output_type": "execute_result"
    }
   ],
   "source": [
    "list(price_tuple)"
   ]
  },
  {
   "cell_type": "code",
   "execution_count": 8,
   "id": "a43d12c7-c98c-4d9a-aa26-fb4667dc1238",
   "metadata": {},
   "outputs": [],
   "source": [
    "price1, price2, price3 = price_tuple"
   ]
  },
  {
   "cell_type": "code",
   "execution_count": 9,
   "id": "c4a55315-4f95-45c0-971f-6605dbf093f8",
   "metadata": {},
   "outputs": [
    {
     "data": {
      "text/plain": [
       "'$3.50'"
      ]
     },
     "execution_count": 9,
     "metadata": {},
     "output_type": "execute_result"
    }
   ],
   "source": [
    "price1"
   ]
  },
  {
   "cell_type": "code",
   "execution_count": 10,
   "id": "87deafdc-c727-4a8b-a165-3b05fabb34e5",
   "metadata": {},
   "outputs": [
    {
     "data": {
      "text/plain": [
       "'$99.99'"
      ]
     },
     "execution_count": 10,
     "metadata": {},
     "output_type": "execute_result"
    }
   ],
   "source": [
    "price2"
   ]
  },
  {
   "cell_type": "code",
   "execution_count": 11,
   "id": "f4be7a74-cf46-484c-a593-173b067a6a79",
   "metadata": {},
   "outputs": [
    {
     "data": {
      "text/plain": [
       "103.49"
      ]
     },
     "execution_count": 11,
     "metadata": {},
     "output_type": "execute_result"
    }
   ],
   "source": [
    "float(price1.strip('$')) + float(price2.strip('$'))"
   ]
  },
  {
   "cell_type": "code",
   "execution_count": null,
   "id": "aa329604-9d26-4201-afe0-0b6e187886e6",
   "metadata": {},
   "outputs": [],
   "source": []
  }
 ],
 "metadata": {
  "kernelspec": {
   "display_name": "Python 3 (ipykernel)",
   "language": "python",
   "name": "python3"
  },
  "language_info": {
   "codemirror_mode": {
    "name": "ipython",
    "version": 3
   },
   "file_extension": ".py",
   "mimetype": "text/x-python",
   "name": "python",
   "nbconvert_exporter": "python",
   "pygments_lexer": "ipython3",
   "version": "3.11.10"
  }
 },
 "nbformat": 4,
 "nbformat_minor": 5
}
