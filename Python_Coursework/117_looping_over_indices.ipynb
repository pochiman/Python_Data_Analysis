{
 "cells": [
  {
   "cell_type": "code",
   "execution_count": 1,
   "id": "c640fce3-25ec-464b-95cd-40ba530784e4",
   "metadata": {},
   "outputs": [],
   "source": [
    "inventory = [10, 14, 10, 15, 8, 27]\n",
    "\n",
    "prices = [2.99, 99.99, 219.99, 89.99, 29.99, 9.99]"
   ]
  },
  {
   "cell_type": "code",
   "execution_count": 2,
   "id": "76351e8c-51cc-421e-9dee-4f3586921be9",
   "metadata": {},
   "outputs": [
    {
     "name": "stdout",
     "output_type": "stream",
     "text": [
      "0\n",
      "1\n",
      "2\n",
      "3\n",
      "4\n",
      "5\n"
     ]
    }
   ],
   "source": [
    "for i in range(len(inventory)):\n",
    "    print(i)"
   ]
  },
  {
   "cell_type": "code",
   "execution_count": 3,
   "id": "766e0b74-abc7-46be-9024-c33771958278",
   "metadata": {},
   "outputs": [
    {
     "name": "stdout",
     "output_type": "stream",
     "text": [
      "29.9\n",
      "1399.86\n",
      "2199.9\n",
      "1349.85\n",
      "239.92\n",
      "269.73\n"
     ]
    }
   ],
   "source": [
    "for i in range(len(inventory)):\n",
    "    print(round(inventory[i] * prices[i], 2))"
   ]
  },
  {
   "cell_type": "code",
   "execution_count": 4,
   "id": "bae72637-5026-4f09-ba1c-773c287c3a0f",
   "metadata": {},
   "outputs": [
    {
     "data": {
      "text/plain": [
       "[29.9, 1399.86, 2199.9, 1349.85, 239.92, 269.73]"
      ]
     },
     "execution_count": 4,
     "metadata": {},
     "output_type": "execute_result"
    }
   ],
   "source": [
    "product_values = []\n",
    "\n",
    "for i in range(len(inventory)):\n",
    "    product_values.append((round(inventory[i] * prices[i], 2)))\n",
    "\n",
    "product_values"
   ]
  },
  {
   "cell_type": "code",
   "execution_count": 5,
   "id": "f1882b6b-b0fe-4f8c-8e14-0cbd8db61ec1",
   "metadata": {},
   "outputs": [
    {
     "data": {
      "text/plain": [
       "5489.16"
      ]
     },
     "execution_count": 5,
     "metadata": {},
     "output_type": "execute_result"
    }
   ],
   "source": [
    "sum(product_values)"
   ]
  },
  {
   "cell_type": "code",
   "execution_count": null,
   "id": "62627f2b-9b64-4289-a381-4966073c8374",
   "metadata": {},
   "outputs": [],
   "source": []
  }
 ],
 "metadata": {
  "kernelspec": {
   "display_name": "Python 3 (ipykernel)",
   "language": "python",
   "name": "python3"
  },
  "language_info": {
   "codemirror_mode": {
    "name": "ipython",
    "version": 3
   },
   "file_extension": ".py",
   "mimetype": "text/x-python",
   "name": "python",
   "nbconvert_exporter": "python",
   "pygments_lexer": "ipython3",
   "version": "3.11.10"
  }
 },
 "nbformat": 4,
 "nbformat_minor": 5
}
