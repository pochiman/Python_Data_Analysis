{
 "cells": [
  {
   "cell_type": "markdown",
   "id": "302f56b8",
   "metadata": {},
   "source": [
    "###  What are the highest and lowest priced items we sell?\n",
    "\n",
    "Based on the list of prices below. Use Python to determine this."
   ]
  },
  {
   "cell_type": "code",
   "execution_count": 2,
   "id": "5c6e2489",
   "metadata": {},
   "outputs": [],
   "source": [
    "price_list = [129.99, 99.99, 119.19, 99.99, 89.99, 79.99, 49.99]"
   ]
  },
  {
   "cell_type": "code",
   "execution_count": 3,
   "id": "bec83623-73c9-4259-a815-d4e7b1621f84",
   "metadata": {},
   "outputs": [
    {
     "name": "stdout",
     "output_type": "stream",
     "text": [
      "49.99 129.99\n"
     ]
    }
   ],
   "source": [
    "# single line solution\n",
    "\n",
    "print(min(price_list), max(price_list))"
   ]
  },
  {
   "cell_type": "code",
   "execution_count": 4,
   "id": "beb4bb97-f329-469a-b4b2-4dabe8ab34d3",
   "metadata": {},
   "outputs": [
    {
     "name": "stdout",
     "output_type": "stream",
     "text": [
      "49.99 129.99\n"
     ]
    }
   ],
   "source": [
    "# Variable Assignment\n",
    "\n",
    "lowest_price = min(price_list)\n",
    "highest_price = max(price_list)\n",
    "\n",
    "print(lowest_price, highest_price)"
   ]
  },
  {
   "cell_type": "markdown",
   "id": "08a76ff6",
   "metadata": {},
   "source": [
    "### How much would it cost for a customer to purchase two of every item in the price list?\n",
    "\n",
    "Rounded to the nearest dollar."
   ]
  },
  {
   "cell_type": "code",
   "execution_count": 5,
   "id": "d41b2963",
   "metadata": {},
   "outputs": [
    {
     "data": {
      "text/plain": [
       "1338"
      ]
     },
     "execution_count": 5,
     "metadata": {},
     "output_type": "execute_result"
    }
   ],
   "source": [
    "# single line solution\n",
    "\n",
    "round(2 * sum(price_list))"
   ]
  },
  {
   "cell_type": "code",
   "execution_count": 6,
   "id": "3aa1250f-a3f9-4873-8a5f-d3f7965981a5",
   "metadata": {},
   "outputs": [
    {
     "data": {
      "text/plain": [
       "1338"
      ]
     },
     "execution_count": 6,
     "metadata": {},
     "output_type": "execute_result"
    }
   ],
   "source": [
    "# With variable assignment\n",
    "\n",
    "cost_of_items = sum(price_list)\n",
    "cost_multiplier = 2\n",
    "cost_of_2x = round(cost_multiplier * cost_of_items)\n",
    "\n",
    "cost_of_2x"
   ]
  },
  {
   "cell_type": "code",
   "execution_count": null,
   "id": "301e61ff-3a6b-4c6a-b594-6aa22f88ef24",
   "metadata": {},
   "outputs": [],
   "source": []
  }
 ],
 "metadata": {
  "kernelspec": {
   "display_name": "Python 3 (ipykernel)",
   "language": "python",
   "name": "python3"
  },
  "language_info": {
   "codemirror_mode": {
    "name": "ipython",
    "version": 3
   },
   "file_extension": ".py",
   "mimetype": "text/x-python",
   "name": "python",
   "nbconvert_exporter": "python",
   "pygments_lexer": "ipython3",
   "version": "3.11.10"
  }
 },
 "nbformat": 4,
 "nbformat_minor": 5
}
