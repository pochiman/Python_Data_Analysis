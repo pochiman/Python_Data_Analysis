{
 "cells": [
  {
   "cell_type": "code",
   "execution_count": 1,
   "id": "ecd0b27f-8b61-40ce-8c35-59361b9e1a84",
   "metadata": {},
   "outputs": [
    {
     "data": {
      "text/plain": [
       "True"
      ]
     },
     "execution_count": 1,
     "metadata": {},
     "output_type": "execute_result"
    }
   ],
   "source": [
    "True"
   ]
  },
  {
   "cell_type": "code",
   "execution_count": 2,
   "id": "672d0f7a-fd8c-45c0-8dde-be9cdb85c80a",
   "metadata": {},
   "outputs": [
    {
     "data": {
      "text/plain": [
       "False"
      ]
     },
     "execution_count": 2,
     "metadata": {},
     "output_type": "execute_result"
    }
   ],
   "source": [
    "False"
   ]
  },
  {
   "cell_type": "code",
   "execution_count": 3,
   "id": "048f48f2-2132-4157-9534-3ded1e96f65b",
   "metadata": {},
   "outputs": [
    {
     "data": {
      "text/plain": [
       "10"
      ]
     },
     "execution_count": 3,
     "metadata": {},
     "output_type": "execute_result"
    }
   ],
   "source": [
    "10 * True"
   ]
  },
  {
   "cell_type": "code",
   "execution_count": 4,
   "id": "35bb50dc-8d9f-4b43-984d-1466194ea90e",
   "metadata": {},
   "outputs": [
    {
     "data": {
      "text/plain": [
       "0"
      ]
     },
     "execution_count": 4,
     "metadata": {},
     "output_type": "execute_result"
    }
   ],
   "source": [
    "10 * False"
   ]
  },
  {
   "cell_type": "code",
   "execution_count": 5,
   "id": "7b209a20-c92d-4260-b902-b03398ce68b2",
   "metadata": {},
   "outputs": [
    {
     "data": {
      "text/plain": [
       "False"
      ]
     },
     "execution_count": 5,
     "metadata": {},
     "output_type": "execute_result"
    }
   ],
   "source": [
    "not True"
   ]
  },
  {
   "cell_type": "code",
   "execution_count": 6,
   "id": "4190627a-6710-4906-a0d6-7e9322ae2e10",
   "metadata": {},
   "outputs": [
    {
     "data": {
      "text/plain": [
       "True"
      ]
     },
     "execution_count": 6,
     "metadata": {},
     "output_type": "execute_result"
    }
   ],
   "source": [
    "not False"
   ]
  },
  {
   "cell_type": "code",
   "execution_count": 7,
   "id": "aa66651a-88ce-4565-9e6a-05dd01f3eb43",
   "metadata": {},
   "outputs": [
    {
     "data": {
      "text/plain": [
       "10"
      ]
     },
     "execution_count": 7,
     "metadata": {},
     "output_type": "execute_result"
    }
   ],
   "source": [
    "(not False) * 10"
   ]
  },
  {
   "cell_type": "code",
   "execution_count": 8,
   "id": "ac70cb97-f862-4f08-a68a-10a08a5a5859",
   "metadata": {},
   "outputs": [
    {
     "data": {
      "text/plain": [
       "True"
      ]
     },
     "execution_count": 8,
     "metadata": {},
     "output_type": "execute_result"
    }
   ],
   "source": [
    "'word' == 'word'"
   ]
  },
  {
   "cell_type": "code",
   "execution_count": 9,
   "id": "ab098824-0675-4071-b87c-1ee4fae0bd69",
   "metadata": {},
   "outputs": [
    {
     "data": {
      "text/plain": [
       "False"
      ]
     },
     "execution_count": 9,
     "metadata": {},
     "output_type": "execute_result"
    }
   ],
   "source": [
    "'word' == 'WORD'"
   ]
  },
  {
   "cell_type": "code",
   "execution_count": 10,
   "id": "b5ff422d-b9cb-4e8b-8de8-335e65e30b2d",
   "metadata": {},
   "outputs": [
    {
     "data": {
      "text/plain": [
       "True"
      ]
     },
     "execution_count": 10,
     "metadata": {},
     "output_type": "execute_result"
    }
   ],
   "source": [
    "'word' == 'WORD'.lower()"
   ]
  },
  {
   "cell_type": "code",
   "execution_count": 11,
   "id": "85a7dadb-5630-43f7-8634-fb4303a13cc1",
   "metadata": {},
   "outputs": [
    {
     "data": {
      "text/plain": [
       "False"
      ]
     },
     "execution_count": 11,
     "metadata": {},
     "output_type": "execute_result"
    }
   ],
   "source": [
    "'word' != 'word'"
   ]
  },
  {
   "cell_type": "code",
   "execution_count": 12,
   "id": "d35aa0be-df2d-4dbc-9f75-3e0184b67e81",
   "metadata": {},
   "outputs": [
    {
     "data": {
      "text/plain": [
       "False"
      ]
     },
     "execution_count": 12,
     "metadata": {},
     "output_type": "execute_result"
    }
   ],
   "source": [
    "len('word') > len('word')"
   ]
  },
  {
   "cell_type": "code",
   "execution_count": 13,
   "id": "d6509bf8-c242-4930-9391-9c7dd852062c",
   "metadata": {},
   "outputs": [
    {
     "data": {
      "text/plain": [
       "True"
      ]
     },
     "execution_count": 13,
     "metadata": {},
     "output_type": "execute_result"
    }
   ],
   "source": [
    "len('word') >= len('word')"
   ]
  },
  {
   "cell_type": "code",
   "execution_count": 14,
   "id": "79488a42-ee33-4e3c-a5dd-f428bf8ab1e3",
   "metadata": {},
   "outputs": [
    {
     "data": {
      "text/plain": [
       "True"
      ]
     },
     "execution_count": 14,
     "metadata": {},
     "output_type": "execute_result"
    }
   ],
   "source": [
    "len('words') > len('word')"
   ]
  },
  {
   "cell_type": "code",
   "execution_count": 15,
   "id": "1262f47d-acba-4d91-80b7-b78f361add65",
   "metadata": {},
   "outputs": [
    {
     "data": {
      "text/plain": [
       "False"
      ]
     },
     "execution_count": 15,
     "metadata": {},
     "output_type": "execute_result"
    }
   ],
   "source": [
    "len('word') < len('word')"
   ]
  },
  {
   "cell_type": "code",
   "execution_count": 16,
   "id": "72ff220d-7782-4f20-8808-ee12586dff6f",
   "metadata": {},
   "outputs": [
    {
     "data": {
      "text/plain": [
       "True"
      ]
     },
     "execution_count": 16,
     "metadata": {},
     "output_type": "execute_result"
    }
   ],
   "source": [
    "len('word') <= len('word')"
   ]
  },
  {
   "cell_type": "code",
   "execution_count": 17,
   "id": "c2ee502f-f9cc-4df9-8859-6eb4b12d27db",
   "metadata": {},
   "outputs": [
    {
     "data": {
      "text/plain": [
       "True"
      ]
     },
     "execution_count": 17,
     "metadata": {},
     "output_type": "execute_result"
    }
   ],
   "source": [
    "'or' in 'word'"
   ]
  },
  {
   "cell_type": "code",
   "execution_count": 18,
   "id": "d31b6b03-e422-4226-b40d-40c9c70a5315",
   "metadata": {},
   "outputs": [
    {
     "data": {
      "text/plain": [
       "False"
      ]
     },
     "execution_count": 18,
     "metadata": {},
     "output_type": "execute_result"
    }
   ],
   "source": [
    "'nor' in 'word'"
   ]
  },
  {
   "cell_type": "code",
   "execution_count": 19,
   "id": "942c8cef-02f8-430a-b8b3-5571a0f2eb12",
   "metadata": {},
   "outputs": [
    {
     "data": {
      "text/plain": [
       "True"
      ]
     },
     "execution_count": 19,
     "metadata": {},
     "output_type": "execute_result"
    }
   ],
   "source": [
    "'nor' not in 'word'"
   ]
  },
  {
   "cell_type": "code",
   "execution_count": 20,
   "id": "7008f6f9-6bfc-439b-bb70-291b0673a034",
   "metadata": {},
   "outputs": [],
   "source": [
    "my_list = [1, 2, 3]"
   ]
  },
  {
   "cell_type": "code",
   "execution_count": 21,
   "id": "10929303-a711-4a58-bcdc-eeb6b311f06c",
   "metadata": {},
   "outputs": [
    {
     "data": {
      "text/plain": [
       "True"
      ]
     },
     "execution_count": 21,
     "metadata": {},
     "output_type": "execute_result"
    }
   ],
   "source": [
    "2 in my_list"
   ]
  },
  {
   "cell_type": "code",
   "execution_count": 22,
   "id": "9cdff7c3-c6a4-4e9e-82c8-66c91184a096",
   "metadata": {},
   "outputs": [
    {
     "data": {
      "text/plain": [
       "False"
      ]
     },
     "execution_count": 22,
     "metadata": {},
     "output_type": "execute_result"
    }
   ],
   "source": [
    "4 in my_list"
   ]
  },
  {
   "cell_type": "code",
   "execution_count": 23,
   "id": "031d3d54-f3b9-4ad0-a325-9a3899fb695f",
   "metadata": {},
   "outputs": [
    {
     "data": {
      "text/plain": [
       "False"
      ]
     },
     "execution_count": 23,
     "metadata": {},
     "output_type": "execute_result"
    }
   ],
   "source": [
    "3 in my_list and 'nor' in 'word'"
   ]
  },
  {
   "cell_type": "code",
   "execution_count": 24,
   "id": "c58fa034-d112-45b5-9a19-0c1b87d796a6",
   "metadata": {},
   "outputs": [
    {
     "data": {
      "text/plain": [
       "True"
      ]
     },
     "execution_count": 24,
     "metadata": {},
     "output_type": "execute_result"
    }
   ],
   "source": [
    "3 in my_list or 'nor' in 'word'"
   ]
  },
  {
   "cell_type": "code",
   "execution_count": 25,
   "id": "defa972d-1ae3-4d92-883a-e790980e5f71",
   "metadata": {},
   "outputs": [
    {
     "data": {
      "text/plain": [
       "True"
      ]
     },
     "execution_count": 25,
     "metadata": {},
     "output_type": "execute_result"
    }
   ],
   "source": [
    "3 in my_list or 'nor' in word"
   ]
  },
  {
   "cell_type": "code",
   "execution_count": 26,
   "id": "a8e64035-2bb8-4cfd-a31d-8fd8f0a6221c",
   "metadata": {},
   "outputs": [
    {
     "ename": "NameError",
     "evalue": "name 'word' is not defined",
     "output_type": "error",
     "traceback": [
      "\u001b[0;31m---------------------------------------------------------------------------\u001b[0m",
      "\u001b[0;31mNameError\u001b[0m                                 Traceback (most recent call last)",
      "Cell \u001b[0;32mIn[26], line 1\u001b[0m\n\u001b[0;32m----> 1\u001b[0m \u001b[38;5;241m3\u001b[39m \u001b[38;5;129;01min\u001b[39;00m my_list \u001b[38;5;129;01mand\u001b[39;00m \u001b[38;5;124m'\u001b[39m\u001b[38;5;124mnor\u001b[39m\u001b[38;5;124m'\u001b[39m \u001b[38;5;129;01min\u001b[39;00m \u001b[43mword\u001b[49m\n",
      "\u001b[0;31mNameError\u001b[0m: name 'word' is not defined"
     ]
    }
   ],
   "source": [
    "3 in my_list and 'nor' in word"
   ]
  },
  {
   "cell_type": "code",
   "execution_count": 27,
   "id": "ee09128c-519f-44f7-bb27-f510bdbc7fe2",
   "metadata": {},
   "outputs": [
    {
     "data": {
      "text/plain": [
       "False"
      ]
     },
     "execution_count": 27,
     "metadata": {},
     "output_type": "execute_result"
    }
   ],
   "source": [
    "4 in my_list or ('nor' in 'word' and 'd' in 'word')"
   ]
  },
  {
   "cell_type": "code",
   "execution_count": 28,
   "id": "91f90b60-172b-4f4d-91d8-292ff5db7d4d",
   "metadata": {},
   "outputs": [
    {
     "data": {
      "text/plain": [
       "True"
      ]
     },
     "execution_count": 28,
     "metadata": {},
     "output_type": "execute_result"
    }
   ],
   "source": [
    "4 in my_list or ('nor' in 'word' or 'd' in 'word')"
   ]
  },
  {
   "cell_type": "code",
   "execution_count": null,
   "id": "3feb7066-2de0-4606-8d98-38cdef848617",
   "metadata": {},
   "outputs": [],
   "source": []
  }
 ],
 "metadata": {
  "kernelspec": {
   "display_name": "Python 3 (ipykernel)",
   "language": "python",
   "name": "python3"
  },
  "language_info": {
   "codemirror_mode": {
    "name": "ipython",
    "version": 3
   },
   "file_extension": ".py",
   "mimetype": "text/x-python",
   "name": "python",
   "nbconvert_exporter": "python",
   "pygments_lexer": "ipython3",
   "version": "3.11.10"
  }
 },
 "nbformat": 4,
 "nbformat_minor": 5
}
