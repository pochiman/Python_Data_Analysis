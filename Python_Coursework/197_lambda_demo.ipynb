{
 "cells": [
  {
   "cell_type": "code",
   "execution_count": 1,
   "id": "84bf029f-d4dc-47a9-a2b2-62db86252def",
   "metadata": {},
   "outputs": [],
   "source": [
    "customer_ids = [\"C00001\", \"C00002\", \"C00005\", \"C11111\"]"
   ]
  },
  {
   "cell_type": "code",
   "execution_count": 2,
   "id": "1f1ec18f-da50-421e-a454-400716c00a0a",
   "metadata": {},
   "outputs": [
    {
     "data": {
      "text/plain": [
       "[1, 2, 5, 11111]"
      ]
     },
     "execution_count": 2,
     "metadata": {},
     "output_type": "execute_result"
    }
   ],
   "source": [
    "list(map(lambda x: int(x[1:]), customer_ids))"
   ]
  },
  {
   "cell_type": "code",
   "execution_count": null,
   "id": "e4ea3831-e918-48af-89de-9e5826de7107",
   "metadata": {},
   "outputs": [],
   "source": []
  }
 ],
 "metadata": {
  "kernelspec": {
   "display_name": "Python 3 (ipykernel)",
   "language": "python",
   "name": "python3"
  },
  "language_info": {
   "codemirror_mode": {
    "name": "ipython",
    "version": 3
   },
   "file_extension": ".py",
   "mimetype": "text/x-python",
   "name": "python",
   "nbconvert_exporter": "python",
   "pygments_lexer": "ipython3",
   "version": "3.11.10"
  }
 },
 "nbformat": 4,
 "nbformat_minor": 5
}
