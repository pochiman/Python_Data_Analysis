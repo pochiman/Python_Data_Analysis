{
 "cells": [
  {
   "cell_type": "markdown",
   "id": "a298621c",
   "metadata": {},
   "source": [
    "### Total Cost of European Items\n",
    "\n",
    "Below is the code to recreate our European item dictionary.\n",
    "\n",
    "Run the cells below, then follow the instructions below."
   ]
  },
  {
   "cell_type": "code",
   "execution_count": 1,
   "id": "45f1ca40",
   "metadata": {},
   "outputs": [],
   "source": [
    "# Data for dictionary - run this cell and the followwing to create it\n",
    "\n",
    "item_ids = [\n",
    "    10001, 10002, 10003, 10004, 10005, \n",
    "    10006, 10007, 10008, 10009\n",
    "]\n",
    "\n",
    "item_names = [\n",
    "    \"Coffee\", \"Beanie\", \"Gloves\", \"Sweatshirt\", \"Helmet\",\n",
    "    \"Snow Pants\", \"Coat\", \"Ski Poles\", \"Ski Boots\"\n",
    "]\n",
    "\n",
    "euro_prices = [\n",
    "    5.27, 8.79, 17.59, 21.99, 87.99, \n",
    "    70.39, 105.59, 87.99, 175.99\n",
    "]\n",
    "\n",
    "item_category = [\n",
    "    \"beverage\", \"clothing\", \"clothing\", \"clothing\", \"safety\",\n",
    "    \"clothing\", \"clothing\", \"hardware\", \"hardware\",\n",
    "]\n",
    "\n",
    "sizes = [\n",
    "    [\"250mL\"],\n",
    "    [\"Child\", \"Adult\"],\n",
    "    [\"Child\", \"Adult\"],\n",
    "    [\"XS\", \"S\", \"M\", \"L\", \"XL\", \"XXL\"],\n",
    "    [\"Child\", \"Adult\"],\n",
    "    [\"XS\", \"S\", \"M\", \"L\", \"XL\", \"XXL\"],\n",
    "    [\"S\", \"M\", \"L\"],\n",
    "    [\"S\", \"M\", \"L\"],\n",
    "    [5, 6, 7, 8, 9, 10, 11],\n",
    "    [\"S\", \"M\", \"L\"],\n",
    "    [5, 6, 7, 8, 9, 10, 11],\n",
    "    [\"NA\"],\n",
    "    [\"S\", \"M\", \"L\", \"Powder\"]\n",
    "]"
   ]
  },
  {
   "cell_type": "code",
   "execution_count": 2,
   "id": "1598d494",
   "metadata": {},
   "outputs": [
    {
     "data": {
      "text/plain": [
       "{10001: ['Coffee', 5.27, 'beverage', ['250mL']],\n",
       " 10002: ['Beanie', 8.79, 'clothing', ['Child', 'Adult']],\n",
       " 10003: ['Gloves', 17.59, 'clothing', ['Child', 'Adult']],\n",
       " 10004: ['Sweatshirt', 21.99, 'clothing', ['XS', 'S', 'M', 'L', 'XL', 'XXL']],\n",
       " 10005: ['Helmet', 87.99, 'safety', ['Child', 'Adult']],\n",
       " 10006: ['Snow Pants', 70.39, 'clothing', ['XS', 'S', 'M', 'L', 'XL', 'XXL']],\n",
       " 10007: ['Coat', 105.59, 'clothing', ['S', 'M', 'L']],\n",
       " 10008: ['Ski Poles', 87.99, 'hardware', ['S', 'M', 'L']],\n",
       " 10009: ['Ski Boots', 175.99, 'hardware', [5, 6, 7, 8, 9, 10, 11]]}"
      ]
     },
     "execution_count": 2,
     "metadata": {},
     "output_type": "execute_result"
    }
   ],
   "source": [
    "# This is a dictionary comprehension\n",
    "# We'll see an example after this assignment!\n",
    "\n",
    "euro_data = {\n",
    "    item_id: [name, price, category, sizes]\n",
    "    for item_id, name, price, category, sizes in zip(\n",
    "        item_ids, item_names, euro_prices, item_category, sizes\n",
    "    )\n",
    "}\n",
    "\n",
    "euro_data"
   ]
  },
  {
   "cell_type": "markdown",
   "id": "134eed00",
   "metadata": {},
   "source": [
    "### Calculate the Total Cost of Items\n",
    "\n",
    "Calculate the amount it would cost to purchase all the items in euro_data.\n",
    "\n",
    "Use a list comprehension to collect them into a list. "
   ]
  },
  {
   "cell_type": "code",
   "execution_count": 3,
   "id": "9d248bd0",
   "metadata": {},
   "outputs": [
    {
     "data": {
      "text/plain": [
       "[['Coffee', 5.27, 'beverage', ['250mL']],\n",
       " ['Beanie', 8.79, 'clothing', ['Child', 'Adult']],\n",
       " ['Gloves', 17.59, 'clothing', ['Child', 'Adult']],\n",
       " ['Sweatshirt', 21.99, 'clothing', ['XS', 'S', 'M', 'L', 'XL', 'XXL']],\n",
       " ['Helmet', 87.99, 'safety', ['Child', 'Adult']],\n",
       " ['Snow Pants', 70.39, 'clothing', ['XS', 'S', 'M', 'L', 'XL', 'XXL']],\n",
       " ['Coat', 105.59, 'clothing', ['S', 'M', 'L']],\n",
       " ['Ski Poles', 87.99, 'hardware', ['S', 'M', 'L']],\n",
       " ['Ski Boots', 175.99, 'hardware', [5, 6, 7, 8, 9, 10, 11]]]"
      ]
     },
     "execution_count": 3,
     "metadata": {},
     "output_type": "execute_result"
    }
   ],
   "source": [
    "[value for value in euro_data.values()]"
   ]
  },
  {
   "cell_type": "code",
   "execution_count": 4,
   "id": "21e4f308-86d4-4fc7-9268-d14d8f7e90b9",
   "metadata": {},
   "outputs": [
    {
     "data": {
      "text/plain": [
       "[5.27, 8.79, 17.59, 21.99, 87.99, 70.39, 105.59, 87.99, 175.99]"
      ]
     },
     "execution_count": 4,
     "metadata": {},
     "output_type": "execute_result"
    }
   ],
   "source": [
    "[value[1] for value in euro_data.values()]"
   ]
  },
  {
   "cell_type": "code",
   "execution_count": 5,
   "id": "c22153b2-3af9-43e0-9a28-b7b35d64ede6",
   "metadata": {},
   "outputs": [
    {
     "data": {
      "text/plain": [
       "581.59"
      ]
     },
     "execution_count": 5,
     "metadata": {},
     "output_type": "execute_result"
    }
   ],
   "source": [
    "sum([value[1] for value in euro_data.values()])"
   ]
  },
  {
   "cell_type": "code",
   "execution_count": null,
   "id": "f9d44850-7739-48ed-b497-3cbac0b2e8b9",
   "metadata": {},
   "outputs": [],
   "source": []
  }
 ],
 "metadata": {
  "kernelspec": {
   "display_name": "Python 3 (ipykernel)",
   "language": "python",
   "name": "python3"
  },
  "language_info": {
   "codemirror_mode": {
    "name": "ipython",
    "version": 3
   },
   "file_extension": ".py",
   "mimetype": "text/x-python",
   "name": "python",
   "nbconvert_exporter": "python",
   "pygments_lexer": "ipython3",
   "version": "3.11.10"
  }
 },
 "nbformat": 4,
 "nbformat_minor": 5
}
