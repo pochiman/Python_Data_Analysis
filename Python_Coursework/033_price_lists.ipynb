{
 "cells": [
  {
   "cell_type": "markdown",
   "id": "77abe6dd",
   "metadata": {},
   "source": [
    "### Fix the Variable Names"
   ]
  },
  {
   "cell_type": "code",
   "execution_count": 1,
   "id": "f86c31f5",
   "metadata": {},
   "outputs": [],
   "source": [
    "price_list_2018 = [4.99, 8.99, 17.99, 22.99, 94.99]"
   ]
  },
  {
   "cell_type": "code",
   "execution_count": 2,
   "id": "f4cbccf7",
   "metadata": {},
   "outputs": [],
   "source": [
    "price_list_2019 = [5.99, 9.99, 19.99, 24.99, 99.99]"
   ]
  },
  {
   "cell_type": "code",
   "execution_count": 3,
   "id": "156d296d",
   "metadata": {},
   "outputs": [],
   "source": [
    "price_list_2020 = [6.49, 10.49, 19.99, 26.99, 104.99]"
   ]
  },
  {
   "cell_type": "code",
   "execution_count": 4,
   "id": "2ffd065f-48e5-4b9d-971d-8ebea301d72c",
   "metadata": {},
   "outputs": [
    {
     "name": "stdout",
     "output_type": "stream",
     "text": [
      "Variable          Type    Data/Info\n",
      "-----------------------------------\n",
      "price_list_2018   list    n=5\n",
      "price_list_2019   list    n=5\n",
      "price_list_2020   list    n=5\n"
     ]
    }
   ],
   "source": [
    "%whos"
   ]
  },
  {
   "cell_type": "code",
   "execution_count": 1,
   "id": "4ab27a87-6eaf-49ff-8b79-ac9d8e567fe6",
   "metadata": {},
   "outputs": [
    {
     "ename": "NameError",
     "evalue": "name 'prices' is not defined",
     "output_type": "error",
     "traceback": [
      "\u001b[0;31m---------------------------------------------------------------------------\u001b[0m",
      "\u001b[0;31mNameError\u001b[0m                                 Traceback (most recent call last)",
      "Cell \u001b[0;32mIn[1], line 1\u001b[0m\n\u001b[0;32m----> 1\u001b[0m \u001b[38;5;28;01mdel\u001b[39;00m \u001b[43mprices\u001b[49m\n",
      "\u001b[0;31mNameError\u001b[0m: name 'prices' is not defined"
     ]
    }
   ],
   "source": [
    "del prices"
   ]
  },
  {
   "cell_type": "code",
   "execution_count": null,
   "id": "407ffc76-7e60-4651-bcdd-175972688574",
   "metadata": {},
   "outputs": [],
   "source": []
  }
 ],
 "metadata": {
  "kernelspec": {
   "display_name": "Python 3 (ipykernel)",
   "language": "python",
   "name": "python3"
  },
  "language_info": {
   "codemirror_mode": {
    "name": "ipython",
    "version": 3
   },
   "file_extension": ".py",
   "mimetype": "text/x-python",
   "name": "python",
   "nbconvert_exporter": "python",
   "pygments_lexer": "ipython3",
   "version": "3.11.10"
  }
 },
 "nbformat": 4,
 "nbformat_minor": 5
}
