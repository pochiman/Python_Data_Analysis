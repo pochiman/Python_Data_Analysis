{
 "cells": [
  {
   "cell_type": "code",
   "execution_count": 1,
   "id": "7107adff-79a7-440f-aa70-380300457383",
   "metadata": {},
   "outputs": [],
   "source": [
    "customer_ratings = [\n",
    "    '5 stars', '3 stars', '1 star', '5 stars', '1 star', '4 stars', \n",
    "    '4 stars', '1 star', '1 star', '5 stars', '2 stars', '4 stars'\n",
    "    ]"
   ]
  },
  {
   "cell_type": "code",
   "execution_count": 2,
   "id": "b7992891-4ceb-4357-8859-300fb128e20d",
   "metadata": {},
   "outputs": [
    {
     "name": "stdout",
     "output_type": "stream",
     "text": [
      "1\n",
      "2\n",
      "3\n",
      "4\n"
     ]
    },
    {
     "data": {
      "text/plain": [
       "['5 stars',\n",
       " '3 stars',\n",
       " '5 stars',\n",
       " '4 stars',\n",
       " '4 stars',\n",
       " '5 stars',\n",
       " '2 stars',\n",
       " '4 stars']"
      ]
     },
     "execution_count": 2,
     "metadata": {},
     "output_type": "execute_result"
    }
   ],
   "source": [
    "onestar_counter = 0\n",
    "\n",
    "while '1 star' in customer_ratings:\n",
    "    customer_ratings.remove('1 star')\n",
    "    onestar_counter += 1\n",
    "    print(onestar_counter)\n",
    "\n",
    "customer_ratings"
   ]
  },
  {
   "cell_type": "code",
   "execution_count": null,
   "id": "cec095c2-3bbe-4229-8ed4-28b2ef50d0fe",
   "metadata": {},
   "outputs": [],
   "source": []
  }
 ],
 "metadata": {
  "kernelspec": {
   "display_name": "Python 3 (ipykernel)",
   "language": "python",
   "name": "python3"
  },
  "language_info": {
   "codemirror_mode": {
    "name": "ipython",
    "version": 3
   },
   "file_extension": ".py",
   "mimetype": "text/x-python",
   "name": "python",
   "nbconvert_exporter": "python",
   "pygments_lexer": "ipython3",
   "version": "3.11.10"
  }
 },
 "nbformat": 4,
 "nbformat_minor": 5
}
