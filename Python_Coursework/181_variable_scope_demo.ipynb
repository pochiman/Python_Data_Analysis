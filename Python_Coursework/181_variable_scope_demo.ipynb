{
 "cells": [
  {
   "cell_type": "code",
   "execution_count": 1,
   "id": "e67605f4-1d4d-48c3-a8f7-6dcaa4b7f75f",
   "metadata": {},
   "outputs": [],
   "source": [
    "website_ratings = [\"5 stars\", \"4 stars\", \"3 stars\"]"
   ]
  },
  {
   "cell_type": "code",
   "execution_count": 2,
   "id": "305ad9e0-bf17-472a-adad-04fe72d67b38",
   "metadata": {},
   "outputs": [],
   "source": [
    "def rating_cleaner(rating):\n",
    "    numeric_rating = int(rating[0])\n",
    "    return numeric_rating"
   ]
  },
  {
   "cell_type": "code",
   "execution_count": 4,
   "id": "c8b6c3cf-b586-44c2-8ac4-323229a3965c",
   "metadata": {},
   "outputs": [],
   "source": [
    "numeric_rating = rating_cleaner(website_ratings[0])"
   ]
  },
  {
   "cell_type": "code",
   "execution_count": 5,
   "id": "85816232-4927-40e7-8f9d-ec4abfc1b31a",
   "metadata": {},
   "outputs": [
    {
     "data": {
      "text/plain": [
       "5"
      ]
     },
     "execution_count": 5,
     "metadata": {},
     "output_type": "execute_result"
    }
   ],
   "source": [
    "numeric_rating"
   ]
  },
  {
   "cell_type": "code",
   "execution_count": null,
   "id": "304b19f3-79bc-41f9-a9e5-24aed3fe40ae",
   "metadata": {},
   "outputs": [],
   "source": []
  }
 ],
 "metadata": {
  "kernelspec": {
   "display_name": "Python 3 (ipykernel)",
   "language": "python",
   "name": "python3"
  },
  "language_info": {
   "codemirror_mode": {
    "name": "ipython",
    "version": 3
   },
   "file_extension": ".py",
   "mimetype": "text/x-python",
   "name": "python",
   "nbconvert_exporter": "python",
   "pygments_lexer": "ipython3",
   "version": "3.11.10"
  }
 },
 "nbformat": 4,
 "nbformat_minor": 5
}
